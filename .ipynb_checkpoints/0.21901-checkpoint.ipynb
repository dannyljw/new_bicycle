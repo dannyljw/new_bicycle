{
 "cells": [
  {
   "cell_type": "code",
   "execution_count": 1,
   "id": "f1196a26",
   "metadata": {
    "ExecuteTime": {
     "end_time": "2022-06-28T14:27:34.699096Z",
     "start_time": "2022-06-28T14:27:28.327166Z"
    }
   },
   "outputs": [],
   "source": [
    "import xgboost as xgb\n",
    "import matplotlib.pyplot as plt\n",
    "from sklearn.linear_model import LinearRegression\n",
    "from sklearn.preprocessing import QuantileTransformer\n",
    "from sklearn.model_selection import train_test_split\n",
    "import seaborn as sns\n",
    "import pandas as pd\n",
    "import numpy as np\n",
    "import warnings\n",
    "warnings.filterwarnings('ignore')"
   ]
  },
  {
   "cell_type": "code",
   "execution_count": 2,
   "id": "f5c7b5f8",
   "metadata": {
    "ExecuteTime": {
     "end_time": "2022-06-28T14:27:34.762302Z",
     "start_time": "2022-06-28T14:27:34.701930Z"
    }
   },
   "outputs": [],
   "source": [
    "def fill_nan(dataframe):\n",
    "    dataframe['precipitation'] = dataframe['precipitation'].fillna(0)\n",
    "    # dataframe = dataframe.dropna()\n",
    "    dataframe = dataframe.fillna(dataframe.mean())\n",
    "    return dataframe\n",
    "\n",
    "\n",
    "def seperate_datetime(dataframe):\n",
    "    week_list = []\n",
    "    year = []\n",
    "    month = []\n",
    "    for date in dataframe.date:\n",
    "        year_point, month_point, day_point = date.split('-')\n",
    "        year.append(int(year_point) - 2017)\n",
    "        month.append(int(month_point))\n",
    "    dataframe['year'] = year\n",
    "    dataframe['month'] = month\n",
    "    for day in dataframe['date']:\n",
    "        num = pd.date_range(day, day, freq='D').to_series()\n",
    "        week_list.append(int(num.dt.dayofweek[0]))\n",
    "    dataframe['day'] = week_list\n",
    "    dataframe = dataframe.drop(['date'], axis=1)\n",
    "    return dataframe\n",
    "\n",
    "\n",
    "def weekday_onehotcode(dataframe):\n",
    "    new = pd.DataFrame()\n",
    "    for i in range(0, 7):\n",
    "        a = dataframe[dataframe['day'] == i]\n",
    "        a['day'] = f'{i}'\n",
    "        new = pd.concat([new, a], axis=0)\n",
    "    new = pd.get_dummies(new)\n",
    "    return new\n",
    "\n",
    "\n",
    "def month_onehotcode(dataframe):\n",
    "    new = pd.DataFrame()\n",
    "    for i in range(1, 13):\n",
    "        a = dataframe[dataframe['month'] == i]\n",
    "        a['month'] = f'{i}'\n",
    "        new = pd.concat([new, a], axis=0)\n",
    "    new = pd.get_dummies(new)\n",
    "    return new\n",
    "\n",
    "\n",
    "\n",
    "def year_onehotcode(dataframe):\n",
    "    a = dataframe[dataframe['year'] == 1]\n",
    "    a['year'] = 'a'\n",
    "    b = dataframe[dataframe['year'] == 2]\n",
    "    b['year'] = 'b'\n",
    "    c = dataframe[dataframe['year'] == 3]\n",
    "    c['year'] = 'c'\n",
    "    dataframe = pd.concat([a, b, c], axis=0)\n",
    "    dataframe = pd.get_dummies(dataframe)\n",
    "    return dataframe\n",
    "\n",
    "def year_onehotcode_test(dataframe):\n",
    "    c = dataframe[dataframe['year'] == 4]\n",
    "    c['year'] = 'c'\n",
    "    dataframe = pd.get_dummies(dataframe)\n",
    "    dataframe['year_a'] = 0\n",
    "    dataframe['year_b'] = 0\n",
    "    return dataframe\n",
    "\n",
    "\n",
    "def rental_rate(dataframe):\n",
    "    y1 = dataframe[dataframe['year'] == 1]['rental'] * 2.3\n",
    "    y2 = dataframe[dataframe['year'] == 2]['rental'] * 1.2\n",
    "    y3 = dataframe[dataframe['year'] == 3]['rental']\n",
    "    new = pd.concat([y1, y2, y3], axis=0).to_frame()\n",
    "    dataframe['rental'] = new['rental']\n",
    "    return True\n",
    "\n",
    "\n",
    "def NMAE(true, pred):\n",
    "    score = np.mean(np.abs(true - pred) / true)\n",
    "    print(score)\n",
    "    return score\n",
    "\n",
    "\n",
    "def enter_week(dataframe):\n",
    "    w_list = [0.993, 1.049, 0.998, 1.013, 1.049, 0.994, 0.903]\n",
    "    for i in range(0, 7):\n",
    "        dataframe[dataframe['day'] == i] *= w_list[i]\n",
    "\n",
    "\n",
    "def enter_month(dataframe):\n",
    "    m_list = [0.324, 0.342, 0.646, 0.992, 1.264, 1.442, 1.001, 1.084, 1.475, 1.502, 1.032, 0.574]\n",
    "    for i in range(0, 12):\n",
    "        dataframe[dataframe['month'] == i+1] *= m_list[i]\n",
    "\n",
    "def enter_week_train(dataframe):\n",
    "    w_list = [0.993, 1.049, 0.998, 1.013, 1.049, 0.994, 0.903]\n",
    "    new = pd.DataFrame()\n",
    "    for i in range(0, 7):\n",
    "        a = pd.DataFrame()\n",
    "        a['rental'] = dataframe[dataframe['day'] == i]['rental'] / w_list[i]\n",
    "        new = pd.concat([new, a],axis=0)\n",
    "    return new\n",
    "\n",
    "def enter_month_train(dataframe):\n",
    "    m_list = [0.324, 0.342, 0.646, 0.992, 1.264, 1.442, 1.001, 1.084, 1.475, 1.502, 1.032, 0.574]\n",
    "    new = pd.DataFrame()\n",
    "    for i in range(1, 13):\n",
    "        a = pd.DataFrame()\n",
    "        a['rental'] = dataframe[dataframe['month'] == i]['rental'] / m_list[i]\n",
    "        new = pd.concat([new, a],axis=0)\n",
    "    return new\n",
    "\n",
    "\n",
    "\n"
   ]
  },
  {
   "cell_type": "code",
   "execution_count": 3,
   "id": "33b4f353",
   "metadata": {
    "ExecuteTime": {
     "end_time": "2022-06-28T14:27:55.101344Z",
     "start_time": "2022-06-28T14:27:34.769853Z"
    }
   },
   "outputs": [],
   "source": [
    "clist = ['temp_lowest*month_8','PM2.5*day_6', 'humidity*month_12']\n",
    "\n",
    "bicycle = pd.read_csv('train.csv')\n",
    "bicycle = seperate_datetime(bicycle)\n",
    "bicycle = fill_nan(bicycle)\n",
    "rental_rate(bicycle)\n",
    "# rental = enter_week_train(bicycle)\n",
    "# bicycle['rental'] = rental\n",
    "# print(bicycle)\n",
    "bicycle = weekday_onehotcode(bicycle)\n",
    "bicycle = month_onehotcode(bicycle)\n",
    "bicycle[\"rental\"] = np.log1p(bicycle[\"rental\"])\n",
    "\n",
    "\n",
    "y = bicycle['rental']\n",
    "bicycle = bicycle.drop(['rental'], axis=1)\n",
    "\n",
    "scaler1 = QuantileTransformer()\n",
    "scaler2 = QuantileTransformer()\n",
    "col___list = ['PM10','PM2.5','sunshine_rate','sunshine_sum','wind_max']\n",
    "# col___list = bicycle.columns\n",
    "scaler1.fit(bicycle[col___list])\n",
    "X_train_scaled = scaler1.transform(bicycle[col___list])\n",
    "bicycle[col___list] =X_train_scaled\n",
    "T = bicycle['temp_mean']  # 섭씨\n",
    "V = bicycle['wind_mean']  # 바람\n",
    "R = bicycle['humidity']  # 습도\n",
    "H = (bicycle['temp_mean'] * 1.8) + 32  # 화씨\n",
    "feel_degree = 13.12 + 0.6215 * T - 11.37 * V**0.16 + 0.3965 * V**0.16\n",
    "badfeel_degree = 9/5 * T - 0.55 * (1 - R/100) * (9/5 * T - 26) + 32\n",
    "heat_degree = -42.379 + 2.05901523 * H + 10.14333127 * R - 0.22475541 * H * R - 6.83783 * 10**-3 * H**2 - 5.481717 * 10**-2 * R**2 + 1.22874 * 10**-3 * H**2 * R + 8.5282 * 10**-4 * H * R**2 - 1.99 * 10**-6 * H**2 * R**2\n",
    "bicycle['dust'] = bicycle['PM10'] * bicycle['PM2.5']\n",
    "bicycle['temp_ratio'] = abs(bicycle['temp_highest'] - bicycle['temp_lowest'])\n",
    "bicycle['daytime'] = bicycle['sunshine_rate'] / bicycle['sunshine_sum']\n",
    "bicycle['daytime'] = bicycle['daytime'].fillna(method='bfill')\n",
    "bicycle['feel_degree'] = feel_degree\n",
    "bicycle['badfeel_degree'] = badfeel_degree\n",
    "\n",
    "\n",
    "pm10=bicycle['PM10'].tolist()\n",
    "pm2=bicycle['PM2.5'].tolist()\n",
    "pm2\n",
    "pm_=[]\n",
    "for i in range(len(pm2)):\n",
    "    if(pm10[i]<=30 or pm2[i]<=15):\n",
    "        pm_.append(1)\n",
    "    elif((pm10[i]<=80 and pm10[i]>30) or (pm2[i] >=16 and pm2[i]<=50)):\n",
    "        pm_.append(2)\n",
    "    elif((pm10[i]<=150 and pm10[i]>80) or  (pm2[i]>50 and pm2[i]<=100)):\n",
    "        pm_.append(3)\n",
    "    elif(pm10[i]>=150 or pm2[i]>100):\n",
    "        pm_.append(4)\n",
    "    \n",
    "len(pm_)\n",
    "\n",
    "bicycle['pm']=pm_\n",
    "\n",
    "\n",
    "\n",
    "\n",
    "\n",
    "\n",
    "\n",
    "\n",
    "\n",
    "col_list = list(bicycle.columns)\n",
    "for i in range(len(col_list)):\n",
    "    for j in range(i, len(col_list)):\n",
    "        bicycle[f'{col_list[i]}*{col_list[j]}'] = bicycle[col_list[i]] * bicycle[col_list[j]]\n",
    "\n",
    "for i in range(len(col_list)):\n",
    "    for j in range(i, len(col_list)):\n",
    "        bicycle[f'{col_list[i]}+{col_list[j]}'] = bicycle[col_list[i]] + bicycle[col_list[j]]\n",
    "\n",
    "for i in range(len(col_list)):\n",
    "    for j in range(i, len(col_list)):\n",
    "        bicycle[f'{col_list[i]}-{col_list[j]}'] = bicycle[col_list[i]] - bicycle[col_list[j]]\n",
    "        \n",
    "bicycle = bicycle.drop(['sunshine_sum'],axis =1)"
   ]
  },
  {
   "cell_type": "code",
   "execution_count": 4,
   "id": "da1d765e",
   "metadata": {
    "ExecuteTime": {
     "end_time": "2022-06-28T14:27:55.127585Z",
     "start_time": "2022-06-28T14:27:55.104666Z"
    }
   },
   "outputs": [],
   "source": [
    "bicycle = bicycle.drop(clist, axis=1)\n",
    "x = bicycle"
   ]
  },
  {
   "cell_type": "code",
   "execution_count": 6,
   "id": "3d6680fc",
   "metadata": {
    "ExecuteTime": {
     "end_time": "2022-06-28T14:28:25.920096Z",
     "start_time": "2022-06-28T14:28:09.550776Z"
    }
   },
   "outputs": [],
   "source": [
    "bicycle_test = pd.read_csv('test.csv')\n",
    "bicycle_test_date = bicycle_test['date']\n",
    "bicycle_test = seperate_datetime(bicycle_test)\n",
    "bicycle_test = fill_nan(bicycle_test)  # 바로 뒤에 값으로 결측치를 채우므로 seperate 밑이 와야함\n",
    "bicycle_test = weekday_onehotcode(bicycle_test)\n",
    "bicycle_test = month_onehotcode(bicycle_test)\n",
    "bicycle_test = bicycle_test.sort_index()\n",
    "\n",
    "\n",
    "scaler2.fit(bicycle_test[col___list])\n",
    "X_train_scaled = scaler2.transform(bicycle_test[col___list])\n",
    "bicycle_test[col___list] =X_train_scaled\n",
    "T = bicycle_test['temp_mean']  # 섭씨\n",
    "V = bicycle_test['wind_mean']  # 바람\n",
    "R = bicycle_test['humidity']  # 습도\n",
    "H = (bicycle_test['temp_mean'] * 1.8) + 32  # 화씨\n",
    "feel_degree = 13.12 + 0.6215 * T - 11.37 * V**0.16 + 0.3965 * V**0.16\n",
    "badfeel_degree = 9/5 * T - 0.55 * (1 - R/100) * (9/5 * T - 26) + 32\n",
    "heat_degree = -42.379 + 2.05901523 * H + 10.14333127 * R - 0.22475541 * H * R - 6.83783 * 10**-3 * H**2 - 5.481717 * 10**-2 * R**2 + 1.22874 * 10**-3 * H**2 * R + 8.5282 * 10**-4 * H * R**2 - 1.99 * 10**-6 * H**2 * R**2\n",
    "bicycle_test['dust'] = bicycle_test['PM10'] * bicycle_test['PM2.5']\n",
    "bicycle_test['temp_ratio'] = abs(bicycle_test['temp_highest'] - bicycle_test['temp_lowest'])\n",
    "bicycle_test['daytime'] = bicycle_test['sunshine_rate'] / bicycle_test['sunshine_sum']\n",
    "bicycle_test['feel_degree'] = feel_degree\n",
    "bicycle_test['daytime'] = bicycle_test['daytime'].fillna(method='bfill')\n",
    "bicycle_test['badfeel_degree'] = badfeel_degree\n",
    "\n",
    "col_list = list(bicycle_test.columns)\n",
    "for i in range(len(col_list)):\n",
    "    for j in range(i, len(col_list)):\n",
    "        bicycle_test[f'{col_list[i]}*{col_list[j]}'] = bicycle_test[col_list[i]] * bicycle_test[col_list[j]]\n",
    "        \n",
    "for i in range(len(col_list)):\n",
    "    for j in range(i, len(col_list)):\n",
    "        bicycle_test[f'{col_list[i]}+{col_list[j]}'] = bicycle_test[col_list[i]] + bicycle_test[col_list[j]]\n",
    "\n",
    "for i in range(len(col_list)):\n",
    "    for j in range(i, len(col_list)):\n",
    "        bicycle_test[f'{col_list[i]}-{col_list[j]}'] = bicycle_test[col_list[i]] - bicycle_test[col_list[j]]\n",
    "\n",
    "\n",
    "bicycle_test = bicycle_test.drop(['sunshine_sum'], axis = 1)"
   ]
  },
  {
   "cell_type": "code",
   "execution_count": 7,
   "id": "1172fdcb",
   "metadata": {
    "ExecuteTime": {
     "end_time": "2022-06-28T14:28:25.934704Z",
     "start_time": "2022-06-28T14:28:25.922890Z"
    }
   },
   "outputs": [],
   "source": [
    "bicycle_test = bicycle_test.drop(clist, axis=1)\n",
    "x2 = bicycle_test\n",
    "\n",
    "X_train = x\n",
    "y_train = y\n",
    "X_test = x2"
   ]
  },
  {
   "cell_type": "code",
   "execution_count": 8,
   "id": "72a30468",
   "metadata": {
    "ExecuteTime": {
     "end_time": "2022-06-28T14:28:25.949394Z",
     "start_time": "2022-06-28T14:28:25.939923Z"
    }
   },
   "outputs": [
    {
     "name": "stdout",
     "output_type": "stream",
     "text": [
      "(1095, 2030)\n",
      "(1095,)\n",
      "(365, 2030)\n"
     ]
    }
   ],
   "source": [
    "print(X_train.shape)\n",
    "print(y_train.shape)\n",
    "print(X_test.shape)"
   ]
  },
  {
   "cell_type": "code",
   "execution_count": 9,
   "id": "c6189f53",
   "metadata": {
    "ExecuteTime": {
     "end_time": "2022-06-28T14:30:17.676101Z",
     "start_time": "2022-06-28T14:28:25.955621Z"
    }
   },
   "outputs": [
    {
     "name": "stdout",
     "output_type": "stream",
     "text": [
      "1347 [('month_10', 1.0), ('month_11', 1.0), ('month_2', 1.0), ('month_3', 1.0), ('month_4', 1.0), ('month_5', 1.0), ('precipitation*month_4', 1.0), ('precipitation*month_8', 1.0), ('precipitation*badfeel_degree', 1.0), ('temp_mean*month_6', 1.0), ('temp_mean*badfeel_degree', 1.0), ('temp_highest*month_3', 1.0), ('temp_highest*month_7', 1.0), ('temp_lowest*month_10', 1.0), ('temp_lowest*month_6', 1.0), ('PM10*month_8', 1.0), ('PM2.5*month_12', 1.0), ('PM2.5*month_5', 1.0), ('PM2.5*month_7', 1.0), ('humidity*day_3', 1.0), ('sunshine_sum*month_2', 1.0), ('sunshine_sum*month_6', 1.0), ('sunshine_rate*month_10', 1.0), ('sunshine_rate*month_5', 1.0), ('wind_mean*day_2', 1.0), ('wind_mean*month_10', 1.0), ('wind_mean*month_12', 1.0), ('wind_max*day_5', 1.0), ('wind_max*month_7', 1.0), ('year*day_1', 1.0), ('year*day_2', 1.0), ('year*day_3', 1.0), ('year*day_6', 1.0), ('year*month_10', 1.0), ('year*month_7', 1.0), ('year*month_8', 1.0), ('day_0*month_1', 1.0), ('day_0*month_12', 1.0), ('day_0*month_8', 1.0), ('day_0*dust', 1.0), ('day_2*badfeel_degree', 1.0), ('day_3*month_11', 1.0), ('day_3*month_6', 1.0), ('day_3*badfeel_degree', 1.0), ('day_4*dust', 1.0), ('day_5*month_12', 1.0), ('day_5*month_3', 1.0), ('day_5*dust', 1.0), ('day_6*month_10', 1.0), ('day_6*month_12', 1.0), ('day_6*month_9', 1.0), ('month_11*feel_degree', 1.0), ('month_2*temp_ratio', 1.0), ('month_4*dust', 1.0), ('month_4*feel_degree', 1.0), ('month_8*feel_degree', 1.0), ('feel_degree*badfeel_degree', 1.0), ('precipitation+year', 1.0), ('precipitation+month_1', 1.0), ('precipitation+month_11', 1.0), ('precipitation+month_12', 1.0), ('precipitation+month_4', 1.0), ('precipitation+month_8', 1.0), ('precipitation+month_9', 1.0), ('temp_mean+temp_highest', 1.0), ('temp_mean+sunshine_sum', 1.0), ('temp_mean+day_1', 1.0), ('temp_mean+day_4', 1.0), ('temp_highest+wind_max', 1.0), ('temp_highest+day_0', 1.0), ('temp_highest+month_1', 1.0), ('temp_highest+month_2', 1.0), ('temp_highest+month_7', 1.0), ('temp_highest+month_8', 1.0), ('temp_highest+month_9', 1.0), ('temp_highest+daytime', 1.0), ('temp_lowest+day_3', 1.0), ('temp_lowest+month_11', 1.0), ('temp_lowest+month_12', 1.0), ('temp_lowest+month_4', 1.0), ('temp_lowest+month_7', 1.0), ('temp_lowest+month_8', 1.0), ('temp_lowest+dust', 1.0), ('temp_lowest+daytime', 1.0), ('PM10+feel_degree', 1.0), ('PM2.5+month_12', 1.0), ('PM2.5+dust', 1.0), ('humidity+sunshine_rate', 1.0), ('humidity+wind_max', 1.0), ('humidity+day_3', 1.0), ('humidity+day_4', 1.0), ('humidity+month_1', 1.0), ('humidity+month_10', 1.0), ('humidity+month_11', 1.0), ('humidity+month_7', 1.0), ('humidity+dust', 1.0), ('wind_mean+feel_degree', 1.0), ('year+day_1', 1.0), ('year+day_3', 1.0), ('year+month_1', 1.0), ('year+month_10', 1.0), ('year+month_12', 1.0), ('year+month_5', 1.0), ('year+month_9', 1.0), ('day_0+month_1', 1.0), ('day_0+month_10', 1.0), ('day_0+month_11', 1.0), ('day_0+month_4', 1.0), ('day_0+month_5', 1.0), ('day_0+month_8', 1.0), ('day_0+month_9', 1.0), ('day_0+badfeel_degree', 1.0), ('day_1+month_1', 1.0), ('day_1+month_3', 1.0), ('day_1+month_5', 1.0), ('day_1+month_9', 1.0), ('day_2+day_4', 1.0), ('day_2+day_6', 1.0), ('day_2+month_2', 1.0), ('day_2+month_7', 1.0), ('day_3+month_1', 1.0), ('day_4+day_5', 1.0), ('day_4+day_6', 1.0), ('day_4+month_1', 1.0), ('day_4+month_11', 1.0), ('day_4+month_4', 1.0), ('day_4+month_8', 1.0), ('day_4+badfeel_degree', 1.0), ('day_5+month_3', 1.0), ('day_5+month_6', 1.0), ('day_6+month_10', 1.0), ('day_6+month_11', 1.0), ('day_6+month_12', 1.0), ('day_6+month_9', 1.0), ('month_1+month_3', 1.0), ('month_1+month_4', 1.0), ('month_1+feel_degree', 1.0), ('month_10+month_11', 1.0), ('month_10+month_8', 1.0), ('month_10+badfeel_degree', 1.0), ('month_11+month_4', 1.0), ('month_11+month_7', 1.0), ('month_11+month_9', 1.0), ('month_11+temp_ratio', 1.0), ('month_12+month_7', 1.0), ('month_12+feel_degree', 1.0), ('month_2+month_4', 1.0), ('month_2+month_6', 1.0), ('month_2+temp_ratio', 1.0), ('month_3+month_6', 1.0)]\n"
     ]
    },
    {
     "ename": "FileNotFoundError",
     "evalue": "[Errno 2] No such file or directory: 'real_data.csv'",
     "output_type": "error",
     "traceback": [
      "\u001b[0;31m---------------------------------------------------------------------------\u001b[0m",
      "\u001b[0;31mFileNotFoundError\u001b[0m                         Traceback (most recent call last)",
      "Input \u001b[0;32mIn [9]\u001b[0m, in \u001b[0;36m<module>\u001b[0;34m\u001b[0m\n\u001b[1;32m     21\u001b[0m \u001b[38;5;66;03m# enter_month(result)\u001b[39;00m\n\u001b[1;32m     22\u001b[0m result \u001b[38;5;241m=\u001b[39m pd\u001b[38;5;241m.\u001b[39mconcat([bicycle_test_date, result[\u001b[38;5;124m'\u001b[39m\u001b[38;5;124mrental\u001b[39m\u001b[38;5;124m'\u001b[39m]],axis\u001b[38;5;241m=\u001b[39m\u001b[38;5;241m1\u001b[39m)\n\u001b[0;32m---> 23\u001b[0m real_data \u001b[38;5;241m=\u001b[39m \u001b[43mpd\u001b[49m\u001b[38;5;241;43m.\u001b[39;49m\u001b[43mread_csv\u001b[49m\u001b[43m(\u001b[49m\u001b[38;5;124;43m'\u001b[39;49m\u001b[38;5;124;43mreal_data.csv\u001b[39;49m\u001b[38;5;124;43m'\u001b[39;49m\u001b[43m)\u001b[49m\n\u001b[1;32m     24\u001b[0m NMAE(real_data[\u001b[38;5;124m'\u001b[39m\u001b[38;5;124mrental\u001b[39m\u001b[38;5;124m'\u001b[39m],pred[\u001b[38;5;124m'\u001b[39m\u001b[38;5;124mrental\u001b[39m\u001b[38;5;124m'\u001b[39m])\n\u001b[1;32m     25\u001b[0m result\u001b[38;5;241m.\u001b[39mto_csv(\u001b[38;5;124m'\u001b[39m\u001b[38;5;124m2hello.csv\u001b[39m\u001b[38;5;124m'\u001b[39m,index\u001b[38;5;241m=\u001b[39m\u001b[38;5;28;01mFalse\u001b[39;00m)\n",
      "File \u001b[0;32m/Library/Frameworks/Python.framework/Versions/3.9/lib/python3.9/site-packages/pandas/util/_decorators.py:311\u001b[0m, in \u001b[0;36mdeprecate_nonkeyword_arguments.<locals>.decorate.<locals>.wrapper\u001b[0;34m(*args, **kwargs)\u001b[0m\n\u001b[1;32m    305\u001b[0m \u001b[38;5;28;01mif\u001b[39;00m \u001b[38;5;28mlen\u001b[39m(args) \u001b[38;5;241m>\u001b[39m num_allow_args:\n\u001b[1;32m    306\u001b[0m     warnings\u001b[38;5;241m.\u001b[39mwarn(\n\u001b[1;32m    307\u001b[0m         msg\u001b[38;5;241m.\u001b[39mformat(arguments\u001b[38;5;241m=\u001b[39marguments),\n\u001b[1;32m    308\u001b[0m         \u001b[38;5;167;01mFutureWarning\u001b[39;00m,\n\u001b[1;32m    309\u001b[0m         stacklevel\u001b[38;5;241m=\u001b[39mstacklevel,\n\u001b[1;32m    310\u001b[0m     )\n\u001b[0;32m--> 311\u001b[0m \u001b[38;5;28;01mreturn\u001b[39;00m \u001b[43mfunc\u001b[49m\u001b[43m(\u001b[49m\u001b[38;5;241;43m*\u001b[39;49m\u001b[43margs\u001b[49m\u001b[43m,\u001b[49m\u001b[43m \u001b[49m\u001b[38;5;241;43m*\u001b[39;49m\u001b[38;5;241;43m*\u001b[39;49m\u001b[43mkwargs\u001b[49m\u001b[43m)\u001b[49m\n",
      "File \u001b[0;32m/Library/Frameworks/Python.framework/Versions/3.9/lib/python3.9/site-packages/pandas/io/parsers/readers.py:680\u001b[0m, in \u001b[0;36mread_csv\u001b[0;34m(filepath_or_buffer, sep, delimiter, header, names, index_col, usecols, squeeze, prefix, mangle_dupe_cols, dtype, engine, converters, true_values, false_values, skipinitialspace, skiprows, skipfooter, nrows, na_values, keep_default_na, na_filter, verbose, skip_blank_lines, parse_dates, infer_datetime_format, keep_date_col, date_parser, dayfirst, cache_dates, iterator, chunksize, compression, thousands, decimal, lineterminator, quotechar, quoting, doublequote, escapechar, comment, encoding, encoding_errors, dialect, error_bad_lines, warn_bad_lines, on_bad_lines, delim_whitespace, low_memory, memory_map, float_precision, storage_options)\u001b[0m\n\u001b[1;32m    665\u001b[0m kwds_defaults \u001b[38;5;241m=\u001b[39m _refine_defaults_read(\n\u001b[1;32m    666\u001b[0m     dialect,\n\u001b[1;32m    667\u001b[0m     delimiter,\n\u001b[0;32m   (...)\u001b[0m\n\u001b[1;32m    676\u001b[0m     defaults\u001b[38;5;241m=\u001b[39m{\u001b[38;5;124m\"\u001b[39m\u001b[38;5;124mdelimiter\u001b[39m\u001b[38;5;124m\"\u001b[39m: \u001b[38;5;124m\"\u001b[39m\u001b[38;5;124m,\u001b[39m\u001b[38;5;124m\"\u001b[39m},\n\u001b[1;32m    677\u001b[0m )\n\u001b[1;32m    678\u001b[0m kwds\u001b[38;5;241m.\u001b[39mupdate(kwds_defaults)\n\u001b[0;32m--> 680\u001b[0m \u001b[38;5;28;01mreturn\u001b[39;00m \u001b[43m_read\u001b[49m\u001b[43m(\u001b[49m\u001b[43mfilepath_or_buffer\u001b[49m\u001b[43m,\u001b[49m\u001b[43m \u001b[49m\u001b[43mkwds\u001b[49m\u001b[43m)\u001b[49m\n",
      "File \u001b[0;32m/Library/Frameworks/Python.framework/Versions/3.9/lib/python3.9/site-packages/pandas/io/parsers/readers.py:575\u001b[0m, in \u001b[0;36m_read\u001b[0;34m(filepath_or_buffer, kwds)\u001b[0m\n\u001b[1;32m    572\u001b[0m _validate_names(kwds\u001b[38;5;241m.\u001b[39mget(\u001b[38;5;124m\"\u001b[39m\u001b[38;5;124mnames\u001b[39m\u001b[38;5;124m\"\u001b[39m, \u001b[38;5;28;01mNone\u001b[39;00m))\n\u001b[1;32m    574\u001b[0m \u001b[38;5;66;03m# Create the parser.\u001b[39;00m\n\u001b[0;32m--> 575\u001b[0m parser \u001b[38;5;241m=\u001b[39m \u001b[43mTextFileReader\u001b[49m\u001b[43m(\u001b[49m\u001b[43mfilepath_or_buffer\u001b[49m\u001b[43m,\u001b[49m\u001b[43m \u001b[49m\u001b[38;5;241;43m*\u001b[39;49m\u001b[38;5;241;43m*\u001b[39;49m\u001b[43mkwds\u001b[49m\u001b[43m)\u001b[49m\n\u001b[1;32m    577\u001b[0m \u001b[38;5;28;01mif\u001b[39;00m chunksize \u001b[38;5;129;01mor\u001b[39;00m iterator:\n\u001b[1;32m    578\u001b[0m     \u001b[38;5;28;01mreturn\u001b[39;00m parser\n",
      "File \u001b[0;32m/Library/Frameworks/Python.framework/Versions/3.9/lib/python3.9/site-packages/pandas/io/parsers/readers.py:933\u001b[0m, in \u001b[0;36mTextFileReader.__init__\u001b[0;34m(self, f, engine, **kwds)\u001b[0m\n\u001b[1;32m    930\u001b[0m     \u001b[38;5;28mself\u001b[39m\u001b[38;5;241m.\u001b[39moptions[\u001b[38;5;124m\"\u001b[39m\u001b[38;5;124mhas_index_names\u001b[39m\u001b[38;5;124m\"\u001b[39m] \u001b[38;5;241m=\u001b[39m kwds[\u001b[38;5;124m\"\u001b[39m\u001b[38;5;124mhas_index_names\u001b[39m\u001b[38;5;124m\"\u001b[39m]\n\u001b[1;32m    932\u001b[0m \u001b[38;5;28mself\u001b[39m\u001b[38;5;241m.\u001b[39mhandles: IOHandles \u001b[38;5;241m|\u001b[39m \u001b[38;5;28;01mNone\u001b[39;00m \u001b[38;5;241m=\u001b[39m \u001b[38;5;28;01mNone\u001b[39;00m\n\u001b[0;32m--> 933\u001b[0m \u001b[38;5;28mself\u001b[39m\u001b[38;5;241m.\u001b[39m_engine \u001b[38;5;241m=\u001b[39m \u001b[38;5;28;43mself\u001b[39;49m\u001b[38;5;241;43m.\u001b[39;49m\u001b[43m_make_engine\u001b[49m\u001b[43m(\u001b[49m\u001b[43mf\u001b[49m\u001b[43m,\u001b[49m\u001b[43m \u001b[49m\u001b[38;5;28;43mself\u001b[39;49m\u001b[38;5;241;43m.\u001b[39;49m\u001b[43mengine\u001b[49m\u001b[43m)\u001b[49m\n",
      "File \u001b[0;32m/Library/Frameworks/Python.framework/Versions/3.9/lib/python3.9/site-packages/pandas/io/parsers/readers.py:1217\u001b[0m, in \u001b[0;36mTextFileReader._make_engine\u001b[0;34m(self, f, engine)\u001b[0m\n\u001b[1;32m   1213\u001b[0m     mode \u001b[38;5;241m=\u001b[39m \u001b[38;5;124m\"\u001b[39m\u001b[38;5;124mrb\u001b[39m\u001b[38;5;124m\"\u001b[39m\n\u001b[1;32m   1214\u001b[0m \u001b[38;5;66;03m# error: No overload variant of \"get_handle\" matches argument types\u001b[39;00m\n\u001b[1;32m   1215\u001b[0m \u001b[38;5;66;03m# \"Union[str, PathLike[str], ReadCsvBuffer[bytes], ReadCsvBuffer[str]]\"\u001b[39;00m\n\u001b[1;32m   1216\u001b[0m \u001b[38;5;66;03m# , \"str\", \"bool\", \"Any\", \"Any\", \"Any\", \"Any\", \"Any\"\u001b[39;00m\n\u001b[0;32m-> 1217\u001b[0m \u001b[38;5;28mself\u001b[39m\u001b[38;5;241m.\u001b[39mhandles \u001b[38;5;241m=\u001b[39m \u001b[43mget_handle\u001b[49m\u001b[43m(\u001b[49m\u001b[43m  \u001b[49m\u001b[38;5;66;43;03m# type: ignore[call-overload]\u001b[39;49;00m\n\u001b[1;32m   1218\u001b[0m \u001b[43m    \u001b[49m\u001b[43mf\u001b[49m\u001b[43m,\u001b[49m\n\u001b[1;32m   1219\u001b[0m \u001b[43m    \u001b[49m\u001b[43mmode\u001b[49m\u001b[43m,\u001b[49m\n\u001b[1;32m   1220\u001b[0m \u001b[43m    \u001b[49m\u001b[43mencoding\u001b[49m\u001b[38;5;241;43m=\u001b[39;49m\u001b[38;5;28;43mself\u001b[39;49m\u001b[38;5;241;43m.\u001b[39;49m\u001b[43moptions\u001b[49m\u001b[38;5;241;43m.\u001b[39;49m\u001b[43mget\u001b[49m\u001b[43m(\u001b[49m\u001b[38;5;124;43m\"\u001b[39;49m\u001b[38;5;124;43mencoding\u001b[39;49m\u001b[38;5;124;43m\"\u001b[39;49m\u001b[43m,\u001b[49m\u001b[43m \u001b[49m\u001b[38;5;28;43;01mNone\u001b[39;49;00m\u001b[43m)\u001b[49m\u001b[43m,\u001b[49m\n\u001b[1;32m   1221\u001b[0m \u001b[43m    \u001b[49m\u001b[43mcompression\u001b[49m\u001b[38;5;241;43m=\u001b[39;49m\u001b[38;5;28;43mself\u001b[39;49m\u001b[38;5;241;43m.\u001b[39;49m\u001b[43moptions\u001b[49m\u001b[38;5;241;43m.\u001b[39;49m\u001b[43mget\u001b[49m\u001b[43m(\u001b[49m\u001b[38;5;124;43m\"\u001b[39;49m\u001b[38;5;124;43mcompression\u001b[39;49m\u001b[38;5;124;43m\"\u001b[39;49m\u001b[43m,\u001b[49m\u001b[43m \u001b[49m\u001b[38;5;28;43;01mNone\u001b[39;49;00m\u001b[43m)\u001b[49m\u001b[43m,\u001b[49m\n\u001b[1;32m   1222\u001b[0m \u001b[43m    \u001b[49m\u001b[43mmemory_map\u001b[49m\u001b[38;5;241;43m=\u001b[39;49m\u001b[38;5;28;43mself\u001b[39;49m\u001b[38;5;241;43m.\u001b[39;49m\u001b[43moptions\u001b[49m\u001b[38;5;241;43m.\u001b[39;49m\u001b[43mget\u001b[49m\u001b[43m(\u001b[49m\u001b[38;5;124;43m\"\u001b[39;49m\u001b[38;5;124;43mmemory_map\u001b[39;49m\u001b[38;5;124;43m\"\u001b[39;49m\u001b[43m,\u001b[49m\u001b[43m \u001b[49m\u001b[38;5;28;43;01mFalse\u001b[39;49;00m\u001b[43m)\u001b[49m\u001b[43m,\u001b[49m\n\u001b[1;32m   1223\u001b[0m \u001b[43m    \u001b[49m\u001b[43mis_text\u001b[49m\u001b[38;5;241;43m=\u001b[39;49m\u001b[43mis_text\u001b[49m\u001b[43m,\u001b[49m\n\u001b[1;32m   1224\u001b[0m \u001b[43m    \u001b[49m\u001b[43merrors\u001b[49m\u001b[38;5;241;43m=\u001b[39;49m\u001b[38;5;28;43mself\u001b[39;49m\u001b[38;5;241;43m.\u001b[39;49m\u001b[43moptions\u001b[49m\u001b[38;5;241;43m.\u001b[39;49m\u001b[43mget\u001b[49m\u001b[43m(\u001b[49m\u001b[38;5;124;43m\"\u001b[39;49m\u001b[38;5;124;43mencoding_errors\u001b[39;49m\u001b[38;5;124;43m\"\u001b[39;49m\u001b[43m,\u001b[49m\u001b[43m \u001b[49m\u001b[38;5;124;43m\"\u001b[39;49m\u001b[38;5;124;43mstrict\u001b[39;49m\u001b[38;5;124;43m\"\u001b[39;49m\u001b[43m)\u001b[49m\u001b[43m,\u001b[49m\n\u001b[1;32m   1225\u001b[0m \u001b[43m    \u001b[49m\u001b[43mstorage_options\u001b[49m\u001b[38;5;241;43m=\u001b[39;49m\u001b[38;5;28;43mself\u001b[39;49m\u001b[38;5;241;43m.\u001b[39;49m\u001b[43moptions\u001b[49m\u001b[38;5;241;43m.\u001b[39;49m\u001b[43mget\u001b[49m\u001b[43m(\u001b[49m\u001b[38;5;124;43m\"\u001b[39;49m\u001b[38;5;124;43mstorage_options\u001b[39;49m\u001b[38;5;124;43m\"\u001b[39;49m\u001b[43m,\u001b[49m\u001b[43m \u001b[49m\u001b[38;5;28;43;01mNone\u001b[39;49;00m\u001b[43m)\u001b[49m\u001b[43m,\u001b[49m\n\u001b[1;32m   1226\u001b[0m \u001b[43m\u001b[49m\u001b[43m)\u001b[49m\n\u001b[1;32m   1227\u001b[0m \u001b[38;5;28;01massert\u001b[39;00m \u001b[38;5;28mself\u001b[39m\u001b[38;5;241m.\u001b[39mhandles \u001b[38;5;129;01mis\u001b[39;00m \u001b[38;5;129;01mnot\u001b[39;00m \u001b[38;5;28;01mNone\u001b[39;00m\n\u001b[1;32m   1228\u001b[0m f \u001b[38;5;241m=\u001b[39m \u001b[38;5;28mself\u001b[39m\u001b[38;5;241m.\u001b[39mhandles\u001b[38;5;241m.\u001b[39mhandle\n",
      "File \u001b[0;32m/Library/Frameworks/Python.framework/Versions/3.9/lib/python3.9/site-packages/pandas/io/common.py:789\u001b[0m, in \u001b[0;36mget_handle\u001b[0;34m(path_or_buf, mode, encoding, compression, memory_map, is_text, errors, storage_options)\u001b[0m\n\u001b[1;32m    784\u001b[0m \u001b[38;5;28;01melif\u001b[39;00m \u001b[38;5;28misinstance\u001b[39m(handle, \u001b[38;5;28mstr\u001b[39m):\n\u001b[1;32m    785\u001b[0m     \u001b[38;5;66;03m# Check whether the filename is to be opened in binary mode.\u001b[39;00m\n\u001b[1;32m    786\u001b[0m     \u001b[38;5;66;03m# Binary mode does not support 'encoding' and 'newline'.\u001b[39;00m\n\u001b[1;32m    787\u001b[0m     \u001b[38;5;28;01mif\u001b[39;00m ioargs\u001b[38;5;241m.\u001b[39mencoding \u001b[38;5;129;01mand\u001b[39;00m \u001b[38;5;124m\"\u001b[39m\u001b[38;5;124mb\u001b[39m\u001b[38;5;124m\"\u001b[39m \u001b[38;5;129;01mnot\u001b[39;00m \u001b[38;5;129;01min\u001b[39;00m ioargs\u001b[38;5;241m.\u001b[39mmode:\n\u001b[1;32m    788\u001b[0m         \u001b[38;5;66;03m# Encoding\u001b[39;00m\n\u001b[0;32m--> 789\u001b[0m         handle \u001b[38;5;241m=\u001b[39m \u001b[38;5;28;43mopen\u001b[39;49m\u001b[43m(\u001b[49m\n\u001b[1;32m    790\u001b[0m \u001b[43m            \u001b[49m\u001b[43mhandle\u001b[49m\u001b[43m,\u001b[49m\n\u001b[1;32m    791\u001b[0m \u001b[43m            \u001b[49m\u001b[43mioargs\u001b[49m\u001b[38;5;241;43m.\u001b[39;49m\u001b[43mmode\u001b[49m\u001b[43m,\u001b[49m\n\u001b[1;32m    792\u001b[0m \u001b[43m            \u001b[49m\u001b[43mencoding\u001b[49m\u001b[38;5;241;43m=\u001b[39;49m\u001b[43mioargs\u001b[49m\u001b[38;5;241;43m.\u001b[39;49m\u001b[43mencoding\u001b[49m\u001b[43m,\u001b[49m\n\u001b[1;32m    793\u001b[0m \u001b[43m            \u001b[49m\u001b[43merrors\u001b[49m\u001b[38;5;241;43m=\u001b[39;49m\u001b[43merrors\u001b[49m\u001b[43m,\u001b[49m\n\u001b[1;32m    794\u001b[0m \u001b[43m            \u001b[49m\u001b[43mnewline\u001b[49m\u001b[38;5;241;43m=\u001b[39;49m\u001b[38;5;124;43m\"\u001b[39;49m\u001b[38;5;124;43m\"\u001b[39;49m\u001b[43m,\u001b[49m\n\u001b[1;32m    795\u001b[0m \u001b[43m        \u001b[49m\u001b[43m)\u001b[49m\n\u001b[1;32m    796\u001b[0m     \u001b[38;5;28;01melse\u001b[39;00m:\n\u001b[1;32m    797\u001b[0m         \u001b[38;5;66;03m# Binary mode\u001b[39;00m\n\u001b[1;32m    798\u001b[0m         handle \u001b[38;5;241m=\u001b[39m \u001b[38;5;28mopen\u001b[39m(handle, ioargs\u001b[38;5;241m.\u001b[39mmode)\n",
      "\u001b[0;31mFileNotFoundError\u001b[0m: [Errno 2] No such file or directory: 'real_data.csv'"
     ]
    }
   ],
   "source": [
    "xg_reg = xgb.XGBRegressor(objective='reg:squarederror', learning_rate=0.08, max_depth=9, n_estimators=1000)  # 나중에 늘리기 1000으로\n",
    "xg_reg.fit(X_train, y_train)\n",
    "pred = xg_reg.predict(X_test)\n",
    "# xgb.plot_importance(xg_reg, max_num_features=10)\n",
    "# plt.show()\n",
    "\n",
    "feature_important = xg_reg.get_booster().get_score(importance_type='weight')\n",
    "keys = list(feature_important.keys())\n",
    "values = list(feature_important.values())\n",
    "feature_dic = {}\n",
    "for i in range(len(keys)):\n",
    "    feature_dic[keys[i]] = values[i]\n",
    "feature_list = sorted(feature_dic.items(),key=lambda x:x[1])\n",
    "print(len(feature_list),feature_list[:150])\n",
    "\n",
    "pred = pd.DataFrame(pred, columns=['rental'])\n",
    "pred = np.expm1(pred) * 1.3\n",
    "result = pd.concat([bicycle_test_date, pred],axis=1)\n",
    "result = seperate_datetime(result)\n",
    "enter_week(result)\n",
    "# enter_month(result)\n",
    "result = pd.concat([bicycle_test_date, result['rental']],axis=1)\n",
    "real_data = pd.read_csv('real_data.csv')\n",
    "NMAE(real_data['rental'],pred['rental'])\n",
    "result.to_csv('2hello.csv',index=False)\n",
    "\n",
    "\n"
   ]
  },
  {
   "cell_type": "code",
   "execution_count": 10,
   "id": "a64b418b",
   "metadata": {
    "ExecuteTime": {
     "end_time": "2022-06-28T14:59:36.729490Z",
     "start_time": "2022-06-28T14:59:36.412745Z"
    }
   },
   "outputs": [],
   "source": [
    "result.to_csv('2hello.csv', index = False)"
   ]
  },
  {
   "cell_type": "code",
   "execution_count": null,
   "id": "9a1ca13c",
   "metadata": {},
   "outputs": [],
   "source": []
  }
 ],
 "metadata": {
  "kernelspec": {
   "display_name": "Python 3 (ipykernel)",
   "language": "python",
   "name": "python3"
  },
  "language_info": {
   "codemirror_mode": {
    "name": "ipython",
    "version": 3
   },
   "file_extension": ".py",
   "mimetype": "text/x-python",
   "name": "python",
   "nbconvert_exporter": "python",
   "pygments_lexer": "ipython3",
   "version": "3.9.9"
  },
  "toc": {
   "base_numbering": 1,
   "nav_menu": {},
   "number_sections": true,
   "sideBar": true,
   "skip_h1_title": false,
   "title_cell": "Table of Contents",
   "title_sidebar": "Contents",
   "toc_cell": false,
   "toc_position": {},
   "toc_section_display": true,
   "toc_window_display": false
  }
 },
 "nbformat": 4,
 "nbformat_minor": 5
}
