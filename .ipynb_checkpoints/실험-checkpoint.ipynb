{
 "cells": [
  {
   "cell_type": "code",
   "execution_count": 1,
   "id": "f1196a26",
   "metadata": {
    "ExecuteTime": {
     "end_time": "2022-06-29T14:32:21.234939Z",
     "start_time": "2022-06-29T14:32:17.412474Z"
    }
   },
   "outputs": [],
   "source": [
    "import xgboost as xgb\n",
    "import matplotlib.pyplot as plt\n",
    "from sklearn.linear_model import LinearRegression\n",
    "from sklearn.preprocessing import QuantileTransformer\n",
    "from sklearn.model_selection import train_test_split\n",
    "import seaborn as sns\n",
    "import pandas as pd\n",
    "import numpy as np\n",
    "import warnings\n",
    "warnings.filterwarnings('ignore')"
   ]
  },
  {
   "cell_type": "code",
   "execution_count": 2,
   "id": "f5c7b5f8",
   "metadata": {
    "ExecuteTime": {
     "end_time": "2022-06-29T14:32:21.259233Z",
     "start_time": "2022-06-29T14:32:21.237724Z"
    }
   },
   "outputs": [],
   "source": [
    "def fill_nan(dataframe):\n",
    "    dataframe['precipitation'] = dataframe['precipitation'].fillna(0)\n",
    "    # dataframe = dataframe.dropna()\n",
    "    dataframe = dataframe.fillna(dataframe.mean())\n",
    "    return dataframe\n",
    "\n",
    "\n",
    "def seperate_datetime(dataframe):\n",
    "    week_list = []\n",
    "    year = []\n",
    "    month = []\n",
    "    for date in dataframe.date:\n",
    "        year_point, month_point, day_point = date.split('-')\n",
    "        year.append(int(year_point) - 2017)\n",
    "        month.append(int(month_point))\n",
    "    dataframe['year'] = year\n",
    "    dataframe['month'] = month\n",
    "    for day in dataframe['date']:\n",
    "        num = pd.date_range(day, day, freq='D').to_series()\n",
    "        week_list.append(int(num.dt.dayofweek[0]))\n",
    "    dataframe['day'] = week_list\n",
    "    dataframe = dataframe.drop(['date'], axis=1)\n",
    "    return dataframe\n",
    "\n",
    "\n",
    "def weekday_onehotcode(dataframe):\n",
    "    new = pd.DataFrame()\n",
    "    for i in range(0, 7):\n",
    "        a = dataframe[dataframe['day'] == i]\n",
    "        a['day'] = f'{i}'\n",
    "        new = pd.concat([new, a], axis=0)\n",
    "    new = pd.get_dummies(new)\n",
    "    return new\n",
    "\n",
    "\n",
    "def month_onehotcode(dataframe):\n",
    "    new = pd.DataFrame()\n",
    "    for i in range(1, 13):\n",
    "        a = dataframe[dataframe['month'] == i]\n",
    "        a['month'] = f'{i}'\n",
    "        new = pd.concat([new, a], axis=0)\n",
    "    new = pd.get_dummies(new)\n",
    "    return new\n",
    "\n",
    "\n",
    "\n",
    "def year_onehotcode(dataframe):\n",
    "    a = dataframe[dataframe['year'] == 1]\n",
    "    a['year'] = 'a'\n",
    "    b = dataframe[dataframe['year'] == 2]\n",
    "    b['year'] = 'b'\n",
    "    c = dataframe[dataframe['year'] == 3]\n",
    "    c['year'] = 'c'\n",
    "    dataframe = pd.concat([a, b, c], axis=0)\n",
    "    dataframe = pd.get_dummies(dataframe)\n",
    "    return dataframe\n",
    "\n",
    "def year_onehotcode_test(dataframe):\n",
    "    c = dataframe[dataframe['year'] == 4]\n",
    "    c['year'] = 'c'\n",
    "    dataframe = pd.get_dummies(dataframe)\n",
    "    dataframe['year_a'] = 0\n",
    "    dataframe['year_b'] = 0\n",
    "    return dataframe\n",
    "\n",
    "\n",
    "def rental_rate(dataframe):\n",
    "    y1 = dataframe[dataframe['year'] == 1]['rental'] * 2.3\n",
    "    y2 = dataframe[dataframe['year'] == 2]['rental'] * 1.2\n",
    "    y3 = dataframe[dataframe['year'] == 3]['rental']\n",
    "    new = pd.concat([y1, y2, y3], axis=0).to_frame()\n",
    "    dataframe['rental'] = new['rental']\n",
    "    return True\n",
    "\n",
    "\n",
    "def NMAE(true, pred):\n",
    "    score = np.mean(np.abs(true - pred) / true)\n",
    "    print(score)\n",
    "    return score\n",
    "\n",
    "\n",
    "def enter_week(dataframe):\n",
    "    w_list = [0.993, 1.049, 0.998, 1.013, 1.049, 0.994, 0.903]\n",
    "    for i in range(0, 7):\n",
    "        dataframe[dataframe['day'] == i] *= w_list[i]\n",
    "\n",
    "\n",
    "def enter_month(dataframe):\n",
    "    m_list = [0.324, 0.342, 0.646, 0.992, 1.264, 1.442, 1.001, 1.084, 1.475, 1.502, 1.032, 0.574]\n",
    "    for i in range(0, 12):\n",
    "        dataframe[dataframe['month'] == i+1] *= m_list[i]\n",
    "\n",
    "def enter_week_train(dataframe):\n",
    "    w_list = [0.993, 1.049, 0.998, 1.013, 1.049, 0.994, 0.903]\n",
    "    new = pd.DataFrame()\n",
    "    for i in range(0, 7):\n",
    "        a = pd.DataFrame()\n",
    "        a['rental'] = dataframe[dataframe['day'] == i]['rental'] / w_list[i]\n",
    "        new = pd.concat([new, a],axis=0)\n",
    "    return new\n",
    "\n",
    "def enter_month_train(dataframe):\n",
    "    m_list = [0.324, 0.342, 0.646, 0.992, 1.264, 1.442, 1.001, 1.084, 1.475, 1.502, 1.032, 0.574]\n",
    "    new = pd.DataFrame()\n",
    "    for i in range(1, 13):\n",
    "        a = pd.DataFrame()\n",
    "        a['rental'] = dataframe[dataframe['month'] == i]['rental'] / m_list[i]\n",
    "        new = pd.concat([new, a],axis=0)\n",
    "    return new\n",
    "\n"
   ]
  },
  {
   "cell_type": "code",
   "execution_count": 3,
   "id": "27a5f948",
   "metadata": {
    "ExecuteTime": {
     "end_time": "2022-06-29T14:32:21.280054Z",
     "start_time": "2022-06-29T14:32:21.271666Z"
    }
   },
   "outputs": [],
   "source": [
    "# bicycle = pd.read_csv('train.csv')\n",
    "# bicycle[\"rental\"] = np.log1p(bicycle[\"rental\"])\n",
    "# # bicycle['logrental'] = np.log1p(np.log1p(bicycle['rental']))\n",
    "# bicycle['sunshine_rate*100'] = bicycle['sunshine_rate']*100\n",
    "# bicycle['log1p_sunshine_rate*100'] = bicycle['sunshine_rate']**2\n",
    "\n",
    "# sns.pairplot(bicycle)\n",
    "# plt.show()"
   ]
  },
  {
   "cell_type": "code",
   "execution_count": null,
   "id": "33b4f353",
   "metadata": {
    "ExecuteTime": {
     "start_time": "2022-06-29T14:32:17.384Z"
    }
   },
   "outputs": [],
   "source": [
    "clist = ['temp_lowest*month_8','PM2.5*day_6', 'humidity*month_12']\n",
    "\n",
    "bicycle = pd.read_csv('train.csv')\n",
    "bicycle = seperate_datetime(bicycle)\n",
    "bicycle = fill_nan(bicycle)\n",
    "rental_rate(bicycle)\n",
    "# rental = enter_week_train(bicycle)\n",
    "# bicycle['rental'] = rental\n",
    "# print(bicycle)\n",
    "bicycle = weekday_onehotcode(bicycle)\n",
    "bicycle = month_onehotcode(bicycle)\n",
    "bicycle[\"rental\"] = np.log1p(bicycle[\"rental\"])\n",
    "\n",
    "\n",
    "# bicycle['sunshine_rate'] = bicycle['sunshine_rate']*100\n",
    "\n",
    "\n",
    "\n",
    "\n",
    "\n",
    "y = bicycle['rental']\n",
    "bicycle = bicycle.drop(['rental'], axis=1)\n",
    "\n",
    "# scaler1 = QuantileTransformer()\n",
    "# scaler2 = QuantileTransformer()\n",
    "# col___list = ['PM10','PM2.5','sunshine_rate','sunshine_sum','wind_max']\n",
    "# # col___list = bicycle.columns\n",
    "# scaler1.fit(bicycle[col___list])\n",
    "# X_train_scaled = scaler1.transform(bicycle[col___list])\n",
    "# bicycle[col___list] =X_train_scaled\n",
    "\n",
    "\n",
    "T = bicycle['temp_mean']  # 섭씨\n",
    "V = bicycle['wind_mean']  # 바람\n",
    "R = bicycle['humidity']  # 습도\n",
    "H = (bicycle['temp_mean'] * 1.8) + 32  # 화씨\n",
    "feel_degree = 13.12 + 0.6215 * T - 11.37 * V**0.16 + 0.3965 * V**0.16\n",
    "badfeel_degree = 9/5 * T - 0.55 * (1 - R/100) * (9/5 * T - 26) + 32\n",
    "\n",
    "\n",
    "# heat_degree = -42.379 + 2.05901523 * H + 10.14333127 * R - 0.22475541 * H * R - 6.83783 * 10**-3 * H**2 - 5.481717 * 10**-2 * R**2 + 1.22874 * 10**-3 * H**2 * R + 8.5282 * 10**-4 * H * R**2 - 1.99 * 10**-6 * H**2 * R**2\n",
    "heat_degree = -42.379 + 2.05901523 * H + 10.14333127 * R/100 - 0.22475541 * H * R/100 - 6.83783 * 10**-3 * H**2 - 5.481717 * 10**-2 * R/100**2 + 1.22874 * 10**-3 * H**2 * R/100 + 8.5282 * 10**-4 * H * R**2 - 1.99 * 10**-6 * H**2 * R/100**2\n",
    "\n",
    "bicycle['dust'] = bicycle['PM10'] * bicycle['PM2.5']\n",
    "bicycle['temp_ratio'] = abs(bicycle['temp_highest'] - bicycle['temp_lowest'])\n",
    "\n",
    "# bicycle['sunshine_sum'] = bicycle['sunshine_sum'].fillna(method = 'bfill')\n",
    "bicycle['daytime'] = bicycle['sunshine_rate'] / bicycle['sunshine_sum']\n",
    "bicycle['daytime'] = bicycle['daytime'].fillna(method='bfill')\n",
    "\n",
    "\n",
    "bicycle['feel_degree'] = feel_degree\n",
    "bicycle['badfeel_degree'] = badfeel_degree\n",
    "\n",
    "\n",
    "\n",
    "# bicycle = bicycle.drop(['sunshine_sum'],axis =1)\n",
    "\n",
    "\n",
    "col_list = list(bicycle.columns)\n",
    "for i in range(len(col_list)):\n",
    "    for j in range(i, len(col_list)):\n",
    "        bicycle[f'{col_list[i]}*{col_list[j]}'] = bicycle[col_list[i]] * bicycle[col_list[j]]\n",
    "\n",
    "for i in range(len(col_list)):\n",
    "    for j in range(i, len(col_list)):\n",
    "        bicycle[f'{col_list[i]}+{col_list[j]}'] = bicycle[col_list[i]] + bicycle[col_list[j]]\n",
    "\n",
    "for i in range(len(col_list)):\n",
    "    for j in range(i, len(col_list)):\n",
    "        bicycle[f'{col_list[i]}-{col_list[j]}'] = bicycle[col_list[i]] - bicycle[col_list[j]]\n",
    "        \n",
    "col_list = list(bicycle.columns)\n",
    "for i in range(len(col_list)):\n",
    "    for j in range(i, len(col_list)):\n",
    "        bicycle[f'{col_list[i]}*{col_list[j]}'] = bicycle[col_list[i]] * bicycle[col_list[j]]\n",
    "\n",
    "for i in range(len(col_list)):\n",
    "    for j in range(i, len(col_list)):\n",
    "        bicycle[f'{col_list[i]}+{col_list[j]}'] = bicycle[col_list[i]] + bicycle[col_list[j]]\n",
    "\n",
    "for i in range(len(col_list)):\n",
    "    for j in range(i, len(col_list)):\n",
    "        bicycle[f'{col_list[i]}-{col_list[j]}'] = bicycle[col_list[i]] - bicycle[col_list[j]]\n",
    "        \n",
    "    \n",
    "        \n",
    "bicycle = bicycle.drop(['sunshine_sum'],axis =1)\n",
    "bicycle = bicycle.drop(['sunshine_rate'], axis =1)"
   ]
  },
  {
   "cell_type": "code",
   "execution_count": null,
   "id": "da1d765e",
   "metadata": {
    "ExecuteTime": {
     "start_time": "2022-06-29T14:32:17.385Z"
    }
   },
   "outputs": [],
   "source": [
    "bicycle = bicycle.drop(clist, axis=1)\n",
    "x = bicycle"
   ]
  },
  {
   "cell_type": "code",
   "execution_count": null,
   "id": "d2d4ac98",
   "metadata": {
    "ExecuteTime": {
     "start_time": "2022-06-29T14:32:17.385Z"
    }
   },
   "outputs": [],
   "source": [
    "# bicycle_test = pd.read_csv('test.csv')\n",
    "# bicycle_test.isnull().sum()"
   ]
  },
  {
   "cell_type": "code",
   "execution_count": null,
   "id": "3d6680fc",
   "metadata": {
    "ExecuteTime": {
     "start_time": "2022-06-29T14:32:17.388Z"
    }
   },
   "outputs": [],
   "source": [
    "bicycle_test = pd.read_csv('test.csv')\n",
    "bicycle_test_date = bicycle_test['date']\n",
    "bicycle_test = seperate_datetime(bicycle_test)\n",
    "bicycle_test = fill_nan(bicycle_test)  # 바로 뒤에 값으로 결측치를 채우므로 seperate 밑이 와야함\n",
    "bicycle_test = weekday_onehotcode(bicycle_test)\n",
    "bicycle_test = month_onehotcode(bicycle_test)\n",
    "bicycle_test = bicycle_test.sort_index()\n",
    "\n",
    "\n",
    "# bicycle_test['sunshine_rate'] = bicycle['sunshine_rate']*100\n",
    "\n",
    "\n",
    "# scaler2.fit(bicycle_test[col___list])\n",
    "# X_train_scaled = scaler2.transform(bicycle_test[col___list])\n",
    "# bicycle_test[col___list] =X_train_scaled\n",
    "\n",
    "\n",
    "\n",
    "T = bicycle_test['temp_mean']  # 섭씨\n",
    "V = bicycle_test['wind_mean']  # 바람\n",
    "R = bicycle_test['humidity']  # 습도\n",
    "H = (bicycle_test['temp_mean'] * 1.8) + 32  # 화씨\n",
    "# 체감 온도\n",
    "feel_degree = 13.12 + 0.6215 * T - 11.37 * V**0.16 + 0.3965 * V**0.16\n",
    "\n",
    "badfeel_degree = 9/5 * T - 0.55 * (1 - R/100) * (9/5 * T - 26) + 32\n",
    "\n",
    "# heat_degree = -42.379 + 2.05901523 * H + 10.14333127 * R - 0.22475541 * H * R - 6.83783 * 10**-3 * H**2 - 5.481717 * 10**-2 * R**2 + 1.22874 * 10**-3 * H**2 * R + 8.5282 * 10**-4 * H * R**2 - 1.99 * 10**-6 * H**2 * R**2\n",
    "heat_degree = -42.379 + 2.05901523 * H + 10.14333127 * R/100 - 0.22475541 * H * R/100 - 6.83783 * 10**-3 * H**2 - 5.481717 * 10**-2 * R/100**2 + 1.22874 * 10**-3 * H**2 * R/100 + 8.5282 * 10**-4 * H * R**2 - 1.99 * 10**-6 * H**2 * R/100**2\n",
    "\n",
    "\n",
    "bicycle_test['dust'] = bicycle_test['PM10'] * bicycle_test['PM2.5']\n",
    "bicycle_test['temp_ratio'] = abs(bicycle_test['temp_highest'] - bicycle_test['temp_lowest'])\n",
    "\n",
    "# bicycle_test['sunshine_sum'] = bicycle_test['sunshine_sum'].fillna(method = 'bfill')\n",
    "\n",
    "bicycle_test['daytime'] = bicycle_test['sunshine_rate'] / bicycle_test['sunshine_sum']\n",
    "bicycle_test['feel_degree'] = feel_degree\n",
    "bicycle_test['daytime'] = bicycle_test['daytime'].fillna(method='bfill')\n",
    "bicycle_test['badfeel_degree'] = badfeel_degree\n",
    "\n",
    "\n",
    "# bicycle_test['cold_feel'] = bicycle_test['']\n",
    "\n",
    "# bicycle_test = bicycle_test.drop(['sunshine_sum'], axis = 1)\n",
    "\n",
    "\n",
    "col_list = list(bicycle_test.columns)\n",
    "for i in range(len(col_list)):\n",
    "    for j in range(i, len(col_list)):\n",
    "        bicycle_test[f'{col_list[i]}*{col_list[j]}'] = bicycle_test[col_list[i]] * bicycle_test[col_list[j]]\n",
    "        \n",
    "for i in range(len(col_list)):\n",
    "    for j in range(i, len(col_list)):\n",
    "        bicycle_test[f'{col_list[i]}+{col_list[j]}'] = bicycle_test[col_list[i]] + bicycle_test[col_list[j]]\n",
    "\n",
    "for i in range(len(col_list)):\n",
    "    for j in range(i, len(col_list)):\n",
    "        bicycle_test[f'{col_list[i]}-{col_list[j]}'] = bicycle_test[col_list[i]] - bicycle_test[col_list[j]]\n",
    "\n",
    "col_list = list(bicycle_test.columns)\n",
    "for i in range(len(col_list)):\n",
    "    for j in range(i, len(col_list)):\n",
    "        bicycle_test[f'{col_list[i]}*{col_list[j]}'] = bicycle_test[col_list[i]] * bicycle_test[col_list[j]]\n",
    "        \n",
    "for i in range(len(col_list)):\n",
    "    for j in range(i, len(col_list)):\n",
    "        bicycle_test[f'{col_list[i]}+{col_list[j]}'] = bicycle_test[col_list[i]] + bicycle_test[col_list[j]]\n",
    "\n",
    "for i in range(len(col_list)):\n",
    "    for j in range(i, len(col_list)):\n",
    "        bicycle_test[f'{col_list[i]}-{col_list[j]}'] = bicycle_test[col_list[i]] - bicycle_test[col_list[j]]\n",
    "\n",
    "\n",
    "        \n",
    "        \n",
    "        \n",
    "bicycle_test = bicycle_test.drop(['sunshine_sum'], axis = 1)\n",
    "bicycle_test = bicycle_test.drop(['sunshine_rate'], axis =1)"
   ]
  },
  {
   "cell_type": "code",
   "execution_count": null,
   "id": "364e28c4",
   "metadata": {},
   "outputs": [],
   "source": []
  },
  {
   "cell_type": "code",
   "execution_count": null,
   "id": "1172fdcb",
   "metadata": {
    "ExecuteTime": {
     "start_time": "2022-06-29T14:32:17.389Z"
    }
   },
   "outputs": [],
   "source": [
    "bicycle_test = bicycle_test.drop(clist, axis=1)\n",
    "x2 = bicycle_test\n",
    "\n",
    "X_train = x\n",
    "y_train = y\n",
    "X_test = x2"
   ]
  },
  {
   "cell_type": "code",
   "execution_count": null,
   "id": "7d6308b3",
   "metadata": {
    "ExecuteTime": {
     "start_time": "2022-06-29T14:32:17.390Z"
    },
    "scrolled": true
   },
   "outputs": [],
   "source": [
    "print(X_train.shape)\n",
    "for i in range(len(X_train)):\n",
    "    print(X_train.columns[i])"
   ]
  },
  {
   "cell_type": "code",
   "execution_count": null,
   "id": "879257a9",
   "metadata": {
    "ExecuteTime": {
     "start_time": "2022-06-29T14:32:17.391Z"
    }
   },
   "outputs": [],
   "source": [
    "X_test = X_test.drop(['year+year'], axis =1)\n",
    "X_train = X_train.drop(['year+year'], axis =1)"
   ]
  },
  {
   "cell_type": "code",
   "execution_count": null,
   "id": "9890a435",
   "metadata": {
    "ExecuteTime": {
     "start_time": "2022-06-29T14:32:17.392Z"
    }
   },
   "outputs": [],
   "source": [
    "# X_test = X_test.drop(['year+year','year+day_0', 'year+day_1','year+day_2','year+day_3','year+day_4',\n",
    "#                      'year+day_5','year+day_6'], axis =1)\n",
    "\n",
    "\n",
    "# X_train = X_train.drop(['year+year','year+day_0', 'year+day_1','year+day_2','year+day_3','year+day_4',\n",
    "#                      'year+day_5','year+day_6'], axis =1)\n",
    "\n"
   ]
  },
  {
   "cell_type": "code",
   "execution_count": null,
   "id": "c6189f53",
   "metadata": {
    "ExecuteTime": {
     "start_time": "2022-06-29T14:32:17.393Z"
    },
    "scrolled": false
   },
   "outputs": [],
   "source": [
    "# xg_reg = xgb.XGBRegressor(objective='reg:squarederror', learning_rate=0.05, max_depth=10, n_estimators=1000)  # 나중에 늘리기 1000으로\n",
    "# xg_reg = xgb.XGBRegressor(objective='reg:squarederror', learning_rate=0.08, max_depth=9, n_estimators=1000)  # 나중에 늘리기 1000으로\n",
    "xg_reg = xgb.XGBRegressor(objective='reg:squarederror', learning_rate=0.08, max_depth=9, n_estimators=2000)  # 나중에 늘리기 1000으로\n",
    "# xg_reg = xgb.XGBRegressor(objective='reg:squarederror', learning_rate=0.1, max_depth=4, n_estimators=1000)  # 나중에 늘리기 1000으로\n",
    "xg_reg.fit(X_train, y_train)\n",
    "pred = xg_reg.predict(X_test)\n",
    "# xgb.plot_importance(xg_reg, max_num_features=10)\n",
    "# plt.show()\n",
    "\n",
    "feature_important = xg_reg.get_booster().get_score(importance_type='weight')\n",
    "keys = list(feature_important.keys())\n",
    "values = list(feature_important.values())\n",
    "feature_dic = {}\n",
    "for i in range(len(keys)):\n",
    "    feature_dic[keys[i]] = values[i]\n",
    "feature_list = sorted(feature_dic.items(),key=lambda x:x[1])\n",
    "print(len(feature_list),feature_list[:150])\n",
    "\n",
    "pred = pd.DataFrame(pred, columns=['rental'])\n",
    "pred = np.expm1(pred) * 1.3\n",
    "result = pd.concat([bicycle_test_date, pred],axis=1)\n",
    "result = seperate_datetime(result)\n",
    "enter_week(result)\n",
    "# enter_month(result)\n",
    "result = pd.concat([bicycle_test_date, result['rental']],axis=1)\n",
    "\n",
    "\n",
    "\n"
   ]
  },
  {
   "cell_type": "code",
   "execution_count": null,
   "id": "2d5515d0",
   "metadata": {},
   "outputs": [],
   "source": []
  },
  {
   "cell_type": "code",
   "execution_count": null,
   "id": "ac23865e",
   "metadata": {},
   "outputs": [],
   "source": []
  },
  {
   "cell_type": "code",
   "execution_count": null,
   "id": "4e09d0a8",
   "metadata": {},
   "outputs": [],
   "source": []
  },
  {
   "cell_type": "code",
   "execution_count": null,
   "id": "b3c1bbdd",
   "metadata": {
    "ExecuteTime": {
     "start_time": "2022-06-29T14:32:17.397Z"
    }
   },
   "outputs": [],
   "source": [
    "def NMAE(true, pred):\n",
    "    score = np.mean(np.abs(true-pred) / true)\n",
    "    return score\n",
    "real_data = pd.read_csv('real_data.csv')\n",
    "\n"
   ]
  },
  {
   "cell_type": "code",
   "execution_count": null,
   "id": "8bc47ac9",
   "metadata": {
    "ExecuteTime": {
     "start_time": "2022-06-29T14:32:17.398Z"
    }
   },
   "outputs": [],
   "source": [
    "NMAE(real_data['rental'],pred['rental'])\n",
    "\n",
    "#0.18199052347862546 sunshine no drop\n",
    "#0.1819752971190777 sunshine drop\n",
    "#0.18266045836373543\n",
    "#0.1802590496585229 scaling 뺐을때\n",
    "#0.199~~  # - 하는거 뺐을 때\n",
    "#0.20567896546721867 강수량 제곱했을때\n",
    "# log sunrate*100 0.20\n",
    "#0.18020755272067054 sunshine_rate 도 제거"
   ]
  },
  {
   "cell_type": "code",
   "execution_count": null,
   "id": "ef5b142d",
   "metadata": {
    "ExecuteTime": {
     "start_time": "2022-06-29T14:32:17.400Z"
    }
   },
   "outputs": [],
   "source": [
    "result.to_csv('4hello.csv',index=False)"
   ]
  },
  {
   "cell_type": "code",
   "execution_count": null,
   "id": "6ca1e1d6",
   "metadata": {},
   "outputs": [],
   "source": []
  },
  {
   "cell_type": "code",
   "execution_count": null,
   "id": "7895f925",
   "metadata": {},
   "outputs": [],
   "source": []
  }
 ],
 "metadata": {
  "kernelspec": {
   "display_name": "Python 3 (ipykernel)",
   "language": "python",
   "name": "python3"
  },
  "language_info": {
   "codemirror_mode": {
    "name": "ipython",
    "version": 3
   },
   "file_extension": ".py",
   "mimetype": "text/x-python",
   "name": "python",
   "nbconvert_exporter": "python",
   "pygments_lexer": "ipython3",
   "version": "3.9.9"
  },
  "toc": {
   "base_numbering": 1,
   "nav_menu": {},
   "number_sections": true,
   "sideBar": true,
   "skip_h1_title": false,
   "title_cell": "Table of Contents",
   "title_sidebar": "Contents",
   "toc_cell": false,
   "toc_position": {},
   "toc_section_display": true,
   "toc_window_display": false
  }
 },
 "nbformat": 4,
 "nbformat_minor": 5
}
