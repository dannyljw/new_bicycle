{
 "cells": [
  {
   "cell_type": "code",
   "execution_count": 1,
   "id": "72ee796a",
   "metadata": {
    "ExecuteTime": {
     "end_time": "2022-06-30T13:44:59.580020Z",
     "start_time": "2022-06-30T13:44:53.762345Z"
    }
   },
   "outputs": [],
   "source": [
    "import pandas as pd\n",
    "import numpy as np\n",
    "from scipy import stats\n",
    "from math import ceil\n",
    "import matplotlib.pyplot as plt\n",
    "import seaborn as sns\n",
    "import sys\n",
    "import math\n",
    "import matplotlib.pyplot as plt\n",
    "from sklearn.model_selection import train_test_split\n",
    "import warnings\n",
    "from sklearn.metrics import confusion_matrix, accuracy_score, precision_score, recall_score\n",
    "from sklearn.metrics import confusion_matrix, f1_score, roc_auc_score\n",
    "from sklearn.preprocessing import QuantileTransformer\n",
    "def NMAE(true, pred):\n",
    "    score = np.mean(np.abs(true-pred) / true)\n",
    "    return score\n",
    "import sklearn\n",
    "from sklearn.preprocessing import *\n",
    "\n",
    "def temp_sensible(dataframe):\n",
    "    #체감온도 공식은 체감온도(℃)=13.12+0.6215×T-11.37V0.16+0.3965V0.16×T\n",
    "    #출처:https://www.sciencetimes.co.kr/news/%EC%B2%B4%EA%B0%90%EC%98%A8%EB%8F%84%EC%99%80-%EC%8B%A4%EC%A0%9C-%EC%98%A8%EB%8F%84%EB%8A%94-%EC%96%B4%EB%96%BB%EA%B2%8C-%EB%8B%A4%EB%A5%B8%EA%B0%80/\n",
    "    temp_df_t=dataframe['temp_mean'].tolist()\n",
    "    temp_df_w=dataframe['wind_mean'].tolist()\n",
    "    temp_df_t\n",
    "    temp_df_w\n",
    "    result_=[]\n",
    "    for i in range(len(temp_df_t)):\n",
    "        result=13.12+0.6215*temp_df_t[i]-11.37*math.pow(temp_df_w[i],0.16)+0.3965*math.pow(temp_df_w[i],0.16)*temp_df_t[i]\n",
    "        result_.append(round(result,1))\n",
    "    dataframe.insert(4,'temp_sensible',result_)\n",
    "\n",
    "def discomfort_index(dataframe):\n",
    "    \n",
    "    #0.81 * temp_df_t[i] +0.01 * temp_df_t[i]*((0.99*temp_df_t[i]) - 14.3)+ 46.3\n",
    "    #불쾌지수 공식(80이상 : 매우 불쾌, 80~75: 50%불쾌 , 68~75 :불쾌감 시작, 68미만: 쾌적함)\n",
    "    #discomfort_index\n",
    "    temp_df_t=dataframe['temp_mean'].tolist()\n",
    "    temp_df_h=dataframe['humidity'].tolist()\n",
    "    temp_df_t\n",
    "    temp_df_h\n",
    "\n",
    "    result_=[]\n",
    "    for i in range(len(temp_df_t)):\n",
    "        result=(9/5*temp_df_t[i])-0.55*(1-temp_df_h[i]/100)*(9/5*temp_df_t[i]-26)+32\n",
    "        result_.append(round(result,1))\n",
    "    result_\n",
    "    dataframe['discomfort_index']=result_\n",
    "\n",
    "\n",
    "def pm_trafficlight(dataframe):\n",
    "    pm10=dataframe['PM10'].tolist()\n",
    "    pm2=dataframe['PM2.5'].tolist()\n",
    "    pm_=[]\n",
    "    for i in range(len(pm10)):\n",
    "        if(pm10[i]<=30 or pm2[i]<=15):\n",
    "            pm_.append(1)\n",
    "        elif((pm10[i]<=80 and pm10[i]>30) or (pm2[i] >=16 and pm2[i]<=50)):\n",
    "            pm_.append(2)\n",
    "        elif((pm10[i]<=150 and pm10[i]>80)or (pm2[i]>50 and pm2[i]<=100)):\n",
    "            pm_.append(3)\n",
    "        elif(pm10[i]>=150 or (pm2[i]>100)):\n",
    "            pm_.append(4)\n",
    "    dataframe['pm']=pm_\n",
    "\n",
    "def rental_rate(dataframe):\n",
    "    y1 = dataframe[dataframe['year'] == 2018]['rental'] * 2.3\n",
    "    y2 = dataframe[dataframe['year'] == 2019]['rental'] * 1.2\n",
    "    y3 = dataframe[dataframe['year'] == 2020]['rental']\n",
    "    new = pd.concat([y1, y2, y3], axis=0).to_frame()\n",
    "    dataframe['rental'] = new['rental']\n",
    "    return True\n",
    "\n",
    "\n",
    "\n",
    "\n",
    "def seperate_datetime(dataframe):\n",
    "    week_list = []\n",
    "    year = []\n",
    "    month = []\n",
    "    for date in dataframe.date:\n",
    "        year_point, month_point, day_point = date.split('-')\n",
    "        year.append(int(year_point) - 2017)\n",
    "        month.append(int(month_point))\n",
    "    dataframe['year'] = year\n",
    "    dataframe['month'] = month\n",
    "    for day in dataframe['date']:\n",
    "        num = pd.date_range(day, day, freq='D').to_series()\n",
    "        week_list.append(int(num.dt.dayofweek[0]))\n",
    "    dataframe['day'] = week_list\n",
    "    dataframe = dataframe.drop(['date'], axis=1)\n",
    "    return dataframe\n",
    "\n",
    "def enter_week(dataframe):\n",
    "    w_list = [1.02,1.02, 0.97, 0.95, 1.02, 1.01, 1.02]\n",
    "    #corr 해서 상관관계에 따라 비율 설정 \n",
    "    for i in range(0, 7):\n",
    "        dataframe[dataframe['day'] == i] *= w_list[i]\n",
    "        \n",
    "clist = ['PM2.5*day_name_Sunday']\n"
   ]
  },
  {
   "cell_type": "code",
   "execution_count": 2,
   "id": "7d72596b",
   "metadata": {
    "ExecuteTime": {
     "end_time": "2022-06-30T13:44:59.886907Z",
     "start_time": "2022-06-30T13:44:59.584230Z"
    }
   },
   "outputs": [],
   "source": [
    "sample = pd.read_csv('sample_submission.csv')\n",
    "sample\n",
    "test_df = pd.read_csv('test.csv')\n",
    "test_df\n",
    "train = pd.read_csv('train.csv')\n",
    "\n",
    "from sklearn.linear_model import LinearRegression\n",
    "from sklearn.model_selection import train_test_split\n",
    "test_date = test_df['date']\n",
    "\n"
   ]
  },
  {
   "cell_type": "code",
   "execution_count": 3,
   "id": "018f1552",
   "metadata": {
    "ExecuteTime": {
     "end_time": "2022-06-30T13:45:00.085627Z",
     "start_time": "2022-06-30T13:44:59.935328Z"
    }
   },
   "outputs": [
    {
     "data": {
      "text/plain": [
       "precipitation    0\n",
       "temp_mean        0\n",
       "temp_highest     0\n",
       "temp_lowest      0\n",
       "PM10             0\n",
       "PM2.5            0\n",
       "humidity         0\n",
       "sunshine_sum     0\n",
       "sunshine_rate    0\n",
       "wind_mean        0\n",
       "wind_max         0\n",
       "rental           0\n",
       "year             0\n",
       "month            0\n",
       "day              0\n",
       "dtype: int64"
      ]
     },
     "execution_count": 3,
     "metadata": {},
     "output_type": "execute_result"
    }
   ],
   "source": [
    "date=train['date'].tolist()\n",
    "cnt=0\n",
    "year=[]\n",
    "month=[]\n",
    "day=[]\n",
    "year_=''\n",
    "month_=''\n",
    "day_=''\n",
    "for _ in date:\n",
    "    list_=_.split('-')\n",
    "    for i in range(3):\n",
    "        if(i==0):\n",
    "\n",
    "            year_+=list_[i]\n",
    "        \n",
    "        elif(i==1):\n",
    "            month_+=list_[i]\n",
    "        elif(i==2):\n",
    "            day_+=list_[i]\n",
    "            \n",
    "    year.append(int(year_))\n",
    "    month.append(int(month_))\n",
    "    day.append(int(day_))\n",
    "    \n",
    "    cnt+=1\n",
    "    year_=''\n",
    "    month_=''\n",
    "    day_=''\n",
    "train_=train.drop(columns='date')\n",
    "train_['year']=year\n",
    "train_['month']=month\n",
    "train_['day']=day\n",
    "\n",
    "train_['precipitation']=train_['precipitation'].fillna(0)\n",
    "train_['PM10'] = train_['PM10'].fillna(train_['PM10'].mean())\n",
    "train_['PM2.5'] = train_['PM2.5'].fillna(train_['PM2.5'].mean())\n",
    "train_ = train_.fillna(train_.mean())\n",
    "rental_rate(train_)\n",
    "train_.isnull().sum()"
   ]
  },
  {
   "cell_type": "code",
   "execution_count": 4,
   "id": "c697b873",
   "metadata": {
    "ExecuteTime": {
     "end_time": "2022-06-30T13:45:00.355620Z",
     "start_time": "2022-06-30T13:45:00.177464Z"
    }
   },
   "outputs": [
    {
     "name": "stdout",
     "output_type": "stream",
     "text": [
      "<class 'pandas.core.frame.DataFrame'>\n",
      "RangeIndex: 1095 entries, 0 to 1094\n",
      "Data columns (total 22 columns):\n",
      " #   Column              Non-Null Count  Dtype  \n",
      "---  ------              --------------  -----  \n",
      " 0   precipitation       1095 non-null   float64\n",
      " 1   temp_mean           1095 non-null   float64\n",
      " 2   temp_highest        1095 non-null   float64\n",
      " 3   temp_lowest         1095 non-null   float64\n",
      " 4   PM10                1095 non-null   float64\n",
      " 5   PM2.5               1095 non-null   float64\n",
      " 6   humidity            1095 non-null   float64\n",
      " 7   sunshine_sum        1095 non-null   float64\n",
      " 8   sunshine_rate       1095 non-null   float64\n",
      " 9   wind_mean           1095 non-null   float64\n",
      " 10  wind_max            1095 non-null   float64\n",
      " 11  rental              1095 non-null   float64\n",
      " 12  year                1095 non-null   int64  \n",
      " 13  month               1095 non-null   int64  \n",
      " 14  day                 1095 non-null   int64  \n",
      " 15  day_name_Friday     1095 non-null   uint8  \n",
      " 16  day_name_Monday     1095 non-null   uint8  \n",
      " 17  day_name_Saturday   1095 non-null   uint8  \n",
      " 18  day_name_Sunday     1095 non-null   uint8  \n",
      " 19  day_name_Thursday   1095 non-null   uint8  \n",
      " 20  day_name_Tuesday    1095 non-null   uint8  \n",
      " 21  day_name_Wednesday  1095 non-null   uint8  \n",
      "dtypes: float64(12), int64(3), uint8(7)\n",
      "memory usage: 135.9 KB\n"
     ]
    }
   ],
   "source": [
    "\n",
    "day = []\n",
    "\n",
    "for i in range(0,614):\n",
    "    if train_.index[i] % 7 == 0:\n",
    "        day.append(\"Monday\")\n",
    "    elif train_.index[i] % 7 == 1:\n",
    "        day.append(\"Tuesday\")\n",
    "    elif train_.index[i] % 7 ==2:\n",
    "        day.append(\"Wednesday\")\n",
    "    elif train_.index[i] % 7 == 3:\n",
    "        day.append(\"Thursday\")\n",
    "    elif train_.index[i] % 7 == 4:\n",
    "        day.append(\"Friday\")\n",
    "    elif train_.index[i] % 7 == 5:\n",
    "        day.append(\"Saturday\")\n",
    "    elif train_.index[i] % 7 == 6:\n",
    "        day.append(\"Sunday\")\n",
    "        \n",
    "for i in range(0,len(train_.day)-614):\n",
    "    if train_.index[i] % 7 == 0:\n",
    "        day.append(\"Sunday\")\n",
    "    elif train_.index[i] % 7 == 1:\n",
    "        day.append(\"Monday\")\n",
    "    elif train_.index[i] % 7 == 2:\n",
    "        day.append(\"Tuesday\")\n",
    "    elif train_.index[i] % 7 == 3:\n",
    "        day.append(\"Wednesday\")\n",
    "    elif train_.index[i] % 7 == 4:\n",
    "        day.append(\"Thursday\")\n",
    "    elif train_.index[i] % 7 == 5:\n",
    "        day.append(\"Friday\")\n",
    "    elif train_.index[i] % 7 == 6:\n",
    "        day.append(\"Saturday\")\n",
    " \n",
    "\n",
    "train_[\"day_name\"] = day\n",
    "train_= pd.get_dummies(data = train_,columns = ['day_name'])\n",
    "train_[\"rental\"] = np.log1p(train_[\"rental\"])\n",
    "train_.info()"
   ]
  },
  {
   "cell_type": "code",
   "execution_count": 5,
   "id": "5db37de5",
   "metadata": {
    "ExecuteTime": {
     "end_time": "2022-06-30T13:45:00.532697Z",
     "start_time": "2022-06-30T13:45:00.362096Z"
    }
   },
   "outputs": [
    {
     "name": "stdout",
     "output_type": "stream",
     "text": [
      "precipitation    0\n",
      "temp_mean        0\n",
      "temp_highest     0\n",
      "temp_lowest      0\n",
      "PM10             0\n",
      "PM2.5            0\n",
      "humidity         0\n",
      "sunshine_sum     1\n",
      "sunshine_rate    0\n",
      "wind_mean        0\n",
      "wind_max         0\n",
      "year             0\n",
      "month            0\n",
      "day              0\n",
      "dtype: int64\n"
     ]
    }
   ],
   "source": [
    "date=test_df['date'].tolist()\n",
    "cnt=0\n",
    "year=[]\n",
    "month=[]\n",
    "day=[]\n",
    "year_=''\n",
    "month_=''\n",
    "day_=''\n",
    "for _ in date:\n",
    "    list_=_.split('-')\n",
    "    for i in range(3):\n",
    "        if(i==0):\n",
    "\n",
    "            year_+=list_[i]\n",
    "        \n",
    "        elif(i==1):\n",
    "            month_+=list_[i]\n",
    "        elif(i==2):\n",
    "            day_+=list_[i]\n",
    "            \n",
    "    year.append(int(year_))\n",
    "    month.append(int(month_))\n",
    "    day.append(int(day_))\n",
    "    \n",
    "    cnt+=1\n",
    "    year_=''\n",
    "    month_=''\n",
    "    day_=''\n",
    "test_df=test_df.drop(columns='date')\n",
    "test_df['year']=year\n",
    "test_df['month']=month\n",
    "test_df['day']=day\n",
    "test_df\n",
    "test_df['precipitation']=test_df['precipitation'].fillna(0)\n",
    "print(test_df.isnull().sum())\n",
    "\n",
    "\n",
    "test_df=test_df.fillna(test_df.mean())"
   ]
  },
  {
   "cell_type": "code",
   "execution_count": 6,
   "id": "2d9d17d6",
   "metadata": {
    "ExecuteTime": {
     "end_time": "2022-06-30T13:45:00.665067Z",
     "start_time": "2022-06-30T13:45:00.542339Z"
    },
    "scrolled": true
   },
   "outputs": [],
   "source": [
    "day2= []\n",
    "\n",
    "for i in range(0,365):\n",
    "    if test_df.index[i] % 7 == 0:\n",
    "        day2.append(\"Friday\")\n",
    "    elif test_df.index[i] % 7 == 1:\n",
    "        day2.append(\"Saturday\")\n",
    "    elif test_df.index[i] % 7 ==2:\n",
    "        day2.append(\"Sunday\")\n",
    "    elif test_df.index[i] % 7 == 3:\n",
    "        day2.append(\"Monday\")\n",
    "    elif test_df.index[i] % 7 == 4:\n",
    "        day2.append(\"Tuesday\")\n",
    "    elif test_df.index[i] % 7 == 5:\n",
    "        day2.append(\"Wednesday\")\n",
    "    elif test_df.index[i] % 7 == 6:\n",
    "        day2.append(\"Thursday\")\n",
    "\n",
    "test_df[\"day_name\"] = day2\n",
    "test_df\n",
    "test_df = pd.get_dummies(data = test_df,columns = [\"day_name\"])\n"
   ]
  },
  {
   "cell_type": "code",
   "execution_count": 7,
   "id": "a98041ec",
   "metadata": {
    "ExecuteTime": {
     "end_time": "2022-06-30T13:45:00.743968Z",
     "start_time": "2022-06-30T13:45:00.683526Z"
    }
   },
   "outputs": [],
   "source": [
    "discomfort_index(train_)\n",
    "temp_sensible(train_)\n",
    "discomfort_index(test_df)\n",
    "temp_sensible(test_df)\n",
    "#일교차\n",
    "train_.insert(5,'temp_diff',train_['temp_highest'] - train_['temp_lowest'])\n",
    "test_df.insert(5,'temp_diff',train_['temp_highest'] - train_['temp_lowest'])\n",
    "#미세먼지 신호등\n",
    "pm_trafficlight(train_)\n",
    "pm_trafficlight(test_df)"
   ]
  },
  {
   "cell_type": "code",
   "execution_count": 8,
   "id": "b9f0c6c1",
   "metadata": {
    "ExecuteTime": {
     "end_time": "2022-06-30T13:45:00.803823Z",
     "start_time": "2022-06-30T13:45:00.783719Z"
    }
   },
   "outputs": [
    {
     "data": {
      "text/plain": [
       "0       34.0\n",
       "1       36.0\n",
       "2       31.0\n",
       "3       39.0\n",
       "4       51.0\n",
       "        ... \n",
       "1090    70.0\n",
       "1091    66.0\n",
       "1092    69.0\n",
       "1093    39.0\n",
       "1094    28.0\n",
       "Name: PM10, Length: 1095, dtype: float64"
      ]
     },
     "execution_count": 8,
     "metadata": {},
     "output_type": "execute_result"
    }
   ],
   "source": [
    "train_['PM10']"
   ]
  },
  {
   "cell_type": "code",
   "execution_count": 9,
   "id": "3703e21f",
   "metadata": {
    "ExecuteTime": {
     "end_time": "2022-06-30T13:45:01.011450Z",
     "start_time": "2022-06-30T13:45:00.808005Z"
    }
   },
   "outputs": [
    {
     "name": "stderr",
     "output_type": "stream",
     "text": [
      "/Library/Frameworks/Python.framework/Versions/3.9/lib/python3.9/site-packages/sklearn/preprocessing/_data.py:2583: UserWarning: n_quantiles (1000) is greater than the total number of samples (365). n_quantiles is set to n_samples.\n",
      "  warnings.warn(\n"
     ]
    }
   ],
   "source": [
    "scaler1 = QuantileTransformer()\n",
    "scaler2 = QuantileTransformer()\n",
    "# col___list = ['PM10','PM2.5','sunshine_rate','sunshine_sum']\n",
    "# col___list = ['PM10','PM2.5','sunshine_rate','sunshine_sum', 'precipitation', 'PM10','PM2.5','wind_mean','wind_max']\n",
    "col___list = ['PM10','PM2.5','sunshine_rate','sunshine_sum', 'precipitation', 'PM10','PM2.5']\n",
    "# col___list = ['PM10','PM2.5','sunshine_rate','sunshine_sum', 'precipitation', 'PM10','PM2.5','wind_mean'\n",
    "#               ,'wind_max','temp_mean','temp_highest','temp_lowest','humidity']\n",
    "\n",
    "# col___list = ['PM10','PM2.5','sunshine_rate','sunshine_sum', 'precipitation', 'PM10','PM2.5','wind_mean'\n",
    "#               ,'wind_max','humidity']\n",
    "# col___list = bicycle.columns\n",
    "scaler1.fit(train_[col___list])\n",
    "X_train_scaled = scaler1.transform(train_[col___list])\n",
    "train_[col___list] =X_train_scaled\n",
    "scaler2.fit(test_df[col___list])\n",
    "X_train_scaled = scaler2.transform(test_df[col___list])\n",
    "test_df[col___list] =X_train_scaled\n"
   ]
  },
  {
   "cell_type": "code",
   "execution_count": 10,
   "id": "880fe8d5",
   "metadata": {
    "ExecuteTime": {
     "end_time": "2022-06-30T13:45:01.057960Z",
     "start_time": "2022-06-30T13:45:01.035684Z"
    }
   },
   "outputs": [],
   "source": [
    "# normal distribution\n"
   ]
  },
  {
   "cell_type": "code",
   "execution_count": 11,
   "id": "9b0c672c",
   "metadata": {
    "ExecuteTime": {
     "end_time": "2022-06-30T13:45:01.122359Z",
     "start_time": "2022-06-30T13:45:01.068847Z"
    }
   },
   "outputs": [],
   "source": [
    "#미세먼지 onehot\n",
    "train_ = pd.get_dummies(data = train_,columns = ['pm'])\n",
    "test_df = pd.get_dummies(data = test_df,columns = ['pm'])\n",
    "test_df['pm_4']=0.0\n",
    "test_df['pm_4']=test_df['pm_4'].astype('uint8')\n",
    "train_['dust'] = train_['PM10'] * train_['PM2.5']\n",
    "train_['temp_ratio'] = abs(train_['temp_highest'] - train_['temp_lowest'])\n",
    "train_['daytime'] = train_['sunshine_rate'] / train_['sunshine_sum']\n",
    "train_['daytime'] = train_['daytime'].fillna(method='bfill')\n",
    "test_df['dust'] = test_df['PM10'] * test_df['PM2.5']\n",
    "test_df['temp_ratio'] = abs(test_df['temp_highest'] - test_df['temp_lowest'])\n",
    "test_df['daytime'] = test_df['sunshine_rate'] / test_df['sunshine_sum']\n",
    "test_df['daytime'] = test_df['daytime'].fillna(method='bfill')\n"
   ]
  },
  {
   "cell_type": "code",
   "execution_count": null,
   "id": "2b6d80bc",
   "metadata": {},
   "outputs": [],
   "source": []
  },
  {
   "cell_type": "code",
   "execution_count": 12,
   "id": "88e98df1",
   "metadata": {
    "ExecuteTime": {
     "end_time": "2022-06-30T13:45:01.208154Z",
     "start_time": "2022-06-30T13:45:01.127887Z"
    }
   },
   "outputs": [],
   "source": [
    "test_df=test_df.fillna(0)\n",
    "train_=train_.drop(columns='sunshine_sum')\n",
    "test_df=test_df.drop(columns='sunshine_sum')\n",
    "#train_=train_.drop(columns='sunshine_rate')\n",
    "#test_df=test_df.drop(columns='sunshine_rate')\n",
    "#new_row = train_.loc[[613]]\n",
    "#train_ = pd.concat([train_.iloc[:613], new_row, train_.iloc[613:]], ignore_index = True)\n"
   ]
  },
  {
   "cell_type": "code",
   "execution_count": null,
   "id": "e7ed6056",
   "metadata": {},
   "outputs": [],
   "source": []
  },
  {
   "cell_type": "code",
   "execution_count": 13,
   "id": "4174914b",
   "metadata": {
    "ExecuteTime": {
     "end_time": "2022-06-30T13:45:01.251376Z",
     "start_time": "2022-06-30T13:45:01.222529Z"
    }
   },
   "outputs": [],
   "source": [
    "train = train.drop(index=788, axis = 0)\n"
   ]
  },
  {
   "cell_type": "code",
   "execution_count": 14,
   "id": "22c456d7",
   "metadata": {
    "ExecuteTime": {
     "end_time": "2022-06-30T13:45:05.311450Z",
     "start_time": "2022-06-30T13:45:01.264166Z"
    }
   },
   "outputs": [],
   "source": [
    "import xgboost\n",
    "from xgboost import XGBRegressor\n",
    "from xgboost import XGBRegressor as model\n",
    "\n",
    "y = train_['rental']\n",
    "x= train_.drop('rental',axis =1)\n",
    "model = XGBRegressor(objective='reg:squarederror',learning_rate=0.1,max_depth = 4, n_estimators = 1000)\n",
    "\n",
    "\n",
    "\n",
    "model.fit(x, y)\n",
    "pred = model.predict(test_df)                                   \n",
    "      \n"
   ]
  },
  {
   "cell_type": "code",
   "execution_count": 15,
   "id": "019eedd5",
   "metadata": {
    "ExecuteTime": {
     "end_time": "2022-06-30T13:45:05.348906Z",
     "start_time": "2022-06-30T13:45:05.316196Z"
    }
   },
   "outputs": [],
   "source": [
    "                     \n",
    "pred = pd.DataFrame(pred, columns=['rental'])\n",
    "pred = np.expm1(pred)*1.35"
   ]
  },
  {
   "cell_type": "code",
   "execution_count": 16,
   "id": "5c4f43cd",
   "metadata": {
    "ExecuteTime": {
     "end_time": "2022-06-30T13:45:05.429918Z",
     "start_time": "2022-06-30T13:45:05.415654Z"
    }
   },
   "outputs": [],
   "source": [
    "# # sns.pairplot(data_df, hue = 'date_year', markers = ['o','s','d'])\n",
    "# # plt.show()\n",
    "# sns.pairplot(train)"
   ]
  },
  {
   "cell_type": "code",
   "execution_count": 17,
   "id": "0902bea5",
   "metadata": {
    "ExecuteTime": {
     "end_time": "2022-06-30T13:45:06.050981Z",
     "start_time": "2022-06-30T13:45:05.510256Z"
    }
   },
   "outputs": [
    {
     "data": {
      "text/plain": [
       "0.16131674637594595"
      ]
     },
     "execution_count": 17,
     "metadata": {},
     "output_type": "execute_result"
    }
   ],
   "source": [
    "result = pd.concat([test_date, pred],axis=1)\n",
    "result = seperate_datetime(result)\n",
    "enter_week(result)\n",
    "# enter_month(result)\n",
    "result = pd.concat([test_df, result['rental']],axis=1)\n",
    "real_data = pd.read_csv('real_data.csv')\n",
    "NMAE(real_data['rental'],pred['rental'])\n",
    "#0.20994305332561805\n",
    "#0.1759140807412157\n",
    "#0.17160655151714022 result_2\n",
    "#0.169358561366779\n",
    "#0.16833088271950228 #1.03 예측값에 곱하면 더 오른다.\n",
    "#0.1636956776772946 예측할때 곱하는거\n",
    "#0.16183995947493923\n",
    "# 0.16131674637594595"
   ]
  },
  {
   "cell_type": "code",
   "execution_count": 18,
   "id": "066cfb94",
   "metadata": {
    "ExecuteTime": {
     "end_time": "2022-06-30T13:45:06.165507Z",
     "start_time": "2022-06-30T13:45:06.080770Z"
    }
   },
   "outputs": [
    {
     "data": {
      "text/html": [
       "<div>\n",
       "<style scoped>\n",
       "    .dataframe tbody tr th:only-of-type {\n",
       "        vertical-align: middle;\n",
       "    }\n",
       "\n",
       "    .dataframe tbody tr th {\n",
       "        vertical-align: top;\n",
       "    }\n",
       "\n",
       "    .dataframe thead th {\n",
       "        text-align: right;\n",
       "    }\n",
       "</style>\n",
       "<table border=\"1\" class=\"dataframe\">\n",
       "  <thead>\n",
       "    <tr style=\"text-align: right;\">\n",
       "      <th></th>\n",
       "      <th>date</th>\n",
       "      <th>rental</th>\n",
       "    </tr>\n",
       "  </thead>\n",
       "  <tbody>\n",
       "    <tr>\n",
       "      <th>0</th>\n",
       "      <td>2021-01-01</td>\n",
       "      <td>22798.802734</td>\n",
       "    </tr>\n",
       "    <tr>\n",
       "      <th>1</th>\n",
       "      <td>2021-01-02</td>\n",
       "      <td>28337.335938</td>\n",
       "    </tr>\n",
       "    <tr>\n",
       "      <th>2</th>\n",
       "      <td>2021-01-03</td>\n",
       "      <td>17928.519531</td>\n",
       "    </tr>\n",
       "    <tr>\n",
       "      <th>3</th>\n",
       "      <td>2021-01-04</td>\n",
       "      <td>33049.207031</td>\n",
       "    </tr>\n",
       "    <tr>\n",
       "      <th>4</th>\n",
       "      <td>2021-01-05</td>\n",
       "      <td>26437.000000</td>\n",
       "    </tr>\n",
       "    <tr>\n",
       "      <th>...</th>\n",
       "      <td>...</td>\n",
       "      <td>...</td>\n",
       "    </tr>\n",
       "    <tr>\n",
       "      <th>360</th>\n",
       "      <td>2021-12-27</td>\n",
       "      <td>32515.898438</td>\n",
       "    </tr>\n",
       "    <tr>\n",
       "      <th>361</th>\n",
       "      <td>2021-12-28</td>\n",
       "      <td>31809.652344</td>\n",
       "    </tr>\n",
       "    <tr>\n",
       "      <th>362</th>\n",
       "      <td>2021-12-29</td>\n",
       "      <td>44192.042969</td>\n",
       "    </tr>\n",
       "    <tr>\n",
       "      <th>363</th>\n",
       "      <td>2021-12-30</td>\n",
       "      <td>36165.414062</td>\n",
       "    </tr>\n",
       "    <tr>\n",
       "      <th>364</th>\n",
       "      <td>2021-12-31</td>\n",
       "      <td>38386.039062</td>\n",
       "    </tr>\n",
       "  </tbody>\n",
       "</table>\n",
       "<p>365 rows × 2 columns</p>\n",
       "</div>"
      ],
      "text/plain": [
       "           date        rental\n",
       "0    2021-01-01  22798.802734\n",
       "1    2021-01-02  28337.335938\n",
       "2    2021-01-03  17928.519531\n",
       "3    2021-01-04  33049.207031\n",
       "4    2021-01-05  26437.000000\n",
       "..          ...           ...\n",
       "360  2021-12-27  32515.898438\n",
       "361  2021-12-28  31809.652344\n",
       "362  2021-12-29  44192.042969\n",
       "363  2021-12-30  36165.414062\n",
       "364  2021-12-31  38386.039062\n",
       "\n",
       "[365 rows x 2 columns]"
      ]
     },
     "execution_count": 18,
     "metadata": {},
     "output_type": "execute_result"
    }
   ],
   "source": [
    "sample['rental'] = pred\n",
    "sample"
   ]
  },
  {
   "cell_type": "code",
   "execution_count": 19,
   "id": "e8707546",
   "metadata": {
    "ExecuteTime": {
     "end_time": "2022-06-30T13:45:06.260572Z",
     "start_time": "2022-06-30T13:45:06.176041Z"
    }
   },
   "outputs": [
    {
     "data": {
      "text/html": [
       "<div>\n",
       "<style scoped>\n",
       "    .dataframe tbody tr th:only-of-type {\n",
       "        vertical-align: middle;\n",
       "    }\n",
       "\n",
       "    .dataframe tbody tr th {\n",
       "        vertical-align: top;\n",
       "    }\n",
       "\n",
       "    .dataframe thead th {\n",
       "        text-align: right;\n",
       "    }\n",
       "</style>\n",
       "<table border=\"1\" class=\"dataframe\">\n",
       "  <thead>\n",
       "    <tr style=\"text-align: right;\">\n",
       "      <th></th>\n",
       "      <th>date</th>\n",
       "      <th>rental</th>\n",
       "    </tr>\n",
       "  </thead>\n",
       "  <tbody>\n",
       "    <tr>\n",
       "      <th>0</th>\n",
       "      <td>2021-01-01</td>\n",
       "      <td>22274</td>\n",
       "    </tr>\n",
       "    <tr>\n",
       "      <th>1</th>\n",
       "      <td>2021-01-02</td>\n",
       "      <td>23631</td>\n",
       "    </tr>\n",
       "    <tr>\n",
       "      <th>2</th>\n",
       "      <td>2021-01-03</td>\n",
       "      <td>21809</td>\n",
       "    </tr>\n",
       "    <tr>\n",
       "      <th>3</th>\n",
       "      <td>2021-01-04</td>\n",
       "      <td>32957</td>\n",
       "    </tr>\n",
       "    <tr>\n",
       "      <th>4</th>\n",
       "      <td>2021-01-05</td>\n",
       "      <td>29033</td>\n",
       "    </tr>\n",
       "    <tr>\n",
       "      <th>...</th>\n",
       "      <td>...</td>\n",
       "      <td>...</td>\n",
       "    </tr>\n",
       "    <tr>\n",
       "      <th>360</th>\n",
       "      <td>2021-12-27</td>\n",
       "      <td>42521</td>\n",
       "    </tr>\n",
       "    <tr>\n",
       "      <th>361</th>\n",
       "      <td>2021-12-28</td>\n",
       "      <td>51268</td>\n",
       "    </tr>\n",
       "    <tr>\n",
       "      <th>362</th>\n",
       "      <td>2021-12-29</td>\n",
       "      <td>52017</td>\n",
       "    </tr>\n",
       "    <tr>\n",
       "      <th>363</th>\n",
       "      <td>2021-12-30</td>\n",
       "      <td>48993</td>\n",
       "    </tr>\n",
       "    <tr>\n",
       "      <th>364</th>\n",
       "      <td>2021-12-31</td>\n",
       "      <td>40604</td>\n",
       "    </tr>\n",
       "  </tbody>\n",
       "</table>\n",
       "<p>365 rows × 2 columns</p>\n",
       "</div>"
      ],
      "text/plain": [
       "           date  rental\n",
       "0    2021-01-01   22274\n",
       "1    2021-01-02   23631\n",
       "2    2021-01-03   21809\n",
       "3    2021-01-04   32957\n",
       "4    2021-01-05   29033\n",
       "..          ...     ...\n",
       "360  2021-12-27   42521\n",
       "361  2021-12-28   51268\n",
       "362  2021-12-29   52017\n",
       "363  2021-12-30   48993\n",
       "364  2021-12-31   40604\n",
       "\n",
       "[365 rows x 2 columns]"
      ]
     },
     "execution_count": 19,
     "metadata": {},
     "output_type": "execute_result"
    }
   ],
   "source": [
    "\n",
    "sample.to_csv('0.16131674637594595.csv',index=False, encoding = 'UTF-8')\n",
    "real_data"
   ]
  },
  {
   "cell_type": "code",
   "execution_count": 20,
   "id": "e8c84966",
   "metadata": {
    "ExecuteTime": {
     "end_time": "2022-06-30T13:45:06.282911Z",
     "start_time": "2022-06-30T13:45:06.266645Z"
    }
   },
   "outputs": [
    {
     "name": "stdout",
     "output_type": "stream",
     "text": [
      "1.0495538989184547\n",
      "1.0140156738611994\n"
     ]
    }
   ],
   "source": [
    "p1=sum(train_[train_['year']==2018]['PM10'])\n",
    "p2=sum(train_[train_['year']==2019]['PM10'])\n",
    "p3=sum(train_[train_['year']==2020]['PM10'])\n",
    "\n",
    "print(p3/p1)\n",
    "print(p3/p2)"
   ]
  },
  {
   "cell_type": "code",
   "execution_count": 21,
   "id": "f0cf6521",
   "metadata": {
    "ExecuteTime": {
     "end_time": "2022-06-30T13:45:06.336926Z",
     "start_time": "2022-06-30T13:45:06.308667Z"
    }
   },
   "outputs": [
    {
     "data": {
      "text/plain": [
       "Int64Index([ 89,  90,  91,  94,  95,  96,  97,  98,  99, 100,\n",
       "            ...\n",
       "            307, 308, 309, 310, 317, 318, 319, 321, 322, 332],\n",
       "           dtype='int64', length=133)"
      ]
     },
     "execution_count": 21,
     "metadata": {},
     "output_type": "execute_result"
    }
   ],
   "source": [
    "fu=pred[(pred['rental']>=100000)&(pred['rental']<=140000)]['rental'].index.unique()\n",
    "fu"
   ]
  },
  {
   "cell_type": "code",
   "execution_count": 22,
   "id": "5d107381",
   "metadata": {
    "ExecuteTime": {
     "end_time": "2022-06-30T13:45:06.343409Z",
     "start_time": "2022-06-30T13:45:06.339814Z"
    }
   },
   "outputs": [],
   "source": [
    "# tt=[]\n",
    "# for _ in fu:\n",
    "#     tt.append(train_.loc[_]['PM10'])\n",
    "# tt"
   ]
  },
  {
   "cell_type": "code",
   "execution_count": 23,
   "id": "21e347a1",
   "metadata": {
    "ExecuteTime": {
     "end_time": "2022-06-30T13:45:06.388737Z",
     "start_time": "2022-06-30T13:45:06.378488Z"
    }
   },
   "outputs": [
    {
     "data": {
      "text/plain": [
       "array(['2021-03-31', '2021-04-01', '2021-04-02', '2021-04-05',\n",
       "       '2021-04-06', '2021-04-07', '2021-04-08', '2021-04-09',\n",
       "       '2021-04-10', '2021-04-11', '2021-04-15', '2021-04-18',\n",
       "       '2021-04-19', '2021-04-20', '2021-04-21', '2021-04-22',\n",
       "       '2021-04-23', '2021-04-24', '2021-04-25', '2021-04-26',\n",
       "       '2021-04-27', '2021-04-28', '2021-04-29', '2021-05-02',\n",
       "       '2021-05-03', '2021-05-05', '2021-05-06', '2021-05-09',\n",
       "       '2021-05-11', '2021-05-12', '2021-05-13', '2021-05-14',\n",
       "       '2021-05-18', '2021-05-19', '2021-05-22', '2021-05-23',\n",
       "       '2021-05-24', '2021-05-26', '2021-05-31', '2021-06-01',\n",
       "       '2021-06-02', '2021-06-04', '2021-06-05', '2021-06-06',\n",
       "       '2021-06-07', '2021-06-08', '2021-06-09', '2021-06-11',\n",
       "       '2021-06-12', '2021-06-13', '2021-06-14', '2021-06-16',\n",
       "       '2021-06-17', '2021-06-19', '2021-06-20', '2021-06-21',\n",
       "       '2021-06-22', '2021-06-23', '2021-06-24', '2021-06-26',\n",
       "       '2021-06-28', '2021-06-29', '2021-06-30', '2021-07-01',\n",
       "       '2021-07-02', '2021-07-05', '2021-07-07', '2021-07-08',\n",
       "       '2021-07-09', '2021-07-10', '2021-07-12', '2021-07-13',\n",
       "       '2021-07-14', '2021-07-15', '2021-07-16', '2021-07-17',\n",
       "       '2021-07-20', '2021-07-21', '2021-07-22', '2021-07-23',\n",
       "       '2021-07-26', '2021-07-27', '2021-07-28', '2021-07-29',\n",
       "       '2021-07-30', '2021-08-03', '2021-08-04', '2021-08-05',\n",
       "       '2021-08-06', '2021-08-07', '2021-08-09', '2021-08-10',\n",
       "       '2021-08-11', '2021-08-12', '2021-08-13', '2021-08-14',\n",
       "       '2021-08-15', '2021-08-16', '2021-08-18', '2021-08-20',\n",
       "       '2021-08-22', '2021-08-25', '2021-08-26', '2021-08-28',\n",
       "       '2021-08-29', '2021-09-01', '2021-09-02', '2021-09-05',\n",
       "       '2021-09-08', '2021-09-11', '2021-09-12', '2021-09-18',\n",
       "       '2021-09-19', '2021-09-20', '2021-09-22', '2021-09-26',\n",
       "       '2021-09-27', '2021-10-01', '2021-10-02', '2021-10-03',\n",
       "       '2021-10-05', '2021-10-07', '2021-10-09', '2021-10-11',\n",
       "       '2021-10-12', '2021-10-15', '2021-10-19', '2021-10-20',\n",
       "       '2021-10-21', '2021-10-22', '2021-10-23', '2021-10-25',\n",
       "       '2021-10-26', '2021-10-27', '2021-10-28', '2021-10-29',\n",
       "       '2021-10-30', '2021-11-01', '2021-11-02', '2021-11-03',\n",
       "       '2021-11-04', '2021-11-05', '2021-11-06', '2021-11-07',\n",
       "       '2021-11-15', '2021-11-16', '2021-11-17', '2021-11-18',\n",
       "       '2021-11-19'], dtype=object)"
      ]
     },
     "execution_count": 23,
     "metadata": {},
     "output_type": "execute_result"
    }
   ],
   "source": [
    "real_data[(real_data['rental']>=100000)&(real_data['rental']<=140000)]['date'].unique()\n",
    "\n"
   ]
  },
  {
   "cell_type": "code",
   "execution_count": 24,
   "id": "ec59a6f6",
   "metadata": {
    "ExecuteTime": {
     "end_time": "2022-06-30T13:45:06.512845Z",
     "start_time": "2022-06-30T13:45:06.393140Z"
    }
   },
   "outputs": [
    {
     "data": {
      "text/html": [
       "<div>\n",
       "<style scoped>\n",
       "    .dataframe tbody tr th:only-of-type {\n",
       "        vertical-align: middle;\n",
       "    }\n",
       "\n",
       "    .dataframe tbody tr th {\n",
       "        vertical-align: top;\n",
       "    }\n",
       "\n",
       "    .dataframe thead th {\n",
       "        text-align: right;\n",
       "    }\n",
       "</style>\n",
       "<table border=\"1\" class=\"dataframe\">\n",
       "  <thead>\n",
       "    <tr style=\"text-align: right;\">\n",
       "      <th></th>\n",
       "      <th>rental</th>\n",
       "      <th>rental1</th>\n",
       "    </tr>\n",
       "  </thead>\n",
       "  <tbody>\n",
       "    <tr>\n",
       "      <th>0</th>\n",
       "      <td>22798.802734</td>\n",
       "      <td>22274</td>\n",
       "    </tr>\n",
       "    <tr>\n",
       "      <th>1</th>\n",
       "      <td>28337.335938</td>\n",
       "      <td>23631</td>\n",
       "    </tr>\n",
       "    <tr>\n",
       "      <th>2</th>\n",
       "      <td>17928.519531</td>\n",
       "      <td>21809</td>\n",
       "    </tr>\n",
       "    <tr>\n",
       "      <th>3</th>\n",
       "      <td>33049.207031</td>\n",
       "      <td>32957</td>\n",
       "    </tr>\n",
       "    <tr>\n",
       "      <th>4</th>\n",
       "      <td>26437.000000</td>\n",
       "      <td>29033</td>\n",
       "    </tr>\n",
       "    <tr>\n",
       "      <th>...</th>\n",
       "      <td>...</td>\n",
       "      <td>...</td>\n",
       "    </tr>\n",
       "    <tr>\n",
       "      <th>360</th>\n",
       "      <td>32515.898438</td>\n",
       "      <td>42521</td>\n",
       "    </tr>\n",
       "    <tr>\n",
       "      <th>361</th>\n",
       "      <td>31809.652344</td>\n",
       "      <td>51268</td>\n",
       "    </tr>\n",
       "    <tr>\n",
       "      <th>362</th>\n",
       "      <td>44192.042969</td>\n",
       "      <td>52017</td>\n",
       "    </tr>\n",
       "    <tr>\n",
       "      <th>363</th>\n",
       "      <td>36165.414062</td>\n",
       "      <td>48993</td>\n",
       "    </tr>\n",
       "    <tr>\n",
       "      <th>364</th>\n",
       "      <td>38386.039062</td>\n",
       "      <td>40604</td>\n",
       "    </tr>\n",
       "  </tbody>\n",
       "</table>\n",
       "<p>365 rows × 2 columns</p>\n",
       "</div>"
      ],
      "text/plain": [
       "           rental  rental1\n",
       "0    22798.802734    22274\n",
       "1    28337.335938    23631\n",
       "2    17928.519531    21809\n",
       "3    33049.207031    32957\n",
       "4    26437.000000    29033\n",
       "..            ...      ...\n",
       "360  32515.898438    42521\n",
       "361  31809.652344    51268\n",
       "362  44192.042969    52017\n",
       "363  36165.414062    48993\n",
       "364  38386.039062    40604\n",
       "\n",
       "[365 rows x 2 columns]"
      ]
     },
     "execution_count": 24,
     "metadata": {},
     "output_type": "execute_result"
    }
   ],
   "source": [
    "p1=pred[['rental']]\n",
    "p1['rental1']=real_data['rental']\n",
    "p1"
   ]
  },
  {
   "cell_type": "code",
   "execution_count": 25,
   "id": "3196eada",
   "metadata": {
    "ExecuteTime": {
     "end_time": "2022-06-30T13:45:08.043912Z",
     "start_time": "2022-06-30T13:45:06.520626Z"
    }
   },
   "outputs": [
    {
     "name": "stderr",
     "output_type": "stream",
     "text": [
      "No artists with labels found to put in legend.  Note that artists whose label start with an underscore are ignored when legend() is called with no argument.\n"
     ]
    },
    {
     "data": {
      "image/png": "[encoded data removed]",
      "text/plain": [
       "<Figure size 432x288 with 1 Axes>"
      ]
     },
     "metadata": {
      "needs_background": "light"
     },
     "output_type": "display_data"
    }
   ],
   "source": [
    "#vkfkd색이 예측값\n",
    "# 주황색이 실제값\n",
    "plt.scatter(p1.index,p1['rental'])\n",
    "plt.scatter(p1.index,p1['rental1'])\n",
    "plt.legend()\n",
    "plt.show()"
   ]
  },
  {
   "cell_type": "code",
   "execution_count": 26,
   "id": "01fc39d3",
   "metadata": {
    "ExecuteTime": {
     "end_time": "2022-06-30T13:45:08.078734Z",
     "start_time": "2022-06-30T13:45:08.058529Z"
    }
   },
   "outputs": [
    {
     "data": {
      "text/plain": [
       "33181740.91845703"
      ]
     },
     "execution_count": 26,
     "metadata": {},
     "output_type": "execute_result"
    }
   ],
   "source": [
    "sum(pred['rental']*1.06)"
   ]
  },
  {
   "cell_type": "code",
   "execution_count": 27,
   "id": "8b09d6e0",
   "metadata": {
    "ExecuteTime": {
     "end_time": "2022-06-30T13:45:08.103403Z",
     "start_time": "2022-06-30T13:45:08.083780Z"
    }
   },
   "outputs": [
    {
     "data": {
      "text/plain": [
       "32054693"
      ]
     },
     "execution_count": 27,
     "metadata": {},
     "output_type": "execute_result"
    }
   ],
   "source": [
    "sum(real_data['rental'])"
   ]
  },
  {
   "cell_type": "code",
   "execution_count": 28,
   "id": "12eb9616",
   "metadata": {
    "ExecuteTime": {
     "end_time": "2022-06-30T13:45:08.696412Z",
     "start_time": "2022-06-30T13:45:08.113354Z"
    }
   },
   "outputs": [
    {
     "name": "stderr",
     "output_type": "stream",
     "text": [
      "No artists with labels found to put in legend.  Note that artists whose label start with an underscore are ignored when legend() is called with no argument.\n"
     ]
    },
    {
     "data": {
      "image/png": "[encoded data removed]",
      "text/plain": [
       "<Figure size 432x288 with 1 Axes>"
      ]
     },
     "metadata": {
      "needs_background": "light"
     },
     "output_type": "display_data"
    }
   ],
   "source": [
    "plt.legend()\n",
    "plt.show()"
   ]
  },
  {
   "cell_type": "code",
   "execution_count": null,
   "id": "8f18add4",
   "metadata": {},
   "outputs": [],
   "source": []
  }
 ],
 "metadata": {
  "kernelspec": {
   "display_name": "Python 3 (ipykernel)",
   "language": "python",
   "name": "python3"
  },
  "language_info": {
   "codemirror_mode": {
    "name": "ipython",
    "version": 3
   },
   "file_extension": ".py",
   "mimetype": "text/x-python",
   "name": "python",
   "nbconvert_exporter": "python",
   "pygments_lexer": "ipython3",
   "version": "3.9.9"
  },
  "toc": {
   "base_numbering": 1,
   "nav_menu": {},
   "number_sections": true,
   "sideBar": true,
   "skip_h1_title": false,
   "title_cell": "Table of Contents",
   "title_sidebar": "Contents",
   "toc_cell": false,
   "toc_position": {},
   "toc_section_display": true,
   "toc_window_display": false
  }
 },
 "nbformat": 4,
 "nbformat_minor": 5
}
