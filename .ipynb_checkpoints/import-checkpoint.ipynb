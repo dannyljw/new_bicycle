{
 "cells": [
  {
   "cell_type": "markdown",
   "id": "425660f4",
   "metadata": {},
   "source": [
    "# library import"
   ]
  },
  {
   "cell_type": "code",
   "execution_count": 1,
   "id": "8f894c36",
   "metadata": {
    "ExecuteTime": {
     "end_time": "2022-06-22T14:22:26.279080Z",
     "start_time": "2022-06-22T14:22:18.883829Z"
    }
   },
   "outputs": [],
   "source": [
    "import numpy as np\n",
    "import seaborn as sns\n",
    "import pandas as pd\n",
    "import matplotlib.pyplot as plt\n",
    "# import xgboost\n",
    "import xgboost\n",
    "from xgboost import XGBRegressor\n",
    "# , plot_tree, plot_importance"
   ]
  },
  {
   "cell_type": "code",
   "execution_count": 2,
   "id": "cdea6ff9",
   "metadata": {
    "ExecuteTime": {
     "end_time": "2022-06-22T14:22:26.882530Z",
     "start_time": "2022-06-22T14:22:26.284162Z"
    }
   },
   "outputs": [
    {
     "ename": "NameError",
     "evalue": "name 'train_df' is not defined",
     "output_type": "error",
     "traceback": [
      "\u001b[0;31m---------------------------------------------------------------------------\u001b[0m",
      "\u001b[0;31mNameError\u001b[0m                                 Traceback (most recent call last)",
      "Input \u001b[0;32mIn [2]\u001b[0m, in \u001b[0;36m<module>\u001b[0;34m\u001b[0m\n\u001b[1;32m      2\u001b[0m test_df  \u001b[38;5;241m=\u001b[39m pd\u001b[38;5;241m.\u001b[39mread_csv(\u001b[38;5;124m'\u001b[39m\u001b[38;5;124mtest.csv\u001b[39m\u001b[38;5;124m'\u001b[39m)\n\u001b[1;32m      3\u001b[0m sub_df   \u001b[38;5;241m=\u001b[39m pd\u001b[38;5;241m.\u001b[39mread_csv(\u001b[38;5;124m'\u001b[39m\u001b[38;5;124msample_submission.csv\u001b[39m\u001b[38;5;124m'\u001b[39m)\n\u001b[0;32m----> 4\u001b[0m \u001b[43mtrain_df\u001b[49m\n",
      "\u001b[0;31mNameError\u001b[0m: name 'train_df' is not defined"
     ]
    }
   ],
   "source": [
    "data_df = pd.read_csv('train.csv')\n",
    "test_df  = pd.read_csv('test.csv')\n",
    "sub_df   = pd.read_csv('sample_submission.csv')\n",
    "train_df"
   ]
  },
  {
   "cell_type": "markdown",
   "id": "1476bd00",
   "metadata": {},
   "source": [
    "# 결측값 확인"
   ]
  },
  {
   "cell_type": "markdown",
   "id": "bd836476",
   "metadata": {},
   "source": [
    "## 데이터 칼럼/의미 확인"
   ]
  },
  {
   "cell_type": "code",
   "execution_count": null,
   "id": "fa62e7a6",
   "metadata": {
    "ExecuteTime": {
     "end_time": "2022-06-22T14:22:26.887214Z",
     "start_time": "2022-06-22T14:22:26.887188Z"
    }
   },
   "outputs": [],
   "source": [
    "data_df.columns"
   ]
  },
  {
   "cell_type": "markdown",
   "id": "cfefcc81",
   "metadata": {},
   "source": [
    "### 의미확인\n",
    "\n",
    ">date: 날짜\n",
    "precipitation: 강수량(mm)\n",
    "\n",
    "> temp_mean: 평균 기온(℃)\n",
    "temp_highest: 최고 기온(℃)\n",
    "temp_lowest: 최저 기온(℃)\n",
    "\n",
    "> PM10: 미세먼지(㎍/㎥)\n",
    "PM2.5: 초미세먼지(㎍/㎥)\n",
    "\n",
    "> humidity: 습도(%rh)\n",
    "\n",
    "> sunshine_sum: 일조합\n",
    "sunshine_rate: 일조율\n",
    "\n",
    "> wind_mean: 평균 풍속(m/s)\n",
    "wind_max: 최대 풍속(m/s)\n",
    "\n",
    "> rentals : 따릉이 대여량"
   ]
  },
  {
   "cell_type": "code",
   "execution_count": null,
   "id": "4a83976c",
   "metadata": {
    "ExecuteTime": {
     "end_time": "2022-06-22T14:22:26.890948Z",
     "start_time": "2022-06-22T14:22:26.890886Z"
    }
   },
   "outputs": [],
   "source": [
    "data_df.info()"
   ]
  },
  {
   "cell_type": "markdown",
   "id": "c3d47698",
   "metadata": {},
   "source": [
    "#### data_df['date'] : object -> datetime 으로 변경"
   ]
  },
  {
   "cell_type": "code",
   "execution_count": null,
   "id": "155bbe6a",
   "metadata": {
    "ExecuteTime": {
     "end_time": "2022-06-22T14:22:26.893832Z",
     "start_time": "2022-06-22T14:22:26.893807Z"
    }
   },
   "outputs": [],
   "source": [
    "from datetime import datetime\n",
    "import time\n",
    "data_df['date'] = pd.to_datetime(data_df['date'])\n",
    "test_df['date'] = pd.to_datetime(test_df['date'])\n",
    "data_df.head()"
   ]
  },
  {
   "cell_type": "markdown",
   "id": "2d082e99",
   "metadata": {},
   "source": [
    "### 결측치 처리는 어떻게 할 것인지에 대해서 생각"
   ]
  },
  {
   "cell_type": "code",
   "execution_count": null,
   "id": "d47f70ac",
   "metadata": {
    "ExecuteTime": {
     "end_time": "2022-06-22T14:22:26.898137Z",
     "start_time": "2022-06-22T14:22:26.898103Z"
    },
    "scrolled": true
   },
   "outputs": [],
   "source": [
    "data_df.isnull().sum()"
   ]
  },
  {
   "cell_type": "code",
   "execution_count": null,
   "id": "24669fd9",
   "metadata": {
    "ExecuteTime": {
     "end_time": "2022-06-22T14:22:26.906164Z",
     "start_time": "2022-06-22T14:22:26.906137Z"
    }
   },
   "outputs": [],
   "source": [
    "test_df['date'][0].year"
   ]
  },
  {
   "cell_type": "code",
   "execution_count": null,
   "id": "16f615ef",
   "metadata": {
    "ExecuteTime": {
     "end_time": "2022-06-22T14:22:26.908711Z",
     "start_time": "2022-06-22T14:22:26.908686Z"
    }
   },
   "outputs": [],
   "source": [
    "# date 에서 year 만 따로 뽑았음\n",
    "data_df['date_year'] = 0\n",
    "for i in range(len(data_df['date'])):\n",
    "    data_df['date_year'][i] = data_df['date'][i].year\n",
    "# print(data_df['date_year'])\n",
    "\n",
    "# date 에서 year 를 제외한 Month, Day 만 넣었음.\n",
    "data_df['date_month_day'] = 0\n",
    "for i in range(len(data_df['date'])):\n",
    "    data_df['date_month_day'][i] = data_df['date'][i].strftime('%m-%d')\n",
    "# data_df['date_month_day']\n",
    "\n",
    "# date 에서 year 만 따로 뽑았음\n",
    "test_df['date_year'] = 0\n",
    "for i in range(len(test_df['date'])):\n",
    "    test_df['date_year'][i] = test_df['date'][i].year\n",
    "# print(data_df['date_year'])\n",
    "\n",
    "# date 에서 year 를 제외한 Month, Day 만 넣었음.\n",
    "test_df['date_month_day'] = 0\n",
    "for i in range(len(test_df['date'])):\n",
    "    test_df['date_month_day'][i] = test_df['date'][i].strftime('%m-%d')\n",
    "# data_df['date_month_day']"
   ]
  },
  {
   "cell_type": "code",
   "execution_count": null,
   "id": "bba9894e",
   "metadata": {
    "ExecuteTime": {
     "end_time": "2022-06-22T14:22:26.911746Z",
     "start_time": "2022-06-22T14:22:26.911720Z"
    }
   },
   "outputs": [],
   "source": [
    "lst = list()\n",
    "lst = [i*15 for i in range(8)]\n",
    "print(lst)"
   ]
  },
  {
   "cell_type": "code",
   "execution_count": null,
   "id": "f853a3df",
   "metadata": {
    "ExecuteTime": {
     "end_time": "2022-06-22T14:22:26.915062Z",
     "start_time": "2022-06-22T14:22:26.915025Z"
    },
    "scrolled": false
   },
   "outputs": [],
   "source": [
    "plt.figure(figsize = (20,12))\n",
    "sns.lineplot(x = 'date_month_day', y = 'rental', data = data_df, hue = 'date_year')\n",
    "lst = list()\n",
    "lst = [i*15 for i in range(31)]\n",
    "plt.xticks(lst)\n",
    "plt.show()\n",
    "\n",
    "plt.figure(figsize = (20,12))\n",
    "sns.lineplot(x = 'date', y = 'rental', data = data_df, hue = 'date_year')\n",
    "plt.show()"
   ]
  },
  {
   "cell_type": "code",
   "execution_count": null,
   "id": "6b75c7b3",
   "metadata": {
    "ExecuteTime": {
     "end_time": "2022-06-22T14:22:26.925212Z",
     "start_time": "2022-06-22T14:22:26.924974Z"
    }
   },
   "outputs": [],
   "source": [
    "data_df['rental'].groupby(data_df.date_year).agg('median')"
   ]
  },
  {
   "cell_type": "code",
   "execution_count": null,
   "id": "d9d8319f",
   "metadata": {
    "ExecuteTime": {
     "end_time": "2022-06-22T14:22:26.936135Z",
     "start_time": "2022-06-22T14:22:26.936072Z"
    }
   },
   "outputs": [],
   "source": [
    "plt.figure(figsize = (16,10))\n",
    "sns.heatmap(data_df.corr(),annot = True)\n",
    "plt.show()"
   ]
  },
  {
   "cell_type": "code",
   "execution_count": null,
   "id": "35ce322d",
   "metadata": {
    "ExecuteTime": {
     "end_time": "2022-06-22T14:22:26.939929Z",
     "start_time": "2022-06-22T14:22:26.939894Z"
    }
   },
   "outputs": [],
   "source": [
    "sns.pairplot(data_df, hue = 'date_year', markers = ['o','s','d'])\n",
    "plt.show()"
   ]
  },
  {
   "cell_type": "code",
   "execution_count": null,
   "id": "5bba96f8",
   "metadata": {
    "ExecuteTime": {
     "end_time": "2022-06-22T14:22:26.949585Z",
     "start_time": "2022-06-22T14:22:26.949549Z"
    }
   },
   "outputs": [],
   "source": [
    "data_df = data_df.drop('date_month_day', axis = 1)\n",
    "test_df = test_df.drop('date_month_day', axis = 1)"
   ]
  },
  {
   "cell_type": "code",
   "execution_count": null,
   "id": "ab0d3400",
   "metadata": {
    "ExecuteTime": {
     "end_time": "2022-06-22T14:22:26.957966Z",
     "start_time": "2022-06-22T14:22:26.957933Z"
    }
   },
   "outputs": [],
   "source": [
    "# 불쾌지수 공식의 활용\n",
    "def get_discomfort(humididity, temp_highest, temp_lowest):\n",
    "    # 전체적인 탑승의 경향성을 반영하기 위해 출퇴근 시간의 사용량이 많음에도 불구하고, 평균온도로 고려합니다.\n",
    "    temp = (temp_lowest + temp_highest)/2\n",
    "    humididity = humididity / 100\n",
    "    \n",
    "    discomfort = 1.8 * temp - 0.558 * (1 - humididity) * (1.8*temp - 26) + 32\n",
    "    return discomfort\n",
    "\n",
    "data_df['discomfort'] = [0]*len(data_df)\n",
    "for i in range(len(data_df)):\n",
    "    data_df.discomfort[i] = get_discomfort(data_df.humidity[i],\n",
    "                                          data_df.temp_highest[i],\n",
    "                                          data_df.temp_lowest[i])\n",
    "    \n",
    "test_df['discomfort'] = [0]*len(test_df)\n",
    "for i in range(len(test_df)):\n",
    "    test_df.discomfort[i] = get_discomfort(test_df.humidity[i],\n",
    "                                          test_df.temp_highest[i],\n",
    "                                          test_df.temp_lowest[i])"
   ]
  },
  {
   "cell_type": "code",
   "execution_count": null,
   "id": "a54b2643",
   "metadata": {
    "ExecuteTime": {
     "end_time": "2022-06-22T14:22:26.971349Z",
     "start_time": "2022-06-22T14:22:26.971312Z"
    }
   },
   "outputs": [],
   "source": [
    "# 악조건에 대한 \n",
    "data_df['cold_measure'] = data_df['temp_lowest']/data_df['wind_max']\n",
    "test_df['cold_measure'] = test_df['temp_lowest']/test_df['wind_max']\n",
    "# 체감온도\n",
    "data_df['feel'] = 13.12 + 0.6215*(data_df['temp_highest']+data_df['temp_lowest'])//2-11.37*data_df['wind_mean']**(0.16) + 0.4*(data_df['temp_highest']+data_df['temp_lowest'])//2*data_df['wind_mean']**(0.16)\n",
    "test_df['feel'] = 13.12 + 0.6215*(test_df['temp_highest']+test_df['temp_lowest'])//2-11.37*test_df['wind_mean']**(0.16) + 0.4*(test_df['temp_highest']+test_df['temp_lowest'])//2*test_df['wind_mean']**(0.16)\n",
    "# 일교차\n",
    "data_df['temp_diff'] = data_df['temp_highest'] - data_df['temp_lowest']\n",
    "test_df['temp_diff'] = test_df['temp_highest'] - test_df['temp_lowest']"
   ]
  },
  {
   "cell_type": "code",
   "execution_count": null,
   "id": "0f0cebf8",
   "metadata": {
    "ExecuteTime": {
     "end_time": "2022-06-22T14:22:26.987510Z",
     "start_time": "2022-06-22T14:22:26.987482Z"
    }
   },
   "outputs": [],
   "source": [
    "data_df = data_df.drop('humidity', axis =1)\n",
    "test_df = test_df.drop('humidity', axis =1)"
   ]
  },
  {
   "cell_type": "code",
   "execution_count": null,
   "id": "7da75141",
   "metadata": {
    "ExecuteTime": {
     "end_time": "2022-06-22T14:22:26.990708Z",
     "start_time": "2022-06-22T14:22:26.990677Z"
    }
   },
   "outputs": [],
   "source": [
    "data_df"
   ]
  },
  {
   "cell_type": "code",
   "execution_count": null,
   "id": "9548d22c",
   "metadata": {
    "ExecuteTime": {
     "end_time": "2022-06-22T14:22:26.995924Z",
     "start_time": "2022-06-22T14:22:26.995892Z"
    }
   },
   "outputs": [],
   "source": [
    "def get_result(pred):\n",
    "    sub_df['rental'] = pred\n",
    "    sub_df.to_csv('result.csv', index = False, encoding = 'UTF-8')\n",
    "def get_nmae(pred,y):\n",
    "    nmae = np.mean(abs(pred-y)/y)\n",
    "    return nmae"
   ]
  },
  {
   "cell_type": "code",
   "execution_count": null,
   "id": "7b3b9383",
   "metadata": {
    "ExecuteTime": {
     "end_time": "2022-06-22T14:22:27.011433Z",
     "start_time": "2022-06-22T14:22:27.011396Z"
    }
   },
   "outputs": [],
   "source": [
    "x = data_df.drop('rental', axis = 1)\n",
    "y = data_df['rental']"
   ]
  },
  {
   "cell_type": "code",
   "execution_count": null,
   "id": "1ef91c47",
   "metadata": {
    "ExecuteTime": {
     "end_time": "2022-06-22T14:22:27.029445Z",
     "start_time": "2022-06-22T14:22:27.029401Z"
    }
   },
   "outputs": [],
   "source": [
    "pip install sklearn"
   ]
  },
  {
   "cell_type": "code",
   "execution_count": null,
   "id": "30df2982",
   "metadata": {
    "ExecuteTime": {
     "end_time": "2022-06-22T14:22:27.180386Z",
     "start_time": "2022-06-22T14:22:27.180347Z"
    }
   },
   "outputs": [],
   "source": [
    "pip install xgboost"
   ]
  },
  {
   "cell_type": "code",
   "execution_count": null,
   "id": "06572a60",
   "metadata": {
    "ExecuteTime": {
     "end_time": "2022-06-22T14:22:27.187010Z",
     "start_time": "2022-06-22T14:22:27.186981Z"
    }
   },
   "outputs": [],
   "source": [
    "XGBRegressor_model = XGBRegressor(max_depth =4, n_estimators =100)\n",
    "XGBRegressor_model.fit(x,y)\n",
    "pred = XGBRegressor_model(test_df)\n",
    "\n",
    "x_pred = XGBRegressor_model.predict()\n",
    "get_nmae(x_pred,y)"
   ]
  },
  {
   "cell_type": "markdown",
   "id": "56a67aaf",
   "metadata": {},
   "source": [
    "# 데이터 plot 진행"
   ]
  },
  {
   "cell_type": "code",
   "execution_count": null,
   "id": "cc174336",
   "metadata": {},
   "outputs": [],
   "source": []
  },
  {
   "cell_type": "code",
   "execution_count": null,
   "id": "cad5b18c",
   "metadata": {},
   "outputs": [],
   "source": []
  },
  {
   "cell_type": "code",
   "execution_count": null,
   "id": "6a6afb83",
   "metadata": {},
   "outputs": [],
   "source": []
  },
  {
   "cell_type": "code",
   "execution_count": null,
   "id": "5d00191c",
   "metadata": {},
   "outputs": [],
   "source": []
  },
  {
   "cell_type": "code",
   "execution_count": null,
   "id": "61d59261",
   "metadata": {},
   "outputs": [],
   "source": []
  }
 ],
 "metadata": {
  "kernelspec": {
   "display_name": "Python 3 (ipykernel)",
   "language": "python",
   "name": "python3"
  },
  "language_info": {
   "codemirror_mode": {
    "name": "ipython",
    "version": 3
   },
   "file_extension": ".py",
   "mimetype": "text/x-python",
   "name": "python",
   "nbconvert_exporter": "python",
   "pygments_lexer": "ipython3",
   "version": "3.9.9"
  },
  "toc": {
   "base_numbering": 1,
   "nav_menu": {},
   "number_sections": true,
   "sideBar": true,
   "skip_h1_title": false,
   "title_cell": "Table of Contents",
   "title_sidebar": "Contents",
   "toc_cell": false,
   "toc_position": {},
   "toc_section_display": true,
   "toc_window_display": false
  }
 },
 "nbformat": 4,
 "nbformat_minor": 5
}
