{
 "cells": [
  {
   "cell_type": "code",
   "execution_count": 1,
   "id": "72ee796a",
   "metadata": {
    "ExecuteTime": {
     "end_time": "2022-07-01T13:25:44.314421Z",
     "start_time": "2022-07-01T13:25:39.564927Z"
    }
   },
   "outputs": [],
   "source": [
    "import pandas as pd\n",
    "import numpy as np\n",
    "from scipy import stats\n",
    "from math import ceil\n",
    "import matplotlib.pyplot as plt\n",
    "import seaborn as sns\n",
    "import sys\n",
    "import math\n",
    "import matplotlib.pyplot as plt\n",
    "from sklearn.model_selection import train_test_split\n",
    "import warnings\n",
    "from sklearn.metrics import confusion_matrix, accuracy_score, precision_score, recall_score\n",
    "from sklearn.metrics import confusion_matrix, f1_score, roc_auc_score\n",
    "from sklearn.preprocessing import QuantileTransformer\n",
    "def NMAE(true, pred):\n",
    "    score = np.mean(np.abs(true-pred) / true)\n",
    "    return score\n",
    "import sklearn\n",
    "from sklearn.preprocessing import *\n",
    "from sklearn.preprocessing import StandardScaler\n",
    "\n",
    "def temp_sensible(dataframe):\n",
    "    #체감온도 공식은 체감온도(℃)=13.12+0.6215×T-11.37V0.16+0.3965V0.16×T\n",
    "    #출처:https://www.sciencetimes.co.kr/news/%EC%B2%B4%EA%B0%90%EC%98%A8%EB%8F%84%EC%99%80-%EC%8B%A4%EC%A0%9C-%EC%98%A8%EB%8F%84%EB%8A%94-%EC%96%B4%EB%96%BB%EA%B2%8C-%EB%8B%A4%EB%A5%B8%EA%B0%80/\n",
    "    temp_df_t=dataframe['temp_mean'].tolist()\n",
    "    temp_df_w=dataframe['wind_mean'].tolist()\n",
    "    temp_df_t\n",
    "    temp_df_w\n",
    "    result_=[]\n",
    "    for i in range(len(temp_df_t)):\n",
    "        result=13.12+0.6215*temp_df_t[i]-11.37*math.pow(temp_df_w[i],0.16)+0.3965*math.pow(temp_df_w[i],0.16)*temp_df_t[i]\n",
    "        result_.append(round(result,1))\n",
    "    dataframe.insert(4,'temp_sensible',result_)\n",
    "\n",
    "def discomfort_index(dataframe):\n",
    "    \n",
    "    #0.81 * temp_df_t[i] +0.01 * temp_df_t[i]*((0.99*temp_df_t[i]) - 14.3)+ 46.3\n",
    "    #불쾌지수 공식(80이상 : 매우 불쾌, 80~75: 50%불쾌 , 68~75 :불쾌감 시작, 68미만: 쾌적함)\n",
    "    #discomfort_index\n",
    "    temp_df_t=dataframe['temp_mean'].tolist()\n",
    "    temp_df_h=dataframe['humidity'].tolist()\n",
    "    temp_df_t\n",
    "    temp_df_h\n",
    "\n",
    "    result_=[]\n",
    "    for i in range(len(temp_df_t)):\n",
    "        result=(9/5*temp_df_t[i])-0.55*(1-temp_df_h[i]/100)*(9/5*temp_df_t[i]-26)+32\n",
    "        result_.append(round(result,1))\n",
    "    result_\n",
    "    dataframe['discomfort_index']=result_\n",
    "\n",
    "\n",
    "def pm_trafficlight(dataframe):\n",
    "    pm10=dataframe['PM10'].tolist()\n",
    "    pm2=dataframe['PM2.5'].tolist()\n",
    "    pm_=[]\n",
    "    for i in range(len(pm10)):\n",
    "        if(pm10[i]<=30 or pm2[i]<=15):\n",
    "            pm_.append(1)\n",
    "        elif((pm10[i]<=80 and pm10[i]>30) or (pm2[i] >=16 and pm2[i]<=50)):\n",
    "            pm_.append(2)\n",
    "        elif((pm10[i]<=150 and pm10[i]>80)or (pm2[i]>50 and pm2[i]<=100)):\n",
    "            pm_.append(3)\n",
    "        elif(pm10[i]>=150 or (pm2[i]>100)):\n",
    "            pm_.append(4)\n",
    "    dataframe['pm']=pm_\n",
    "\n",
    "def rental_rate(dataframe):\n",
    "    y1 = dataframe[dataframe['year'] == 2018]['rental'] * 2.3\n",
    "    y2 = dataframe[dataframe['year'] == 2019]['rental'] * 1.2\n",
    "    y3 = dataframe[dataframe['year'] == 2020]['rental']\n",
    "    new = pd.concat([y1, y2, y3], axis=0).to_frame()\n",
    "    dataframe['rental'] = new['rental']\n",
    "    return True\n",
    "\n",
    "\n",
    "\n",
    "\n",
    "def seperate_datetime(dataframe):\n",
    "    week_list = []\n",
    "    year = []\n",
    "    month = []\n",
    "    for date in dataframe.date:\n",
    "        year_point, month_point, day_point = date.split('-')\n",
    "        year.append(int(year_point) - 2017)\n",
    "        month.append(int(month_point))\n",
    "    dataframe['year'] = year\n",
    "    dataframe['month'] = month\n",
    "    for day in dataframe['date']:\n",
    "        num = pd.date_range(day, day, freq='D').to_series()\n",
    "        week_list.append(int(num.dt.dayofweek[0]))\n",
    "    dataframe['day'] = week_list\n",
    "    dataframe = dataframe.drop(['date'], axis=1)\n",
    "    return dataframe\n",
    "\n",
    "def enter_week(dataframe):\n",
    "    w_list = [1.02,1.02, 0.97, 0.95, 1.02, 1.01, 1.02]\n",
    "    #corr 해서 상관관계에 따라 비율 설정 \n",
    "    for i in range(0, 7):\n",
    "        dataframe[dataframe['day'] == i] *= w_list[i]\n",
    "        \n",
    "clist = ['PM2.5*day_name_Sunday']\n"
   ]
  },
  {
   "cell_type": "code",
   "execution_count": 2,
   "id": "7d72596b",
   "metadata": {
    "ExecuteTime": {
     "end_time": "2022-07-01T13:25:44.498430Z",
     "start_time": "2022-07-01T13:25:44.327020Z"
    }
   },
   "outputs": [],
   "source": [
    "sample = pd.read_csv('sample_submission.csv')\n",
    "sample\n",
    "test_df = pd.read_csv('test.csv')\n",
    "test_df\n",
    "train = pd.read_csv('train.csv')\n",
    "\n",
    "from sklearn.linear_model import LinearRegression\n",
    "from sklearn.model_selection import train_test_split\n",
    "test_date = test_df['date']\n",
    "\n"
   ]
  },
  {
   "cell_type": "code",
   "execution_count": 3,
   "id": "018f1552",
   "metadata": {
    "ExecuteTime": {
     "end_time": "2022-07-01T13:25:44.556999Z",
     "start_time": "2022-07-01T13:25:44.506645Z"
    }
   },
   "outputs": [
    {
     "data": {
      "text/plain": [
       "precipitation    0\n",
       "temp_mean        0\n",
       "temp_highest     0\n",
       "temp_lowest      0\n",
       "PM10             0\n",
       "PM2.5            0\n",
       "humidity         0\n",
       "sunshine_sum     0\n",
       "sunshine_rate    0\n",
       "wind_mean        0\n",
       "wind_max         0\n",
       "rental           0\n",
       "year             0\n",
       "month            0\n",
       "day              0\n",
       "dtype: int64"
      ]
     },
     "execution_count": 3,
     "metadata": {},
     "output_type": "execute_result"
    }
   ],
   "source": [
    "date=train['date'].tolist()\n",
    "cnt=0\n",
    "year=[]\n",
    "month=[]\n",
    "day=[]\n",
    "year_=''\n",
    "month_=''\n",
    "day_=''\n",
    "for _ in date:\n",
    "    list_=_.split('-')\n",
    "    for i in range(3):\n",
    "        if(i==0):\n",
    "\n",
    "            year_+=list_[i]\n",
    "        \n",
    "        elif(i==1):\n",
    "            month_+=list_[i]\n",
    "        elif(i==2):\n",
    "            day_+=list_[i]\n",
    "            \n",
    "    year.append(int(year_))\n",
    "    month.append(int(month_))\n",
    "    day.append(int(day_))\n",
    "    \n",
    "    cnt+=1\n",
    "    year_=''\n",
    "    month_=''\n",
    "    day_=''\n",
    "train_=train.drop(columns='date')\n",
    "train_['year']=year\n",
    "train_['month']=month\n",
    "train_['day']=day\n",
    "\n",
    "train_['precipitation']=train_['precipitation'].fillna(0)\n",
    "train_['PM10'] = train_['PM10'].fillna(train_['PM10'].mean())\n",
    "train_['PM2.5'] = train_['PM2.5'].fillna(train_['PM2.5'].mean())\n",
    "train_ = train_.fillna(train_.mean())\n",
    "rental_rate(train_)\n",
    "train_.isnull().sum()"
   ]
  },
  {
   "cell_type": "code",
   "execution_count": 8,
   "id": "00cfc394",
   "metadata": {
    "ExecuteTime": {
     "end_time": "2022-07-01T13:25:44.884736Z",
     "start_time": "2022-07-01T13:25:44.879628Z"
    }
   },
   "outputs": [],
   "source": [
    "# train_['month']"
   ]
  },
  {
   "cell_type": "code",
   "execution_count": 9,
   "id": "be46431e",
   "metadata": {
    "ExecuteTime": {
     "end_time": "2022-07-01T13:25:44.904979Z",
     "start_time": "2022-07-01T13:25:44.898556Z"
    }
   },
   "outputs": [],
   "source": [
    "# train_.columns"
   ]
  },
  {
   "cell_type": "code",
   "execution_count": 10,
   "id": "58f422ad",
   "metadata": {
    "ExecuteTime": {
     "end_time": "2022-07-01T13:25:44.918518Z",
     "start_time": "2022-07-01T13:25:44.911712Z"
    }
   },
   "outputs": [],
   "source": [
    "# train_['july_hot'] = train_['temp_highest'].copy()\n",
    "# train_['july_hot'] = train_['temp_highest'] * train_['sunshine_sum'] * train_['month']==7\n",
    "\n",
    "# test_df['july_hot'] = test_df['temp_highest'].copy()\n",
    "# test_df['july_hot'] = test_df['temp_highest'] * test_df['sunshine_sum'] * test_df['month']==7"
   ]
  },
  {
   "cell_type": "code",
   "execution_count": 11,
   "id": "b9f0c6c1",
   "metadata": {
    "ExecuteTime": {
     "end_time": "2022-07-01T13:25:44.942012Z",
     "start_time": "2022-07-01T13:25:44.930303Z"
    },
    "scrolled": true
   },
   "outputs": [],
   "source": [
    "# train_['PM10']"
   ]
  },
  {
   "cell_type": "code",
   "execution_count": 12,
   "id": "8cd399d7",
   "metadata": {
    "ExecuteTime": {
     "end_time": "2022-07-01T13:25:44.975256Z",
     "start_time": "2022-07-01T13:25:44.956235Z"
    }
   },
   "outputs": [],
   "source": [
    "# # train_['rain'] = train_['temp_highest'].copy()\n",
    "# # test_df['rain'] = test_df['temp_highest'].copy()\n",
    "\n",
    "\n",
    "# for i in range(len(train_)):\n",
    "#     if train_['precipitation'][i] >= 10:\n",
    "# #         train_['rain'][i] = 1\n",
    "#         train_['PM10'][i] = train_['PM10'][i] *0.1\n",
    "# #         train_['PM2.5'][i] = train_['PM2.5'][i] * 0.1\n",
    "# #     else:\n",
    "# #         train_['rain'][i] = 0 \n",
    "# #         test_df['rain'][i] = 0\n",
    "        \n",
    "# for i in range(len(test_df)):\n",
    "#     if test_df['precipitation'][i] >=10:\n",
    "# #         test_df['rain'][i] = 1\n",
    "#         test_df['PM10'][i] = test_df['PM10'][i]*0.1\n",
    "# #         test_df['PM2.5'][i] = test_df['PM2.5'][i]*0.1\n",
    "# #     else:\n",
    "# #         test_df['rain'][i] = 0\n",
    "        "
   ]
  },
  {
   "cell_type": "code",
   "execution_count": 13,
   "id": "3703e21f",
   "metadata": {
    "ExecuteTime": {
     "end_time": "2022-07-01T13:25:45.115271Z",
     "start_time": "2022-07-01T13:25:44.993426Z"
    }
   },
   "outputs": [
    {
     "name": "stderr",
     "output_type": "stream",
     "text": [
      "/Library/Frameworks/Python.framework/Versions/3.9/lib/python3.9/site-packages/sklearn/preprocessing/_data.py:2583: UserWarning: n_quantiles (1000) is greater than the total number of samples (365). n_quantiles is set to n_samples.\n",
      "  warnings.warn(\n"
     ]
    }
   ],
   "source": [
    "scaler1 = QuantileTransformer()\n",
    "scaler2 = QuantileTransformer()\n",
    "# col___list = ['PM10','PM2.5','sunshine_rate','sunshine_sum']\n",
    "# col___list = ['PM10','PM2.5','sunshine_rate','sunshine_sum', 'precipitation', 'PM10','PM2.5','wind_mean','wind_max']\n",
    "# col___list = ['PM10','PM2.5','sunshine_rate','sunshine_sum', 'precipitation', 'PM10','PM2.5']\n",
    "\n",
    "# col___list = ['PM10','PM2.5','sunshine_rate','sunshine_sum', 'precipitation', 'PM10','PM2.5','wind_mean'\n",
    "#               ,'wind_max','temp_mean','temp_highest','temp_lowest','humidity']\n",
    "\n",
    "# col___list = ['PM10','PM2.5','sunshine_rate','sunshine_sum', 'precipitation', 'PM10','PM2.5','wind_mean'\n",
    "#               ,'wind_max','humidity']\n",
    "col___list = ['PM10','PM2.5','sunshine_rate','sunshine_sum', 'precipitation', 'PM10','PM2.5', 'precipitation'\n",
    "             ,'sunshine_rate','sunshine_sum']\n",
    "# col___list = ['sunshine_rate','sunshine_sum', 'precipitation']\n",
    "\n",
    "# col___list = bicycle.columns\n",
    "scaler1.fit(train_[col___list])\n",
    "X_train_scaled = scaler1.transform(train_[col___list])\n",
    "train_[col___list] =X_train_scaled\n",
    "scaler2.fit(test_df[col___list])\n",
    "X_train_scaled = scaler2.transform(test_df[col___list])\n",
    "test_df[col___list] =X_train_scaled\n"
   ]
  },
  {
   "cell_type": "code",
   "execution_count": null,
   "id": "74587cc4",
   "metadata": {},
   "outputs": [],
   "source": []
  },
  {
   "cell_type": "code",
   "execution_count": 14,
   "id": "15ebc9e6",
   "metadata": {
    "ExecuteTime": {
     "end_time": "2022-07-01T13:25:45.124843Z",
     "start_time": "2022-07-01T13:25:45.121286Z"
    }
   },
   "outputs": [],
   "source": [
    "# train_['rain'] = train_['temp_highest'].copy()\n",
    "# test_df['rain'] = test_df['temp_highest'].copy()\n",
    "\n",
    "\n",
    "# for i in range(len(train_)):\n",
    "#     if train_['precipitation'][i] >= 10:\n",
    "#         train_['rain'][i] = 1\n",
    "#         train_['PM10'][i] = train_['PM10'][i] *0.1\n",
    "#         test_df['rain'][i] = 1\n",
    "#         test_df['rain'][i] = test_df['rain'][i] * 0.1\n",
    "#     else:\n",
    "#         train_['rain'][i] = 0 \n",
    "#         test_df['rain'][i] = 0\n",
    "        \n",
    "# print(np.mean(np.expm1(train_['rental'])))\n",
    "    "
   ]
  },
  {
   "cell_type": "code",
   "execution_count": 15,
   "id": "9b0c672c",
   "metadata": {
    "ExecuteTime": {
     "end_time": "2022-07-01T13:25:45.161453Z",
     "start_time": "2022-07-01T13:25:45.127863Z"
    }
   },
   "outputs": [],
   "source": [
    "#미세먼지 onehot\n",
    "train_ = pd.get_dummies(data = train_,columns = ['pm'])\n",
    "test_df = pd.get_dummies(data = test_df,columns = ['pm'])\n",
    "test_df['pm_4']=0.0\n",
    "test_df['pm_4']=test_df['pm_4'].astype('uint8')\n",
    "train_['dust'] = train_['PM10'] * train_['PM2.5']\n",
    "train_['temp_ratio'] = abs(train_['temp_highest'] - train_['temp_lowest'])\n",
    "train_['daytime'] = train_['sunshine_rate'] / train_['sunshine_sum']\n",
    "train_['daytime'] = train_['daytime'].fillna(method='bfill')\n",
    "test_df['dust'] = test_df['PM10'] * test_df['PM2.5']\n",
    "test_df['temp_ratio'] = abs(test_df['temp_highest'] - test_df['temp_lowest'])\n",
    "test_df['daytime'] = test_df['sunshine_rate'] / test_df['sunshine_sum']\n",
    "test_df['daytime'] = test_df['daytime'].fillna(method='bfill')\n"
   ]
  },
  {
   "cell_type": "code",
   "execution_count": null,
   "id": "2b6d80bc",
   "metadata": {},
   "outputs": [],
   "source": []
  },
  {
   "cell_type": "code",
   "execution_count": 16,
   "id": "88e98df1",
   "metadata": {
    "ExecuteTime": {
     "end_time": "2022-07-01T13:25:45.175905Z",
     "start_time": "2022-07-01T13:25:45.165509Z"
    }
   },
   "outputs": [],
   "source": [
    "test_df=test_df.fillna(0)\n",
    "train_=train_.drop(columns='sunshine_sum')\n",
    "test_df=test_df.drop(columns='sunshine_sum')\n",
    "#train_=train_.drop(columns='sunshine_rate')\n",
    "#test_df=test_df.drop(columns='sunshine_rate')\n",
    "#new_row = train_.loc[[613]]\n",
    "#train_ = pd.concat([train_.iloc[:613], new_row, train_.iloc[613:]], ignore_index = True)\n"
   ]
  },
  {
   "cell_type": "code",
   "execution_count": null,
   "id": "e7ed6056",
   "metadata": {},
   "outputs": [],
   "source": []
  },
  {
   "cell_type": "code",
   "execution_count": 17,
   "id": "4174914b",
   "metadata": {
    "ExecuteTime": {
     "end_time": "2022-07-01T13:25:45.188881Z",
     "start_time": "2022-07-01T13:25:45.179141Z"
    }
   },
   "outputs": [],
   "source": [
    "train = train.drop(index=788, axis = 0)\n"
   ]
  },
  {
   "cell_type": "code",
   "execution_count": 18,
   "id": "22c456d7",
   "metadata": {
    "ExecuteTime": {
     "end_time": "2022-07-01T13:25:49.788775Z",
     "start_time": "2022-07-01T13:25:45.194743Z"
    }
   },
   "outputs": [],
   "source": [
    "import xgboost\n",
    "from xgboost import XGBRegressor\n",
    "from xgboost import XGBRegressor as model\n",
    "\n",
    "y = train_['rental']\n",
    "x= train_.drop('rental',axis =1)\n",
    "model = XGBRegressor(objective='reg:squarederror',learning_rate=0.1,max_depth = 4, n_estimators = 1000)\n",
    "\n",
    "\n",
    "\n",
    "model.fit(x, y)\n",
    "pred = model.predict(test_df)                                   \n",
    "      \n"
   ]
  },
  {
   "cell_type": "code",
   "execution_count": 19,
   "id": "019eedd5",
   "metadata": {
    "ExecuteTime": {
     "end_time": "2022-07-01T13:25:49.803119Z",
     "start_time": "2022-07-01T13:25:49.791648Z"
    }
   },
   "outputs": [],
   "source": [
    "                     \n",
    "pred = pd.DataFrame(pred, columns=['rental'])\n",
    "# pred = np.expm1(pred)*1.35\n",
    "\n",
    "pred = \n",
    "\n",
    "# pred = (pred)*1.35"
   ]
  },
  {
   "cell_type": "code",
   "execution_count": 20,
   "id": "1219c5a2",
   "metadata": {
    "ExecuteTime": {
     "end_time": "2022-07-01T13:25:50.425687Z",
     "start_time": "2022-07-01T13:25:49.813556Z"
    }
   },
   "outputs": [],
   "source": [
    "# # sns.pairplot(data_df, hue = 'date_year', markers = ['o','s','d'])\n",
    "# # plt.show()\n",
    "# sns.pairplot(train)"
   ]
  },
  {
   "cell_type": "code",
   "execution_count": 21,
   "id": "0902bea5",
   "metadata": {
    "ExecuteTime": {
     "end_time": "2022-07-01T13:25:51.159043Z",
     "start_time": "2022-07-01T13:25:50.439220Z"
    }
   },
   "outputs": [
    {
     "data": {
      "text/plain": [
       "0.21720022399742694"
      ]
     },
     "execution_count": 21,
     "metadata": {},
     "output_type": "execute_result"
    }
   ],
   "source": [
    "result = pd.concat([test_date, pred],axis=1)\n",
    "result = seperate_datetime(result)\n",
    "enter_week(result)\n",
    "# enter_month(result)\n",
    "result = pd.concat([test_df, result['rental']],axis=1)\n",
    "real_data = pd.read_csv('real_data.csv')\n",
    "NMAE(real_data['rental'],pred['rental'])\n",
    "#0.20994305332561805\n",
    "#0.1759140807412157\n",
    "#0.17160655151714022 result_2\n",
    "#0.169358561366779\n",
    "#0.16833088271950228 #1.03 예측값에 곱하면 더 오른다.\n",
    "#0.1636956776772946 예측할때 곱하는거\n",
    "#0.16183995947493923\n",
    "# 0.16131674637594595\n",
    "# 0.16131674637594595"
   ]
  },
  {
   "cell_type": "code",
   "execution_count": 22,
   "id": "066cfb94",
   "metadata": {
    "ExecuteTime": {
     "end_time": "2022-07-01T13:25:51.251639Z",
     "start_time": "2022-07-01T13:25:51.163848Z"
    }
   },
   "outputs": [
    {
     "data": {
      "text/html": [
       "<div>\n",
       "<style scoped>\n",
       "    .dataframe tbody tr th:only-of-type {\n",
       "        vertical-align: middle;\n",
       "    }\n",
       "\n",
       "    .dataframe tbody tr th {\n",
       "        vertical-align: top;\n",
       "    }\n",
       "\n",
       "    .dataframe thead th {\n",
       "        text-align: right;\n",
       "    }\n",
       "</style>\n",
       "<table border=\"1\" class=\"dataframe\">\n",
       "  <thead>\n",
       "    <tr style=\"text-align: right;\">\n",
       "      <th></th>\n",
       "      <th>date</th>\n",
       "      <th>rental</th>\n",
       "    </tr>\n",
       "  </thead>\n",
       "  <tbody>\n",
       "    <tr>\n",
       "      <th>0</th>\n",
       "      <td>2021-01-01</td>\n",
       "      <td>33694.210938</td>\n",
       "    </tr>\n",
       "    <tr>\n",
       "      <th>1</th>\n",
       "      <td>2021-01-02</td>\n",
       "      <td>30953.312500</td>\n",
       "    </tr>\n",
       "    <tr>\n",
       "      <th>2</th>\n",
       "      <td>2021-01-03</td>\n",
       "      <td>25726.705078</td>\n",
       "    </tr>\n",
       "    <tr>\n",
       "      <th>3</th>\n",
       "      <td>2021-01-04</td>\n",
       "      <td>39651.042969</td>\n",
       "    </tr>\n",
       "    <tr>\n",
       "      <th>4</th>\n",
       "      <td>2021-01-05</td>\n",
       "      <td>33193.222656</td>\n",
       "    </tr>\n",
       "    <tr>\n",
       "      <th>...</th>\n",
       "      <td>...</td>\n",
       "      <td>...</td>\n",
       "    </tr>\n",
       "    <tr>\n",
       "      <th>360</th>\n",
       "      <td>2021-12-27</td>\n",
       "      <td>36225.605469</td>\n",
       "    </tr>\n",
       "    <tr>\n",
       "      <th>361</th>\n",
       "      <td>2021-12-28</td>\n",
       "      <td>39241.628906</td>\n",
       "    </tr>\n",
       "    <tr>\n",
       "      <th>362</th>\n",
       "      <td>2021-12-29</td>\n",
       "      <td>45443.742188</td>\n",
       "    </tr>\n",
       "    <tr>\n",
       "      <th>363</th>\n",
       "      <td>2021-12-30</td>\n",
       "      <td>38777.863281</td>\n",
       "    </tr>\n",
       "    <tr>\n",
       "      <th>364</th>\n",
       "      <td>2021-12-31</td>\n",
       "      <td>35932.535156</td>\n",
       "    </tr>\n",
       "  </tbody>\n",
       "</table>\n",
       "<p>365 rows × 2 columns</p>\n",
       "</div>"
      ],
      "text/plain": [
       "           date        rental\n",
       "0    2021-01-01  33694.210938\n",
       "1    2021-01-02  30953.312500\n",
       "2    2021-01-03  25726.705078\n",
       "3    2021-01-04  39651.042969\n",
       "4    2021-01-05  33193.222656\n",
       "..          ...           ...\n",
       "360  2021-12-27  36225.605469\n",
       "361  2021-12-28  39241.628906\n",
       "362  2021-12-29  45443.742188\n",
       "363  2021-12-30  38777.863281\n",
       "364  2021-12-31  35932.535156\n",
       "\n",
       "[365 rows x 2 columns]"
      ]
     },
     "execution_count": 22,
     "metadata": {},
     "output_type": "execute_result"
    }
   ],
   "source": [
    "sample['rental'] = pred\n",
    "sample"
   ]
  },
  {
   "cell_type": "code",
   "execution_count": 23,
   "id": "e8707546",
   "metadata": {
    "ExecuteTime": {
     "end_time": "2022-07-01T13:25:51.374038Z",
     "start_time": "2022-07-01T13:25:51.263019Z"
    }
   },
   "outputs": [
    {
     "data": {
      "text/html": [
       "<div>\n",
       "<style scoped>\n",
       "    .dataframe tbody tr th:only-of-type {\n",
       "        vertical-align: middle;\n",
       "    }\n",
       "\n",
       "    .dataframe tbody tr th {\n",
       "        vertical-align: top;\n",
       "    }\n",
       "\n",
       "    .dataframe thead th {\n",
       "        text-align: right;\n",
       "    }\n",
       "</style>\n",
       "<table border=\"1\" class=\"dataframe\">\n",
       "  <thead>\n",
       "    <tr style=\"text-align: right;\">\n",
       "      <th></th>\n",
       "      <th>date</th>\n",
       "      <th>rental</th>\n",
       "    </tr>\n",
       "  </thead>\n",
       "  <tbody>\n",
       "    <tr>\n",
       "      <th>0</th>\n",
       "      <td>2021-01-01</td>\n",
       "      <td>22274</td>\n",
       "    </tr>\n",
       "    <tr>\n",
       "      <th>1</th>\n",
       "      <td>2021-01-02</td>\n",
       "      <td>23631</td>\n",
       "    </tr>\n",
       "    <tr>\n",
       "      <th>2</th>\n",
       "      <td>2021-01-03</td>\n",
       "      <td>21809</td>\n",
       "    </tr>\n",
       "    <tr>\n",
       "      <th>3</th>\n",
       "      <td>2021-01-04</td>\n",
       "      <td>32957</td>\n",
       "    </tr>\n",
       "    <tr>\n",
       "      <th>4</th>\n",
       "      <td>2021-01-05</td>\n",
       "      <td>29033</td>\n",
       "    </tr>\n",
       "    <tr>\n",
       "      <th>...</th>\n",
       "      <td>...</td>\n",
       "      <td>...</td>\n",
       "    </tr>\n",
       "    <tr>\n",
       "      <th>360</th>\n",
       "      <td>2021-12-27</td>\n",
       "      <td>42521</td>\n",
       "    </tr>\n",
       "    <tr>\n",
       "      <th>361</th>\n",
       "      <td>2021-12-28</td>\n",
       "      <td>51268</td>\n",
       "    </tr>\n",
       "    <tr>\n",
       "      <th>362</th>\n",
       "      <td>2021-12-29</td>\n",
       "      <td>52017</td>\n",
       "    </tr>\n",
       "    <tr>\n",
       "      <th>363</th>\n",
       "      <td>2021-12-30</td>\n",
       "      <td>48993</td>\n",
       "    </tr>\n",
       "    <tr>\n",
       "      <th>364</th>\n",
       "      <td>2021-12-31</td>\n",
       "      <td>40604</td>\n",
       "    </tr>\n",
       "  </tbody>\n",
       "</table>\n",
       "<p>365 rows × 2 columns</p>\n",
       "</div>"
      ],
      "text/plain": [
       "           date  rental\n",
       "0    2021-01-01   22274\n",
       "1    2021-01-02   23631\n",
       "2    2021-01-03   21809\n",
       "3    2021-01-04   32957\n",
       "4    2021-01-05   29033\n",
       "..          ...     ...\n",
       "360  2021-12-27   42521\n",
       "361  2021-12-28   51268\n",
       "362  2021-12-29   52017\n",
       "363  2021-12-30   48993\n",
       "364  2021-12-31   40604\n",
       "\n",
       "[365 rows x 2 columns]"
      ]
     },
     "execution_count": 23,
     "metadata": {},
     "output_type": "execute_result"
    }
   ],
   "source": [
    "\n",
    "sample.to_csv('0.16131674637594595.csv',index=False, encoding = 'UTF-8')\n",
    "real_data"
   ]
  },
  {
   "cell_type": "code",
   "execution_count": 24,
   "id": "e8c84966",
   "metadata": {
    "ExecuteTime": {
     "end_time": "2022-07-01T13:25:51.385740Z",
     "start_time": "2022-07-01T13:25:51.382208Z"
    }
   },
   "outputs": [],
   "source": [
    "# p1=sum(train_[train_['year']==2018]['PM10'])\n",
    "# p2=sum(train_[train_['year']==2019]['PM10'])\n",
    "# p3=sum(train_[train_['year']==2020]['PM10'])\n",
    "\n",
    "# print(p3/p1)\n",
    "# print(p3/p2)"
   ]
  },
  {
   "cell_type": "code",
   "execution_count": 25,
   "id": "f0cf6521",
   "metadata": {
    "ExecuteTime": {
     "end_time": "2022-07-01T13:25:51.486435Z",
     "start_time": "2022-07-01T13:25:51.389975Z"
    }
   },
   "outputs": [],
   "source": [
    "# fu=pred[(pred['rental']>=100000)&(pred['rental']<=140000)]['rental'].index.unique()\n",
    "# fu"
   ]
  },
  {
   "cell_type": "code",
   "execution_count": 26,
   "id": "5d107381",
   "metadata": {
    "ExecuteTime": {
     "end_time": "2022-07-01T13:25:51.564081Z",
     "start_time": "2022-07-01T13:25:51.534385Z"
    }
   },
   "outputs": [],
   "source": [
    "# tt=[]\n",
    "# for _ in fu:\n",
    "#     tt.append(train_.loc[_]['PM10'])\n",
    "# tt"
   ]
  },
  {
   "cell_type": "code",
   "execution_count": 27,
   "id": "21e347a1",
   "metadata": {
    "ExecuteTime": {
     "end_time": "2022-07-01T13:25:51.594226Z",
     "start_time": "2022-07-01T13:25:51.589744Z"
    }
   },
   "outputs": [],
   "source": [
    "# real_data[(real_data['rental']>=100000)&(real_data['rental']<=140000)]['date'].unique()\n",
    "\n"
   ]
  },
  {
   "cell_type": "code",
   "execution_count": 28,
   "id": "ec59a6f6",
   "metadata": {
    "ExecuteTime": {
     "end_time": "2022-07-01T13:25:51.904040Z",
     "start_time": "2022-07-01T13:25:51.598105Z"
    }
   },
   "outputs": [
    {
     "data": {
      "text/html": [
       "<div>\n",
       "<style scoped>\n",
       "    .dataframe tbody tr th:only-of-type {\n",
       "        vertical-align: middle;\n",
       "    }\n",
       "\n",
       "    .dataframe tbody tr th {\n",
       "        vertical-align: top;\n",
       "    }\n",
       "\n",
       "    .dataframe thead th {\n",
       "        text-align: right;\n",
       "    }\n",
       "</style>\n",
       "<table border=\"1\" class=\"dataframe\">\n",
       "  <thead>\n",
       "    <tr style=\"text-align: right;\">\n",
       "      <th></th>\n",
       "      <th>rental</th>\n",
       "      <th>rental1</th>\n",
       "    </tr>\n",
       "  </thead>\n",
       "  <tbody>\n",
       "    <tr>\n",
       "      <th>0</th>\n",
       "      <td>33694.210938</td>\n",
       "      <td>22274</td>\n",
       "    </tr>\n",
       "    <tr>\n",
       "      <th>1</th>\n",
       "      <td>30953.312500</td>\n",
       "      <td>23631</td>\n",
       "    </tr>\n",
       "    <tr>\n",
       "      <th>2</th>\n",
       "      <td>25726.705078</td>\n",
       "      <td>21809</td>\n",
       "    </tr>\n",
       "    <tr>\n",
       "      <th>3</th>\n",
       "      <td>39651.042969</td>\n",
       "      <td>32957</td>\n",
       "    </tr>\n",
       "    <tr>\n",
       "      <th>4</th>\n",
       "      <td>33193.222656</td>\n",
       "      <td>29033</td>\n",
       "    </tr>\n",
       "    <tr>\n",
       "      <th>...</th>\n",
       "      <td>...</td>\n",
       "      <td>...</td>\n",
       "    </tr>\n",
       "    <tr>\n",
       "      <th>360</th>\n",
       "      <td>36225.605469</td>\n",
       "      <td>42521</td>\n",
       "    </tr>\n",
       "    <tr>\n",
       "      <th>361</th>\n",
       "      <td>39241.628906</td>\n",
       "      <td>51268</td>\n",
       "    </tr>\n",
       "    <tr>\n",
       "      <th>362</th>\n",
       "      <td>45443.742188</td>\n",
       "      <td>52017</td>\n",
       "    </tr>\n",
       "    <tr>\n",
       "      <th>363</th>\n",
       "      <td>38777.863281</td>\n",
       "      <td>48993</td>\n",
       "    </tr>\n",
       "    <tr>\n",
       "      <th>364</th>\n",
       "      <td>35932.535156</td>\n",
       "      <td>40604</td>\n",
       "    </tr>\n",
       "  </tbody>\n",
       "</table>\n",
       "<p>365 rows × 2 columns</p>\n",
       "</div>"
      ],
      "text/plain": [
       "           rental  rental1\n",
       "0    33694.210938    22274\n",
       "1    30953.312500    23631\n",
       "2    25726.705078    21809\n",
       "3    39651.042969    32957\n",
       "4    33193.222656    29033\n",
       "..            ...      ...\n",
       "360  36225.605469    42521\n",
       "361  39241.628906    51268\n",
       "362  45443.742188    52017\n",
       "363  38777.863281    48993\n",
       "364  35932.535156    40604\n",
       "\n",
       "[365 rows x 2 columns]"
      ]
     },
     "execution_count": 28,
     "metadata": {},
     "output_type": "execute_result"
    }
   ],
   "source": [
    "p1=pred[['rental']]\n",
    "p1['rental1']=real_data['rental']\n",
    "p1"
   ]
  },
  {
   "cell_type": "code",
   "execution_count": 29,
   "id": "3196eada",
   "metadata": {
    "ExecuteTime": {
     "end_time": "2022-07-01T13:25:52.538843Z",
     "start_time": "2022-07-01T13:25:51.910843Z"
    }
   },
   "outputs": [
    {
     "name": "stderr",
     "output_type": "stream",
     "text": [
      "No artists with labels found to put in legend.  Note that artists whose label start with an underscore are ignored when legend() is called with no argument.\n"
     ]
    },
    {
     "data": {
      "image/png": "[encoded data removed]",
      "text/plain": [
       "<Figure size 432x288 with 1 Axes>"
      ]
     },
     "metadata": {
      "needs_background": "light"
     },
     "output_type": "display_data"
    }
   ],
   "source": [
    "#vkfkd색이 예측값\n",
    "# 주황색이 실제값\n",
    "plt.scatter(p1.index,p1['rental'])\n",
    "plt.scatter(p1.index,p1['rental1'])\n",
    "plt.legend()\n",
    "plt.show()"
   ]
  },
  {
   "cell_type": "code",
   "execution_count": 30,
   "id": "01fc39d3",
   "metadata": {
    "ExecuteTime": {
     "end_time": "2022-07-01T13:25:52.717826Z",
     "start_time": "2022-07-01T13:25:52.579184Z"
    }
   },
   "outputs": [
    {
     "data": {
      "text/plain": [
       "33674665.8125"
      ]
     },
     "execution_count": 30,
     "metadata": {},
     "output_type": "execute_result"
    }
   ],
   "source": [
    "sum(pred['rental']*1.06)"
   ]
  },
  {
   "cell_type": "code",
   "execution_count": 31,
   "id": "8b09d6e0",
   "metadata": {
    "ExecuteTime": {
     "end_time": "2022-07-01T13:25:52.749877Z",
     "start_time": "2022-07-01T13:25:52.732050Z"
    }
   },
   "outputs": [
    {
     "data": {
      "text/plain": [
       "32054693"
      ]
     },
     "execution_count": 31,
     "metadata": {},
     "output_type": "execute_result"
    }
   ],
   "source": [
    "sum(real_data['rental'])"
   ]
  },
  {
   "cell_type": "code",
   "execution_count": 32,
   "id": "12eb9616",
   "metadata": {
    "ExecuteTime": {
     "end_time": "2022-07-01T13:25:53.773138Z",
     "start_time": "2022-07-01T13:25:52.762928Z"
    }
   },
   "outputs": [
    {
     "name": "stderr",
     "output_type": "stream",
     "text": [
      "No artists with labels found to put in legend.  Note that artists whose label start with an underscore are ignored when legend() is called with no argument.\n"
     ]
    },
    {
     "data": {
      "image/png": "[encoded data removed]",
      "text/plain": [
       "<Figure size 432x288 with 1 Axes>"
      ]
     },
     "metadata": {
      "needs_background": "light"
     },
     "output_type": "display_data"
    }
   ],
   "source": [
    "plt.legend()\n",
    "plt.show()"
   ]
  },
  {
   "cell_type": "code",
   "execution_count": null,
   "id": "8f18add4",
   "metadata": {},
   "outputs": [],
   "source": []
  }
 ],
 "metadata": {
  "kernelspec": {
   "display_name": "Python 3 (ipykernel)",
   "language": "python",
   "name": "python3"
  },
  "language_info": {
   "codemirror_mode": {
    "name": "ipython",
    "version": 3
   },
   "file_extension": ".py",
   "mimetype": "text/x-python",
   "name": "python",
   "nbconvert_exporter": "python",
   "pygments_lexer": "ipython3",
   "version": "3.9.9"
  },
  "toc": {
   "base_numbering": 1,
   "nav_menu": {},
   "number_sections": true,
   "sideBar": true,
   "skip_h1_title": false,
   "title_cell": "Table of Contents",
   "title_sidebar": "Contents",
   "toc_cell": false,
   "toc_position": {},
   "toc_section_display": true,
   "toc_window_display": false
  }
 },
 "nbformat": 4,
 "nbformat_minor": 5
}
