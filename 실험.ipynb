{
 "cells": [
  {
   "cell_type": "code",
   "execution_count": 1,
   "id": "f1196a26",
   "metadata": {
    "ExecuteTime": {
     "end_time": "2022-06-30T13:05:12.354163Z",
     "start_time": "2022-06-30T13:05:08.723849Z"
    }
   },
   "outputs": [],
   "source": [
    "import xgboost as xgb\n",
    "import matplotlib.pyplot as plt\n",
    "from sklearn.linear_model import LinearRegression\n",
    "from sklearn.preprocessing import QuantileTransformer\n",
    "from sklearn.model_selection import train_test_split\n",
    "import seaborn as sns\n",
    "import pandas as pd\n",
    "import numpy as np\n",
    "import warnings\n",
    "warnings.filterwarnings('ignore')"
   ]
  },
  {
   "cell_type": "code",
   "execution_count": 2,
   "id": "f5c7b5f8",
   "metadata": {
    "ExecuteTime": {
     "end_time": "2022-06-30T13:05:12.387440Z",
     "start_time": "2022-06-30T13:05:12.358164Z"
    }
   },
   "outputs": [],
   "source": [
    "def fill_nan(dataframe):\n",
    "    dataframe['precipitation'] = dataframe['precipitation'].fillna(0)\n",
    "    # dataframe = dataframe.dropna()\n",
    "    dataframe = dataframe.fillna(dataframe.mean())\n",
    "    return dataframe\n",
    "\n",
    "\n",
    "def seperate_datetime(dataframe):\n",
    "    week_list = []\n",
    "    year = []\n",
    "    month = []\n",
    "    for date in dataframe.date:\n",
    "        year_point, month_point, day_point = date.split('-')\n",
    "        year.append(int(year_point) - 2017)\n",
    "        month.append(int(month_point))\n",
    "    dataframe['year'] = year\n",
    "    dataframe['month'] = month\n",
    "    for day in dataframe['date']:\n",
    "        num = pd.date_range(day, day, freq='D').to_series()\n",
    "        week_list.append(int(num.dt.dayofweek[0]))\n",
    "    dataframe['day'] = week_list\n",
    "    dataframe = dataframe.drop(['date'], axis=1)\n",
    "    return dataframe\n",
    "\n",
    "\n",
    "def weekday_onehotcode(dataframe):\n",
    "    new = pd.DataFrame()\n",
    "    for i in range(0, 7):\n",
    "        a = dataframe[dataframe['day'] == i]\n",
    "        a['day'] = f'{i}'\n",
    "        new = pd.concat([new, a], axis=0)\n",
    "    new = pd.get_dummies(new)\n",
    "    return new\n",
    "\n",
    "\n",
    "def month_onehotcode(dataframe):\n",
    "    new = pd.DataFrame()\n",
    "    for i in range(1, 13):\n",
    "        a = dataframe[dataframe['month'] == i]\n",
    "        a['month'] = f'{i}'\n",
    "        new = pd.concat([new, a], axis=0)\n",
    "    new = pd.get_dummies(new)\n",
    "    return new\n",
    "\n",
    "\n",
    "\n",
    "def year_onehotcode(dataframe):\n",
    "    a = dataframe[dataframe['year'] == 1]\n",
    "    a['year'] = 'a'\n",
    "    b = dataframe[dataframe['year'] == 2]\n",
    "    b['year'] = 'b'\n",
    "    c = dataframe[dataframe['year'] == 3]\n",
    "    c['year'] = 'c'\n",
    "    dataframe = pd.concat([a, b, c], axis=0)\n",
    "    dataframe = pd.get_dummies(dataframe)\n",
    "    return dataframe\n",
    "\n",
    "def year_onehotcode_test(dataframe):\n",
    "    c = dataframe[dataframe['year'] == 4]\n",
    "    c['year'] = 'c'\n",
    "    dataframe = pd.get_dummies(dataframe)\n",
    "    dataframe['year_a'] = 0\n",
    "    dataframe['year_b'] = 0\n",
    "    return dataframe\n",
    "\n",
    "\n",
    "def rental_rate(dataframe):\n",
    "    y1 = dataframe[dataframe['year'] == 1]['rental'] * 2.3\n",
    "    y2 = dataframe[dataframe['year'] == 2]['rental'] * 1.2\n",
    "    y3 = dataframe[dataframe['year'] == 3]['rental']\n",
    "    new = pd.concat([y1, y2, y3], axis=0).to_frame()\n",
    "    dataframe['rental'] = new['rental']\n",
    "    return True\n",
    "\n",
    "\n",
    "def NMAE(true, pred):\n",
    "    score = np.mean(np.abs(true - pred) / true)\n",
    "    print(score)\n",
    "    return score\n",
    "\n",
    "\n",
    "def enter_week(dataframe):\n",
    "    w_list = [0.993, 1.049, 0.998, 1.013, 1.049, 0.994, 0.903]\n",
    "    for i in range(0, 7):\n",
    "        dataframe[dataframe['day'] == i] *= w_list[i]\n",
    "\n",
    "\n",
    "def enter_month(dataframe):\n",
    "    m_list = [0.324, 0.342, 0.646, 0.992, 1.264, 1.442, 1.001, 1.084, 1.475, 1.502, 1.032, 0.574]\n",
    "    for i in range(0, 12):\n",
    "        dataframe[dataframe['month'] == i+1] *= m_list[i]\n",
    "\n",
    "def enter_week_train(dataframe):\n",
    "    w_list = [0.993, 1.049, 0.998, 1.013, 1.049, 0.994, 0.903]\n",
    "    new = pd.DataFrame()\n",
    "    for i in range(0, 7):\n",
    "        a = pd.DataFrame()\n",
    "        a['rental'] = dataframe[dataframe['day'] == i]['rental'] / w_list[i]\n",
    "        new = pd.concat([new, a],axis=0)\n",
    "    return new\n",
    "\n",
    "def enter_month_train(dataframe):\n",
    "    m_list = [0.324, 0.342, 0.646, 0.992, 1.264, 1.442, 1.001, 1.084, 1.475, 1.502, 1.032, 0.574]\n",
    "    new = pd.DataFrame()\n",
    "    for i in range(1, 13):\n",
    "        a = pd.DataFrame()\n",
    "        a['rental'] = dataframe[dataframe['month'] == i]['rental'] / m_list[i]\n",
    "        new = pd.concat([new, a],axis=0)\n",
    "    return new\n",
    "\n"
   ]
  },
  {
   "cell_type": "code",
   "execution_count": 3,
   "id": "ef77e105",
   "metadata": {
    "ExecuteTime": {
     "end_time": "2022-06-30T13:05:12.405798Z",
     "start_time": "2022-06-30T13:05:12.397317Z"
    }
   },
   "outputs": [],
   "source": [
    "# bicycle = pd.read_csv('train.csv')\n",
    "# bicycle[\"rental\"] = np.log1p(bicycle[\"rental\"])\n",
    "# # bicycle['logrental'] = np.log1p(np.log1p(bicycle['rental']))\n",
    "# bicycle['sunshine_rate*100'] = bicycle['sunshine_rate']*100\n",
    "# bicycle['log1p_sunshine_rate*100'] = bicycle['sunshine_rate']**2\n",
    "\n",
    "# sns.pairplot(bicycle)\n",
    "# plt.show()"
   ]
  },
  {
   "cell_type": "code",
   "execution_count": 4,
   "id": "33b4f353",
   "metadata": {
    "ExecuteTime": {
     "end_time": "2022-06-30T13:05:28.570693Z",
     "start_time": "2022-06-30T13:05:12.411003Z"
    }
   },
   "outputs": [],
   "source": [
    "clist = ['temp_lowest*month_8','PM2.5*day_6', 'humidity*month_12']\n",
    "\n",
    "bicycle = pd.read_csv('train.csv')\n",
    "bicycle = seperate_datetime(bicycle)\n",
    "bicycle = fill_nan(bicycle)\n",
    "rental_rate(bicycle)\n",
    "# rental = enter_week_train(bicycle)\n",
    "# bicycle['rental'] = rental\n",
    "# print(bicycle)\n",
    "bicycle = weekday_onehotcode(bicycle)\n",
    "bicycle = month_onehotcode(bicycle)\n",
    "bicycle[\"rental\"] = np.log1p(bicycle[\"rental\"])\n",
    "\n",
    "\n",
    "# bicycle['sunshine_rate'] = bicycle['sunshine_rate']*100\n",
    "\n",
    "\n",
    "\n",
    "\n",
    "\n",
    "y = bicycle['rental']\n",
    "bicycle = bicycle.drop(['rental'], axis=1)\n",
    "\n",
    "# scaler1 = QuantileTransformer()\n",
    "# scaler2 = QuantileTransformer()\n",
    "# col___list = ['PM10','PM2.5','sunshine_rate','sunshine_sum','wind_max']\n",
    "# # col___list = bicycle.columns\n",
    "# scaler1.fit(bicycle[col___list])\n",
    "# X_train_scaled = scaler1.transform(bicycle[col___list])\n",
    "# bicycle[col___list] =X_train_scaled\n",
    "\n",
    "\n",
    "T = bicycle['temp_mean']  # 섭씨\n",
    "V = bicycle['wind_mean']  # 바람\n",
    "R = bicycle['humidity']  # 습도\n",
    "H = (bicycle['temp_mean'] * 1.8) + 32  # 화씨\n",
    "feel_degree = 13.12 + 0.6215 * T - 11.37 * V**0.16 + 0.3965 * V**0.16\n",
    "badfeel_degree = 9/5 * T - 0.55 * (1 - R/100) * (9/5 * T - 26) + 32\n",
    "\n",
    "\n",
    "# heat_degree = -42.379 + 2.05901523 * H + 10.14333127 * R - 0.22475541 * H * R - 6.83783 * 10**-3 * H**2 - 5.481717 * 10**-2 * R**2 + 1.22874 * 10**-3 * H**2 * R + 8.5282 * 10**-4 * H * R**2 - 1.99 * 10**-6 * H**2 * R**2\n",
    "heat_degree = -42.379 + 2.05901523 * H + 10.14333127 * R/100 - 0.22475541 * H * R/100 - 6.83783 * 10**-3 * H**2 - 5.481717 * 10**-2 * R/100**2 + 1.22874 * 10**-3 * H**2 * R/100 + 8.5282 * 10**-4 * H * R**2 - 1.99 * 10**-6 * H**2 * R/100**2\n",
    "\n",
    "bicycle['dust'] = bicycle['PM10'] * bicycle['PM2.5']\n",
    "bicycle['temp_ratio'] = abs(bicycle['temp_highest'] - bicycle['temp_lowest'])\n",
    "\n",
    "# bicycle['sunshine_sum'] = bicycle['sunshine_sum'].fillna(method = 'bfill')\n",
    "bicycle['daytime'] = bicycle['sunshine_rate'] / bicycle['sunshine_sum']\n",
    "bicycle['daytime'] = bicycle['daytime'].fillna(method='bfill')\n",
    "\n",
    "\n",
    "# bicycle['cold_feel'] = bicycle['wind_max'] * bicycle['temp_lowest']\n",
    "\n",
    "bicycle['feel_degree'] = feel_degree\n",
    "bicycle['badfeel_degree'] = badfeel_degree\n",
    "\n",
    "\n",
    "\n",
    "# pm10=bicycle['PM10'].tolist()\n",
    "# pm2=bicycle['PM2.5'].tolist()\n",
    "# pm2\n",
    "# pm_=[]\n",
    "# for i in range(len(pm2)):\n",
    "#     if(pm10[i]<=30 or pm2[i]<=15):\n",
    "#         pm_.append(1)\n",
    "#     elif((pm10[i]<=80 and pm10[i]>30) or (pm2[i] >=16 and pm2[i]<=50)):\n",
    "#         pm_.append(2)\n",
    "#     elif((pm10[i]<=150 and pm10[i]>80) or  (pm2[i]>50 and pm2[i]<=100)):\n",
    "#         pm_.append(3)\n",
    "#     elif(pm10[i]>=150 or pm2[i]>100):\n",
    "#         pm_.append(4)\n",
    "    \n",
    "# len(pm_)\n",
    "\n",
    "# bicycle['pm']=pm_\n",
    "\n",
    "\n",
    "\n",
    "\n",
    "\n",
    "\n",
    "# bicycle = bicycle.drop(['sunshine_sum'],axis =1)\n",
    "\n",
    "\n",
    "col_list = list(bicycle.columns)\n",
    "for i in range(len(col_list)):\n",
    "    for j in range(i, len(col_list)):\n",
    "        bicycle[f'{col_list[i]}*{col_list[j]}'] = bicycle[col_list[i]] * bicycle[col_list[j]]\n",
    "\n",
    "for i in range(len(col_list)):\n",
    "    for j in range(i, len(col_list)):\n",
    "        bicycle[f'{col_list[i]}+{col_list[j]}'] = bicycle[col_list[i]] + bicycle[col_list[j]]\n",
    "\n",
    "for i in range(len(col_list)):\n",
    "    for j in range(i, len(col_list)):\n",
    "        bicycle[f'{col_list[i]}-{col_list[j]}'] = bicycle[col_list[i]] - bicycle[col_list[j]]\n",
    "  \n",
    "        \n",
    "bicycle = bicycle.drop(['sunshine_sum'],axis =1)\n",
    "bicycle = bicycle.drop(['sunshine_rate'], axis =1)"
   ]
  },
  {
   "cell_type": "code",
   "execution_count": 5,
   "id": "da1d765e",
   "metadata": {
    "ExecuteTime": {
     "end_time": "2022-06-30T13:05:28.584324Z",
     "start_time": "2022-06-30T13:05:28.574100Z"
    }
   },
   "outputs": [],
   "source": [
    "# bicycle = bicycle.drop(clist, axis=1)\n",
    "x = bicycle"
   ]
  },
  {
   "cell_type": "code",
   "execution_count": 6,
   "id": "d2d4ac98",
   "metadata": {
    "ExecuteTime": {
     "end_time": "2022-06-30T13:05:28.598856Z",
     "start_time": "2022-06-30T13:05:28.593234Z"
    }
   },
   "outputs": [],
   "source": [
    "# bicycle_test = pd.read_csv('test.csv')\n",
    "# bicycle_test.isnull().sum()"
   ]
  },
  {
   "cell_type": "code",
   "execution_count": 7,
   "id": "3d6680fc",
   "metadata": {
    "ExecuteTime": {
     "end_time": "2022-06-30T13:05:44.630132Z",
     "start_time": "2022-06-30T13:05:28.609148Z"
    }
   },
   "outputs": [],
   "source": [
    "bicycle_test = pd.read_csv('test.csv')\n",
    "bicycle_test_date = bicycle_test['date']\n",
    "bicycle_test = seperate_datetime(bicycle_test)\n",
    "bicycle_test = fill_nan(bicycle_test)  # 바로 뒤에 값으로 결측치를 채우므로 seperate 밑이 와야함\n",
    "bicycle_test = weekday_onehotcode(bicycle_test)\n",
    "bicycle_test = month_onehotcode(bicycle_test)\n",
    "bicycle_test = bicycle_test.sort_index()\n",
    "\n",
    "\n",
    "# bicycle_test['sunshine_rate'] = bicycle['sunshine_rate']*100\n",
    "\n",
    "\n",
    "# scaler2.fit(bicycle_test[col___list])\n",
    "# X_train_scaled = scaler2.transform(bicycle_test[col___list])\n",
    "# bicycle_test[col___list] =X_train_scaled\n",
    "\n",
    "\n",
    "\n",
    "T = bicycle_test['temp_mean']  # 섭씨\n",
    "V = bicycle_test['wind_mean']  # 바람\n",
    "R = bicycle_test['humidity']  # 습도\n",
    "H = (bicycle_test['temp_mean'] * 1.8) + 32  # 화씨\n",
    "# 체감 온도\n",
    "feel_degree = 13.12 + 0.6215 * T - 11.37 * V**0.16 + 0.3965 * V**0.16\n",
    "\n",
    "badfeel_degree = 9/5 * T - 0.55 * (1 - R/100) * (9/5 * T - 26) + 32\n",
    "\n",
    "# heat_degree = -42.379 + 2.05901523 * H + 10.14333127 * R - 0.22475541 * H * R - 6.83783 * 10**-3 * H**2 - 5.481717 * 10**-2 * R**2 + 1.22874 * 10**-3 * H**2 * R + 8.5282 * 10**-4 * H * R**2 - 1.99 * 10**-6 * H**2 * R**2\n",
    "heat_degree = -42.379 + 2.05901523 * H + 10.14333127 * R/100 - 0.22475541 * H * R/100 - 6.83783 * 10**-3 * H**2 - 5.481717 * 10**-2 * R/100**2 + 1.22874 * 10**-3 * H**2 * R/100 + 8.5282 * 10**-4 * H * R**2 - 1.99 * 10**-6 * H**2 * R/100**2\n",
    "\n",
    "\n",
    "bicycle_test['dust'] = bicycle_test['PM10'] * bicycle_test['PM2.5']\n",
    "bicycle_test['temp_ratio'] = abs(bicycle_test['temp_highest'] - bicycle_test['temp_lowest'])\n",
    "\n",
    "\n",
    "# bicycle_test['cold_feel'] = bicycle_test['wind_max'] * bicycle_test['temp_lowest']\n",
    "\n",
    "\n",
    "# bicycle_test['sunshine_sum'] = bicycle_test['sunshine_sum'].fillna(method = 'bfill')\n",
    "\n",
    "bicycle_test['daytime'] = bicycle_test['sunshine_rate'] / bicycle_test['sunshine_sum']\n",
    "bicycle_test['feel_degree'] = feel_degree\n",
    "bicycle_test['daytime'] = bicycle_test['daytime'].fillna(method='bfill')\n",
    "bicycle_test['badfeel_degree'] = badfeel_degree\n",
    "\n",
    "\n",
    "# pm10=bicycle_test['PM10'].tolist()\n",
    "# pm2=bicycle_test['PM2.5'].tolist()\n",
    "# pm2\n",
    "# pm_=[]\n",
    "# for i in range(len(pm2)):\n",
    "#     if(pm10[i]<=30 or pm2[i]<=15):\n",
    "#         pm_.append(1)\n",
    "#     elif((pm10[i]<=80 and pm10[i]>30) or (pm2[i] >=16 and pm2[i]<=50)):\n",
    "#         pm_.append(2)\n",
    "#     elif((pm10[i]<=150 and pm10[i]>80) or  (pm2[i]>50 and pm2[i]<=100)):\n",
    "#         pm_.append(3)\n",
    "#     elif(pm10[i]>=150 or pm2[i]>100):\n",
    "#         pm_.append(4)\n",
    "    \n",
    "# len(pm_)\n",
    "\n",
    "# bicycle_test['pm']=pm_\n",
    "\n",
    "\n",
    "\n",
    "\n",
    "\n",
    "# bicycle_test['cold_feel'] = bicycle_test['']\n",
    "\n",
    "# bicycle_test = bicycle_test.drop(['sunshine_sum'], axis = 1)\n",
    "\n",
    "\n",
    "col_list = list(bicycle_test.columns)\n",
    "for i in range(len(col_list)):\n",
    "    for j in range(i, len(col_list)):\n",
    "        bicycle_test[f'{col_list[i]}*{col_list[j]}'] = bicycle_test[col_list[i]] * bicycle_test[col_list[j]]\n",
    "        \n",
    "for i in range(len(col_list)):\n",
    "    for j in range(i, len(col_list)):\n",
    "        bicycle_test[f'{col_list[i]}+{col_list[j]}'] = bicycle_test[col_list[i]] + bicycle_test[col_list[j]]\n",
    "\n",
    "for i in range(len(col_list)):\n",
    "    for j in range(i, len(col_list)):\n",
    "        bicycle_test[f'{col_list[i]}-{col_list[j]}'] = bicycle_test[col_list[i]] - bicycle_test[col_list[j]]\n",
    "\n",
    "\n",
    "        \n",
    "        \n",
    "        \n",
    "bicycle_test = bicycle_test.drop(['sunshine_sum'], axis = 1)\n",
    "bicycle_test = bicycle_test.drop(['sunshine_rate'], axis =1)"
   ]
  },
  {
   "cell_type": "code",
   "execution_count": null,
   "id": "d938b847",
   "metadata": {},
   "outputs": [],
   "source": []
  },
  {
   "cell_type": "code",
   "execution_count": 8,
   "id": "1172fdcb",
   "metadata": {
    "ExecuteTime": {
     "end_time": "2022-06-30T13:05:44.666657Z",
     "start_time": "2022-06-30T13:05:44.656682Z"
    }
   },
   "outputs": [],
   "source": [
    "# bicycle_test = bicycle_test.drop(clist, axis=1)\n",
    "x2 = bicycle_test\n",
    "\n",
    "X_train = x\n",
    "y_train = y\n",
    "X_test = x2"
   ]
  },
  {
   "cell_type": "code",
   "execution_count": 9,
   "id": "a0a2aa1d",
   "metadata": {
    "ExecuteTime": {
     "end_time": "2022-06-30T13:05:44.690633Z",
     "start_time": "2022-06-30T13:05:44.676357Z"
    },
    "scrolled": true
   },
   "outputs": [],
   "source": [
    "# print(X_train.shape)\n",
    "# for i in range(len(X_train)):\n",
    "#     print(X_train.columns[i])"
   ]
  },
  {
   "cell_type": "code",
   "execution_count": 10,
   "id": "59989538",
   "metadata": {
    "ExecuteTime": {
     "end_time": "2022-06-30T13:05:44.723415Z",
     "start_time": "2022-06-30T13:05:44.708980Z"
    }
   },
   "outputs": [],
   "source": [
    "# X_test = X_test.drop(['year+year'], axis =1)\n",
    "# X_train = X_train.drop(['year+year'], axis =1)"
   ]
  },
  {
   "cell_type": "code",
   "execution_count": 11,
   "id": "9f137dc2",
   "metadata": {
    "ExecuteTime": {
     "end_time": "2022-06-30T13:05:44.762410Z",
     "start_time": "2022-06-30T13:05:44.750009Z"
    }
   },
   "outputs": [],
   "source": [
    "# X_test = X_test.drop(['year+year','year+day_0', 'year+day_1','year+day_2','year+day_3','year+day_4',\n",
    "#                      'year+day_5','year+day_6'], axis =1)\n",
    "\n",
    "\n",
    "# X_train = X_train.drop(['year+year','year+day_0', 'year+day_1','year+day_2','year+day_3','year+day_4',\n",
    "#                      'year+day_5','year+day_6'], axis =1)\n",
    "\n"
   ]
  },
  {
   "cell_type": "code",
   "execution_count": 12,
   "id": "c6189f53",
   "metadata": {
    "ExecuteTime": {
     "end_time": "2022-06-30T13:10:33.997041Z",
     "start_time": "2022-06-30T13:05:44.768731Z"
    },
    "scrolled": false
   },
   "outputs": [
    {
     "name": "stdout",
     "output_type": "stream",
     "text": [
      "1309 [('month_10', 1.0), ('month_8', 1.0), ('precipitation*humidity', 1.0), ('precipitation*daytime', 1.0), ('precipitation*feel_degree', 1.0), ('temp_highest*month_1', 1.0), ('temp_lowest*badfeel_degree', 1.0), ('PM10*month_6', 1.0), ('PM2.5*day_6', 1.0), ('PM2.5*month_12', 1.0), ('PM2.5*month_3', 1.0), ('PM2.5*month_8', 1.0), ('sunshine_sum*month_7', 1.0), ('sunshine_rate*day_6', 1.0), ('wind_mean*month_12', 1.0), ('wind_max*month_7', 1.0), ('year*day_1', 1.0), ('year*month_1', 1.0), ('year*month_3', 1.0), ('year*month_4', 1.0), ('year*month_7', 1.0), ('year*month_9', 1.0), ('day_0*month_11', 1.0), ('day_0*month_2', 1.0), ('day_2*month_12', 1.0), ('day_2*badfeel_degree', 1.0), ('day_3*month_3', 1.0), ('day_3*month_4', 1.0), ('day_5*month_9', 1.0), ('day_5*dust', 1.0), ('day_6*month_3', 1.0), ('day_6*feel_degree', 1.0), ('day_6*badfeel_degree', 1.0), ('month_10*temp_ratio', 1.0), ('month_10*badfeel_degree', 1.0), ('month_11*feel_degree', 1.0), ('month_3*dust', 1.0), ('month_4*dust', 1.0), ('month_5*badfeel_degree', 1.0), ('month_7*feel_degree', 1.0), ('month_7*badfeel_degree', 1.0), ('month_9*dust', 1.0), ('feel_degree*badfeel_degree', 1.0), ('precipitation+month_10', 1.0), ('precipitation+month_12', 1.0), ('precipitation+dust', 1.0), ('temp_mean+day_2', 1.0), ('temp_mean+day_3', 1.0), ('temp_mean+day_4', 1.0), ('temp_mean+month_11', 1.0), ('temp_mean+month_4', 1.0), ('temp_mean+daytime', 1.0), ('temp_mean+badfeel_degree', 1.0), ('temp_highest+day_3', 1.0), ('temp_highest+day_6', 1.0), ('temp_highest+month_11', 1.0), ('temp_highest+month_12', 1.0), ('temp_highest+month_2', 1.0), ('temp_lowest+day_0', 1.0), ('temp_lowest+month_6', 1.0), ('temp_lowest+month_7', 1.0), ('temp_lowest+month_8', 1.0), ('temp_lowest+feel_degree', 1.0), ('PM10+day_2', 1.0), ('PM10+day_5', 1.0), ('PM10+month_5', 1.0), ('PM2.5+day_1', 1.0), ('PM2.5+day_2', 1.0), ('PM2.5+day_3', 1.0), ('PM2.5+month_11', 1.0), ('humidity+wind_mean', 1.0), ('humidity+day_6', 1.0), ('humidity+month_1', 1.0), ('humidity+month_10', 1.0), ('humidity+month_2', 1.0), ('humidity+month_3', 1.0), ('humidity+month_4', 1.0), ('humidity+month_6', 1.0), ('humidity+month_9', 1.0), ('sunshine_sum+dust', 1.0), ('sunshine_rate+month_1', 1.0), ('sunshine_rate+month_12', 1.0), ('sunshine_rate+month_2', 1.0), ('sunshine_rate+month_9', 1.0), ('wind_mean+feel_degree', 1.0), ('wind_max+dust', 1.0), ('year+month_10', 1.0), ('year+month_12', 1.0), ('year+month_5', 1.0), ('year+month_7', 1.0), ('day_0+month_10', 1.0), ('day_0+month_11', 1.0), ('day_0+month_12', 1.0), ('day_0+month_3', 1.0), ('day_0+month_5', 1.0), ('day_0+month_7', 1.0), ('day_1+month_9', 1.0), ('day_2+month_2', 1.0), ('day_2+month_3', 1.0), ('day_2+month_6', 1.0), ('day_2+month_8', 1.0), ('day_3+month_2', 1.0), ('day_3+month_5', 1.0), ('day_3+month_6', 1.0), ('day_3+month_7', 1.0), ('day_3+month_9', 1.0), ('day_3+badfeel_degree', 1.0), ('day_4+month_1', 1.0), ('day_4+month_4', 1.0), ('day_5+month_11', 1.0), ('day_5+month_12', 1.0), ('day_5+month_3', 1.0), ('day_5+month_4', 1.0), ('day_5+month_5', 1.0), ('day_5+month_7', 1.0), ('day_5+month_9', 1.0), ('day_6+month_4', 1.0), ('day_6+month_7', 1.0), ('day_6+month_8', 1.0), ('day_6+month_9', 1.0), ('month_1+month_10', 1.0), ('month_1+month_11', 1.0), ('month_1+month_7', 1.0), ('month_1+month_9', 1.0), ('month_10+month_12', 1.0), ('month_10+month_4', 1.0), ('month_10+month_5', 1.0), ('month_10+month_7', 1.0), ('month_10+month_8', 1.0), ('month_10+feel_degree', 1.0), ('month_11+month_4', 1.0), ('month_11+month_7', 1.0), ('month_11+month_9', 1.0), ('month_11+feel_degree', 1.0), ('month_12+month_2', 1.0), ('month_12+month_6', 1.0), ('month_12+month_8', 1.0), ('month_12+daytime', 1.0), ('month_12+feel_degree', 1.0), ('month_2+month_6', 1.0), ('month_2+badfeel_degree', 1.0), ('month_4+month_6', 1.0), ('month_4+daytime', 1.0), ('month_5+month_6', 1.0), ('month_5+month_7', 1.0), ('month_5+feel_degree', 1.0), ('month_6+month_8', 1.0), ('month_8+feel_degree', 1.0), ('dust+badfeel_degree', 1.0), ('precipitation-day_0', 1.0)]\n"
     ]
    }
   ],
   "source": [
    "# xg_reg = xgb.XGBRegressor(objective='reg:squarederror', learning_rate=0.05, max_depth=10, n_estimators=1000)  # 나중에 늘리기 1000으로\n",
    "# xg_reg = xgb.XGBRegressor(objective='reg:squarederror', learning_rate=0.08, max_depth=9, n_estimators=1000)  # 나중에 늘리기 1000으로\n",
    "xg_reg = xgb.XGBRegressor(objective='reg:squarederror', learning_rate=0.08, max_depth=9, n_estimators=2000)  # 나중에 늘리기 1000으로\n",
    "# xg_reg = xgb.XGBRegressor(objective='reg:squarederror', learning_rate=0.1, max_depth=4, n_estimators=1000)  # 나중에 늘리기 1000으로\n",
    "xg_reg.fit(X_train, y_train)\n",
    "pred = xg_reg.predict(X_test)\n",
    "# xgb.plot_importance(xg_reg, max_num_features=10)\n",
    "# plt.show()\n",
    "\n",
    "feature_important = xg_reg.get_booster().get_score(importance_type='weight')\n",
    "keys = list(feature_important.keys())\n",
    "values = list(feature_important.values())\n",
    "feature_dic = {}\n",
    "for i in range(len(keys)):\n",
    "    feature_dic[keys[i]] = values[i]\n",
    "feature_list = sorted(feature_dic.items(),key=lambda x:x[1])\n",
    "print(len(feature_list),feature_list[:150])\n",
    "\n",
    "pred = pd.DataFrame(pred, columns=['rental'])\n",
    "pred = np.expm1(pred) * 1.3\n",
    "result = pd.concat([bicycle_test_date, pred],axis=1)\n",
    "result = seperate_datetime(result)\n",
    "enter_week(result)\n",
    "# enter_month(result)\n",
    "result = pd.concat([bicycle_test_date, result['rental']],axis=1)\n",
    "\n",
    "\n",
    "\n"
   ]
  },
  {
   "cell_type": "code",
   "execution_count": null,
   "id": "2d5515d0",
   "metadata": {},
   "outputs": [],
   "source": []
  },
  {
   "cell_type": "code",
   "execution_count": null,
   "id": "ac23865e",
   "metadata": {},
   "outputs": [],
   "source": []
  },
  {
   "cell_type": "code",
   "execution_count": null,
   "id": "4e09d0a8",
   "metadata": {},
   "outputs": [],
   "source": []
  },
  {
   "cell_type": "code",
   "execution_count": 13,
   "id": "b3c1bbdd",
   "metadata": {
    "ExecuteTime": {
     "end_time": "2022-06-30T13:10:34.295661Z",
     "start_time": "2022-06-30T13:10:34.121416Z"
    }
   },
   "outputs": [],
   "source": [
    "def NMAE(true, pred):\n",
    "    score = np.mean(np.abs(true-pred) / true)\n",
    "    return score\n",
    "real_data = pd.read_csv('real_data.csv')\n",
    "\n"
   ]
  },
  {
   "cell_type": "code",
   "execution_count": 14,
   "id": "8bc47ac9",
   "metadata": {
    "ExecuteTime": {
     "end_time": "2022-06-30T13:10:34.422718Z",
     "start_time": "2022-06-30T13:10:34.316053Z"
    }
   },
   "outputs": [
    {
     "data": {
      "text/plain": [
       "0.18304154950070994"
      ]
     },
     "execution_count": 14,
     "metadata": {},
     "output_type": "execute_result"
    }
   ],
   "source": [
    "NMAE(real_data['rental'],pred['rental'])\n",
    "\n",
    "#0.18199052347862546 sunshine no drop\n",
    "#0.1819752971190777 sunshine drop\n",
    "#0.18266045836373543\n",
    "#0.1802590496585229 scaling 뺐을때\n",
    "#0.199~~  # - 하는거 뺐을 때\n",
    "#0.20567896546721867 강수량 제곱했을때\n",
    "# log sunrate*100 0.20\n",
    "#0.18020755272067054 sunshine_rate 도 제거\n",
    "#0.22030484857290394\n",
    "#0.20472525736510752\n",
    "#0.39484719232903847\n",
    "#0.1802590496585229\n",
    "#0.18199052347862546"
   ]
  },
  {
   "cell_type": "code",
   "execution_count": 15,
   "id": "ef5b142d",
   "metadata": {
    "ExecuteTime": {
     "end_time": "2022-06-30T13:10:34.482725Z",
     "start_time": "2022-06-30T13:10:34.444096Z"
    }
   },
   "outputs": [],
   "source": [
    "result.to_csv('4hello.csv',index=False)"
   ]
  },
  {
   "cell_type": "code",
   "execution_count": null,
   "id": "6ca1e1d6",
   "metadata": {},
   "outputs": [],
   "source": []
  },
  {
   "cell_type": "code",
   "execution_count": null,
   "id": "2e46f623",
   "metadata": {},
   "outputs": [],
   "source": []
  }
 ],
 "metadata": {
  "kernelspec": {
   "display_name": "Python 3 (ipykernel)",
   "language": "python",
   "name": "python3"
  },
  "language_info": {
   "codemirror_mode": {
    "name": "ipython",
    "version": 3
   },
   "file_extension": ".py",
   "mimetype": "text/x-python",
   "name": "python",
   "nbconvert_exporter": "python",
   "pygments_lexer": "ipython3",
   "version": "3.9.9"
  },
  "toc": {
   "base_numbering": 1,
   "nav_menu": {},
   "number_sections": true,
   "sideBar": true,
   "skip_h1_title": false,
   "title_cell": "Table of Contents",
   "title_sidebar": "Contents",
   "toc_cell": false,
   "toc_position": {},
   "toc_section_display": true,
   "toc_window_display": false
  }
 },
 "nbformat": 4,
 "nbformat_minor": 5
}
